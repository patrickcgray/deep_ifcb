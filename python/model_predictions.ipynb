{
 "cells": [
  {
   "cell_type": "markdown",
   "metadata": {},
   "source": [
    "# Applying the Model"
   ]
  },
  {
   "cell_type": "code",
   "execution_count": 1,
   "metadata": {},
   "outputs": [],
   "source": [
    "import pandas as pd\n",
    "import geopandas as gpd\n",
    "import matplotlib.pyplot as plt"
   ]
  },
  {
   "cell_type": "code",
   "execution_count": 2,
   "metadata": {},
   "outputs": [],
   "source": [
    "#img_md_subset = pd.read_csv('../../../Data/all_images_231020.csv')"
   ]
  },
  {
   "cell_type": "markdown",
   "metadata": {},
   "source": [
    "Now we're running the model on new data that hasn't had all the easy classes pulled from it"
   ]
  },
  {
   "cell_type": "code",
   "execution_count": null,
   "metadata": {},
   "outputs": [],
   "source": [
    "import glob, os\n",
    "\n",
    "tsv_list = []\n",
    "for file in glob.glob(\"../../../Data/fresh_data_012121/preserved/all_imagery/*.tsv\", recursive=True):\n",
    "    tsv_list.append(file)\n",
    "    \n",
    "print(len(tsv_list))"
   ]
  },
  {
   "cell_type": "code",
   "execution_count": null,
   "metadata": {
    "scrolled": true
   },
   "outputs": [],
   "source": [
    "img_md_subset = pd.read_csv(tsv_list[0], sep='\\t').iloc[1:][['object_id', 'sample_flag', 'object_lat', 'object_lon', 'object_date', 'object_time', 'object_peak_fluorescence', 'object_peak_scattering', 'object_equiv_diameter']]\n",
    "\n",
    "for tsv in tsv_list[1:]:\n",
    "    df_to_add = pd.read_csv(tsv, sep='\\t').iloc[1:][['object_id', 'sample_flag', 'object_lat', 'object_lon', 'object_date', 'object_time', 'object_peak_fluorescence', 'object_peak_scattering', 'object_equiv_diameter']]\n",
    "    img_md_subset = img_md_subset.append(df_to_add, ignore_index=True)"
   ]
  },
  {
   "cell_type": "code",
   "execution_count": null,
   "metadata": {},
   "outputs": [],
   "source": [
    "len(img_md_subset)"
   ]
  },
  {
   "cell_type": "code",
   "execution_count": null,
   "metadata": {},
   "outputs": [],
   "source": [
    "img_md_subset.columns"
   ]
  },
  {
   "cell_type": "code",
   "execution_count": 4,
   "metadata": {},
   "outputs": [],
   "source": [
    "#img_md_subset.to_csv('../../../Data/fresh_data_012121/preserved/ifcb_ecotaxa_subset_012421.csv')\n",
    "img_md_subset = pd.read_csv('../../../Data/fresh_data_012121/preserved/ifcb_ecotaxa_subset_012421.csv')"
   ]
  },
  {
   "cell_type": "code",
   "execution_count": 5,
   "metadata": {},
   "outputs": [
    {
     "name": "stderr",
     "output_type": "stream",
     "text": [
      "Using TensorFlow backend.\n"
     ]
    },
    {
     "data": {
      "text/plain": [
       "['/job:localhost/replica:0/task:0/device:GPU:0']"
      ]
     },
     "execution_count": 5,
     "metadata": {},
     "output_type": "execute_result"
    }
   ],
   "source": [
    "from keras import backend as K\n",
    "K.tensorflow_backend._get_available_gpus()"
   ]
  },
  {
   "cell_type": "code",
   "execution_count": 6,
   "metadata": {},
   "outputs": [],
   "source": [
    "import glob, os\n",
    "\n",
    "file_dir = '../../../Data/fresh_data_012121/preserved/all_imagery/'\n",
    "\n",
    "os.chdir(file_dir)"
   ]
  },
  {
   "cell_type": "code",
   "execution_count": 7,
   "metadata": {},
   "outputs": [
    {
     "name": "stdout",
     "output_type": "stream",
     "text": [
      "1630853\n"
     ]
    },
    {
     "data": {
      "text/plain": [
       "1630853"
      ]
     },
     "execution_count": 7,
     "metadata": {},
     "output_type": "execute_result"
    }
   ],
   "source": [
    "fn_list = []\n",
    "\n",
    "for file in glob.glob(\"*.png\"):\n",
    "    fn_list.append(file)\n",
    "    \n",
    "print(len(fn_list))\n",
    "\n",
    "fn_edit = [x[:-4] for x in fn_list]\n",
    "\n",
    "available_subset = img_md_subset[img_md_subset['object_id'].isin(fn_edit)]\n",
    "len(available_subset)"
   ]
  },
  {
   "cell_type": "code",
   "execution_count": 8,
   "metadata": {},
   "outputs": [
    {
     "data": {
      "text/plain": [
       "0.01393188"
      ]
     },
     "execution_count": 8,
     "metadata": {},
     "output_type": "execute_result"
    }
   ],
   "source": [
    "import sys\n",
    " \n",
    "sys.getsizeof(fn_edit) / 1e9"
   ]
  },
  {
   "cell_type": "code",
   "execution_count": 9,
   "metadata": {},
   "outputs": [],
   "source": [
    "del fn_edit"
   ]
  },
  {
   "cell_type": "code",
   "execution_count": 10,
   "metadata": {},
   "outputs": [],
   "source": [
    "del img_md_subset"
   ]
  },
  {
   "cell_type": "code",
   "execution_count": 11,
   "metadata": {},
   "outputs": [
    {
     "data": {
      "text/plain": [
       "['Amphiprora',\n",
       " 'Banquisia belgicae',\n",
       " 'Chaetoceros single',\n",
       " 'Chaetoceros<Mediophyceae',\n",
       " 'Ciliophora',\n",
       " 'Corethron',\n",
       " 'Cryptophyta',\n",
       " 'Cylindrotheca',\n",
       " 'Dactyliosolen',\n",
       " 'Dictyochales',\n",
       " 'Dinophyceae',\n",
       " 'Eucampia',\n",
       " 'Eucampia chain',\n",
       " 'Gymnodinium',\n",
       " 'Gyrodinium',\n",
       " 'Katodinium',\n",
       " 'Licmophora',\n",
       " 'Membraneis',\n",
       " 'Navicula',\n",
       " 'Nitzschia frigida',\n",
       " 'Odontella sp.',\n",
       " 'Phaeocystis',\n",
       " 'Proboscia sp.',\n",
       " 'Pseudo-Nitzschia chain',\n",
       " 'Pyramimonas',\n",
       " 'Rhizosolenia',\n",
       " 'Tintinnida',\n",
       " 'Warnowia',\n",
       " 'badfocus<artefact',\n",
       " 'bead',\n",
       " 'bubble',\n",
       " 'centric',\n",
       " 'centric 1 temp',\n",
       " 'centric 2 temp',\n",
       " 'centric 3 temp',\n",
       " 'centric 4 temp',\n",
       " 'centric 6 temp',\n",
       " 'chain<centric',\n",
       " 'chain<pennate',\n",
       " 'detritus',\n",
       " 'dinoflagellate-i',\n",
       " 'dinoflagellate-ii',\n",
       " 'dinoflagellate-iii',\n",
       " 'multiple<other',\n",
       " 'pennate 1 temp',\n",
       " 'pennate 10 temp',\n",
       " 'pennate 11 temp',\n",
       " 'pennate 2 temp',\n",
       " 'pennate 7 temp',\n",
       " 'pennate<Bacillariophyta',\n",
       " 't002',\n",
       " 't005',\n",
       " 't006',\n",
       " 't007',\n",
       " 't009',\n",
       " 't012',\n",
       " 't013',\n",
       " 't019',\n",
       " 't020',\n",
       " 'temp cylindrotheca']"
      ]
     },
     "execution_count": 11,
     "metadata": {},
     "output_type": "execute_result"
    }
   ],
   "source": [
    "class_id_dict = {'Amphiprora': 0,\n",
    " 'Banquisia belgicae': 1,\n",
    " 'Chaetoceros single': 2,\n",
    " 'Chaetoceros<Mediophyceae': 3,\n",
    " 'Ciliophora': 4,\n",
    " 'Corethron': 5,\n",
    " 'Cryptophyta': 6,\n",
    " 'Cylindrotheca': 7,\n",
    " 'Dactyliosolen': 8,\n",
    " 'Dictyochales': 9,\n",
    " 'Dinophyceae': 10,\n",
    " 'Eucampia': 11,\n",
    " 'Eucampia chain': 12,\n",
    " 'Gymnodinium': 13,\n",
    " 'Gyrodinium': 14,\n",
    " 'Katodinium': 15,\n",
    " 'Licmophora': 16,\n",
    " 'Membraneis': 17,\n",
    " 'Navicula': 18,\n",
    " 'Nitzschia frigida': 19,\n",
    " 'Odontella sp.': 20,\n",
    " 'Phaeocystis': 21,\n",
    " 'Proboscia sp.': 22,\n",
    " 'Pseudo-Nitzschia chain': 23,\n",
    " 'Pyramimonas': 24,\n",
    " 'Rhizosolenia': 25,\n",
    " 'Tintinnida': 26,\n",
    " 'Warnowia': 27,\n",
    " 'badfocus<artefact': 28,\n",
    " 'bead': 29,\n",
    " 'bubble': 30,\n",
    " 'centric': 31,\n",
    " 'centric 1 temp': 32,\n",
    " 'centric 2 temp': 33,\n",
    " 'centric 3 temp': 34,\n",
    " 'centric 4 temp': 35,\n",
    " 'centric 6 temp': 36,\n",
    " 'chain<centric': 37,\n",
    " 'chain<pennate': 38,\n",
    " 'detritus': 39,\n",
    " 'dinoflagellate-i': 40,\n",
    " 'dinoflagellate-ii': 41,\n",
    " 'dinoflagellate-iii': 42,\n",
    " 'multiple<other': 43,\n",
    " 'pennate 1 temp': 44,\n",
    " 'pennate 10 temp': 45,\n",
    " 'pennate 11 temp': 46,\n",
    " 'pennate 2 temp': 47,\n",
    " 'pennate 7 temp': 48,\n",
    " 'pennate<Bacillariophyta': 49,\n",
    " 't002': 50,\n",
    " 't005': 51,\n",
    " 't006': 52,\n",
    " 't007': 53,\n",
    " 't009': 54,\n",
    " 't012': 55,\n",
    " 't013': 56,\n",
    " 't019': 57,\n",
    " 't020': 58,\n",
    " 'temp cylindrotheca': 59}\n",
    "\n",
    "id_class_dict = dict((v,k) for k,v in class_id_dict.items())\n",
    "list(id_class_dict)\n",
    "\n",
    "[id_class_dict[i] for i in range(len(id_class_dict))]"
   ]
  },
  {
   "cell_type": "code",
   "execution_count": 12,
   "metadata": {},
   "outputs": [
    {
     "data": {
      "text/plain": [
       "60"
      ]
     },
     "execution_count": 12,
     "metadata": {},
     "output_type": "execute_result"
    }
   ],
   "source": [
    "len(class_id_dict)"
   ]
  },
  {
   "cell_type": "code",
   "execution_count": 13,
   "metadata": {},
   "outputs": [
    {
     "data": {
      "text/plain": [
       "0.143515064"
      ]
     },
     "execution_count": 13,
     "metadata": {},
     "output_type": "execute_result"
    }
   ],
   "source": [
    "available_subset.memory_usage(index=True).sum() / 1e9"
   ]
  },
  {
   "cell_type": "code",
   "execution_count": 14,
   "metadata": {},
   "outputs": [
    {
     "data": {
      "text/plain": [
       "1630853"
      ]
     },
     "execution_count": 14,
     "metadata": {},
     "output_type": "execute_result"
    }
   ],
   "source": [
    "len(available_subset)"
   ]
  },
  {
   "cell_type": "code",
   "execution_count": 15,
   "metadata": {},
   "outputs": [],
   "source": [
    "#prediction_subset = available_subset.sample(frac=frac)\n",
    "prediction_subset = available_subset[:1630000]"
   ]
  },
  {
   "cell_type": "code",
   "execution_count": 16,
   "metadata": {},
   "outputs": [],
   "source": [
    "del available_subset"
   ]
  },
  {
   "cell_type": "code",
   "execution_count": 17,
   "metadata": {},
   "outputs": [
    {
     "data": {
      "text/html": [
       "<div>\n",
       "<style scoped>\n",
       "    .dataframe tbody tr th:only-of-type {\n",
       "        vertical-align: middle;\n",
       "    }\n",
       "\n",
       "    .dataframe tbody tr th {\n",
       "        vertical-align: top;\n",
       "    }\n",
       "\n",
       "    .dataframe thead th {\n",
       "        text-align: right;\n",
       "    }\n",
       "</style>\n",
       "<table border=\"1\" class=\"dataframe\">\n",
       "  <thead>\n",
       "    <tr style=\"text-align: right;\">\n",
       "      <th></th>\n",
       "      <th>Unnamed: 0</th>\n",
       "      <th>object_id</th>\n",
       "      <th>sample_flag</th>\n",
       "      <th>object_lat</th>\n",
       "      <th>object_lon</th>\n",
       "      <th>object_date</th>\n",
       "      <th>object_time</th>\n",
       "      <th>object_peak_fluorescence</th>\n",
       "      <th>object_peak_scattering</th>\n",
       "      <th>object_equiv_diameter</th>\n",
       "    </tr>\n",
       "  </thead>\n",
       "  <tbody>\n",
       "    <tr>\n",
       "      <th>0</th>\n",
       "      <td>0</td>\n",
       "      <td>D20180712T192222_IFCB116_00003</td>\n",
       "      <td>good</td>\n",
       "      <td>-64.8138</td>\n",
       "      <td>-64.0417</td>\n",
       "      <td>20180712</td>\n",
       "      <td>192222</td>\n",
       "      <td>0.01174</td>\n",
       "      <td>0.25750</td>\n",
       "      <td>0.0000</td>\n",
       "    </tr>\n",
       "    <tr>\n",
       "      <th>1</th>\n",
       "      <td>1</td>\n",
       "      <td>D20180712T192222_IFCB116_00004</td>\n",
       "      <td>good</td>\n",
       "      <td>-64.8138</td>\n",
       "      <td>-64.0417</td>\n",
       "      <td>20180712</td>\n",
       "      <td>192222</td>\n",
       "      <td>0.27224</td>\n",
       "      <td>0.01251</td>\n",
       "      <td>25.7804</td>\n",
       "    </tr>\n",
       "    <tr>\n",
       "      <th>2</th>\n",
       "      <td>2</td>\n",
       "      <td>D20180712T192222_IFCB116_00005</td>\n",
       "      <td>good</td>\n",
       "      <td>-64.8138</td>\n",
       "      <td>-64.0417</td>\n",
       "      <td>20180712</td>\n",
       "      <td>192222</td>\n",
       "      <td>0.01181</td>\n",
       "      <td>1.84300</td>\n",
       "      <td>21.4985</td>\n",
       "    </tr>\n",
       "    <tr>\n",
       "      <th>3</th>\n",
       "      <td>3</td>\n",
       "      <td>D20180712T192222_IFCB116_00006</td>\n",
       "      <td>good</td>\n",
       "      <td>-64.8138</td>\n",
       "      <td>-64.0417</td>\n",
       "      <td>20180712</td>\n",
       "      <td>192222</td>\n",
       "      <td>0.01179</td>\n",
       "      <td>0.51713</td>\n",
       "      <td>15.6759</td>\n",
       "    </tr>\n",
       "    <tr>\n",
       "      <th>4</th>\n",
       "      <td>4</td>\n",
       "      <td>D20180712T192222_IFCB116_00007</td>\n",
       "      <td>good</td>\n",
       "      <td>-64.8138</td>\n",
       "      <td>-64.0417</td>\n",
       "      <td>20180712</td>\n",
       "      <td>192222</td>\n",
       "      <td>0.08672</td>\n",
       "      <td>0.01213</td>\n",
       "      <td>26.9160</td>\n",
       "    </tr>\n",
       "  </tbody>\n",
       "</table>\n",
       "</div>"
      ],
      "text/plain": [
       "   Unnamed: 0                       object_id sample_flag  object_lat  \\\n",
       "0           0  D20180712T192222_IFCB116_00003        good    -64.8138   \n",
       "1           1  D20180712T192222_IFCB116_00004        good    -64.8138   \n",
       "2           2  D20180712T192222_IFCB116_00005        good    -64.8138   \n",
       "3           3  D20180712T192222_IFCB116_00006        good    -64.8138   \n",
       "4           4  D20180712T192222_IFCB116_00007        good    -64.8138   \n",
       "\n",
       "   object_lon  object_date  object_time  object_peak_fluorescence  \\\n",
       "0    -64.0417     20180712       192222                   0.01174   \n",
       "1    -64.0417     20180712       192222                   0.27224   \n",
       "2    -64.0417     20180712       192222                   0.01181   \n",
       "3    -64.0417     20180712       192222                   0.01179   \n",
       "4    -64.0417     20180712       192222                   0.08672   \n",
       "\n",
       "   object_peak_scattering  object_equiv_diameter  \n",
       "0                 0.25750                 0.0000  \n",
       "1                 0.01251                25.7804  \n",
       "2                 1.84300                21.4985  \n",
       "3                 0.51713                15.6759  \n",
       "4                 0.01213                26.9160  "
      ]
     },
     "execution_count": 17,
     "metadata": {},
     "output_type": "execute_result"
    }
   ],
   "source": [
    "prediction_subset.head()"
   ]
  },
  {
   "cell_type": "code",
   "execution_count": 18,
   "metadata": {},
   "outputs": [
    {
     "data": {
      "text/plain": [
       "1630000"
      ]
     },
     "execution_count": 18,
     "metadata": {},
     "output_type": "execute_result"
    }
   ],
   "source": [
    "len(prediction_subset)"
   ]
  },
  {
   "cell_type": "code",
   "execution_count": 24,
   "metadata": {},
   "outputs": [
    {
     "name": "stdout",
     "output_type": "stream",
     "text": [
      "conf_matrix_medium_merged.png\r\n",
      "conf_matrix_most_merged.png\r\n",
      "conf_matrix_unmerged_visible_low_end_large.png\r\n",
      "model_weights_all_classes_flu_iteration_noflu_50.hdf5\r\n",
      "modelacc.png\r\n",
      "modelloss.png\r\n"
     ]
    }
   ],
   "source": [
    "! ls ../../../../Code/deep_ifcb/metrics_700samples_noflu_50epochs/model_weights_all_classes_flu_iteration_noflu_50.hdf5"
   ]
  },
  {
   "cell_type": "code",
   "execution_count": 25,
   "metadata": {},
   "outputs": [],
   "source": [
    "from tensorflow import keras\n",
    "\n",
    "model = keras.models.load_model('../../../../Code/deep_ifcb/metrics_700samples_noflu_50epochs/model_weights_all_classes_flu_iteration_noflu_50.hdf5')"
   ]
  },
  {
   "cell_type": "code",
   "execution_count": 27,
   "metadata": {},
   "outputs": [],
   "source": [
    "from tensorflow.keras.preprocessing import image\n",
    "import numpy as np\n",
    "\n",
    "def generate_data(available_subset, batch_size):\n",
    "    \"\"\"Replaces Keras' native ImageDataGenerator.\"\"\"\n",
    "    i = 0\n",
    "    while True:\n",
    "        images = []\n",
    "        labels = []\n",
    "        merged_labels = []\n",
    "        original_labels = []\n",
    "        flu_data = []\n",
    "        \n",
    "        for b in range(batch_size):\n",
    "            if i >= len(available_subset):\n",
    "                i=0\n",
    "            row = available_subset.iloc[i]\n",
    "            i+=1\n",
    "            \n",
    "            img = image.load_img(row['object_id']+'.png', target_size=(150, 150), color_mode=\"grayscale\")\n",
    "            images.append(image.img_to_array(img))\n",
    "            #labels.append(class_id_dict[row['merged_category']])\n",
    "            #merged_labels.append(row['merged_category'])\n",
    "            #original_labels.append(row['object_annotation_category'])\n",
    "            #flu_data.append([row['object_pmt_fluorescence'], row['object_peak_fluorescence']])\n",
    "        \n",
    "        image_batch = np.array(images) / 130\n",
    "        #flu_batch = np.array(flu_data)\n",
    "        \n",
    "        \n",
    "        #yield [image_batch, flu_batch]\n",
    "        yield [image_batch]"
   ]
  },
  {
   "cell_type": "code",
   "execution_count": 28,
   "metadata": {},
   "outputs": [
    {
     "data": {
      "text/plain": [
       "3260.0"
      ]
     },
     "execution_count": 28,
     "metadata": {},
     "output_type": "execute_result"
    }
   ],
   "source": [
    "1630000 / 500"
   ]
  },
  {
   "cell_type": "code",
   "execution_count": null,
   "metadata": {},
   "outputs": [
    {
     "name": "stdout",
     "output_type": "stream",
     "text": [
      "  63/3260 [..............................] - ETA: 21:17"
     ]
    }
   ],
   "source": [
    "predict_prob = model.predict_generator(generator = generate_data(prediction_subset,batch_size=500), steps=3260.0, verbose=1)\n",
    "#predict_prob = model.predict([X_predict, flu_data])"
   ]
  },
  {
   "cell_type": "code",
   "execution_count": null,
   "metadata": {},
   "outputs": [],
   "source": [
    "predict_prob.shape"
   ]
  },
  {
   "cell_type": "code",
   "execution_count": null,
   "metadata": {},
   "outputs": [],
   "source": [
    "predictions = np.argmax(predict_prob, axis=1)"
   ]
  },
  {
   "cell_type": "code",
   "execution_count": null,
   "metadata": {},
   "outputs": [],
   "source": [
    "predict_prob_values = []\n",
    "for i in range(len(predictions)):\n",
    "    predict_prob_values.append(predict_prob[i][predictions[i]])"
   ]
  },
  {
   "cell_type": "code",
   "execution_count": null,
   "metadata": {},
   "outputs": [],
   "source": [
    "np.mean(predict_prob_values), np.std(predict_prob_values)"
   ]
  },
  {
   "cell_type": "code",
   "execution_count": 29,
   "metadata": {},
   "outputs": [],
   "source": [
    "prediction_subset['image_file_name'] = prediction_subset['object_id'] + '.png'"
   ]
  },
  {
   "cell_type": "code",
   "execution_count": 30,
   "metadata": {},
   "outputs": [],
   "source": [
    "prediction_subset['object_annotation_category'] = [id_class_dict[x] for x in predictions]"
   ]
  },
  {
   "cell_type": "code",
   "execution_count": 31,
   "metadata": {
    "scrolled": true
   },
   "outputs": [],
   "source": [
    "prediction_subset['object_score'] = predict_prob_values"
   ]
  },
  {
   "cell_type": "code",
   "execution_count": 32,
   "metadata": {},
   "outputs": [],
   "source": [
    "prediction_subset['object_annotation_status'] = 'Predicted'"
   ]
  },
  {
   "cell_type": "code",
   "execution_count": 33,
   "metadata": {},
   "outputs": [],
   "source": [
    "prediction_subset = prediction_subset[['object_id','object_annotation_status','object_annotation_category','sample_flag','object_lat','object_lon','image_file_name','object_score']]"
   ]
  },
  {
   "cell_type": "code",
   "execution_count": 34,
   "metadata": {},
   "outputs": [
    {
     "data": {
      "text/plain": [
       "5150000"
      ]
     },
     "execution_count": 34,
     "metadata": {},
     "output_type": "execute_result"
    }
   ],
   "source": [
    "len(prediction_subset)"
   ]
  },
  {
   "cell_type": "code",
   "execution_count": 35,
   "metadata": {},
   "outputs": [
    {
     "data": {
      "text/html": [
       "<div>\n",
       "<style scoped>\n",
       "    .dataframe tbody tr th:only-of-type {\n",
       "        vertical-align: middle;\n",
       "    }\n",
       "\n",
       "    .dataframe tbody tr th {\n",
       "        vertical-align: top;\n",
       "    }\n",
       "\n",
       "    .dataframe thead th {\n",
       "        text-align: right;\n",
       "    }\n",
       "</style>\n",
       "<table border=\"1\" class=\"dataframe\">\n",
       "  <thead>\n",
       "    <tr style=\"text-align: right;\">\n",
       "      <th></th>\n",
       "      <th>object_id</th>\n",
       "      <th>object_annotation_status</th>\n",
       "      <th>object_annotation_category</th>\n",
       "      <th>sample_flag</th>\n",
       "      <th>object_lat</th>\n",
       "      <th>object_lon</th>\n",
       "      <th>image_file_name</th>\n",
       "      <th>object_score</th>\n",
       "    </tr>\n",
       "  </thead>\n",
       "  <tbody>\n",
       "    <tr>\n",
       "      <th>0</th>\n",
       "      <td>D20180112T131528_IFCB116_00002</td>\n",
       "      <td>Predicted</td>\n",
       "      <td>Warnowia</td>\n",
       "      <td>good</td>\n",
       "      <td>-65.85</td>\n",
       "      <td>-71.3465</td>\n",
       "      <td>D20180112T131528_IFCB116_00002.png</td>\n",
       "      <td>1.000000</td>\n",
       "    </tr>\n",
       "    <tr>\n",
       "      <th>1</th>\n",
       "      <td>D20180112T131528_IFCB116_00003</td>\n",
       "      <td>Predicted</td>\n",
       "      <td>detritus</td>\n",
       "      <td>good</td>\n",
       "      <td>-65.85</td>\n",
       "      <td>-71.3465</td>\n",
       "      <td>D20180112T131528_IFCB116_00003.png</td>\n",
       "      <td>0.999987</td>\n",
       "    </tr>\n",
       "    <tr>\n",
       "      <th>2</th>\n",
       "      <td>D20180112T131528_IFCB116_00004</td>\n",
       "      <td>Predicted</td>\n",
       "      <td>Warnowia</td>\n",
       "      <td>good</td>\n",
       "      <td>-65.85</td>\n",
       "      <td>-71.3465</td>\n",
       "      <td>D20180112T131528_IFCB116_00004.png</td>\n",
       "      <td>0.965836</td>\n",
       "    </tr>\n",
       "    <tr>\n",
       "      <th>3</th>\n",
       "      <td>D20180112T131528_IFCB116_00005</td>\n",
       "      <td>Predicted</td>\n",
       "      <td>t010</td>\n",
       "      <td>good</td>\n",
       "      <td>-65.85</td>\n",
       "      <td>-71.3465</td>\n",
       "      <td>D20180112T131528_IFCB116_00005.png</td>\n",
       "      <td>0.961370</td>\n",
       "    </tr>\n",
       "    <tr>\n",
       "      <th>4</th>\n",
       "      <td>D20180112T131528_IFCB116_00006</td>\n",
       "      <td>Predicted</td>\n",
       "      <td>t012</td>\n",
       "      <td>good</td>\n",
       "      <td>-65.85</td>\n",
       "      <td>-71.3465</td>\n",
       "      <td>D20180112T131528_IFCB116_00006.png</td>\n",
       "      <td>0.610673</td>\n",
       "    </tr>\n",
       "  </tbody>\n",
       "</table>\n",
       "</div>"
      ],
      "text/plain": [
       "                        object_id object_annotation_status  \\\n",
       "0  D20180112T131528_IFCB116_00002                Predicted   \n",
       "1  D20180112T131528_IFCB116_00003                Predicted   \n",
       "2  D20180112T131528_IFCB116_00004                Predicted   \n",
       "3  D20180112T131528_IFCB116_00005                Predicted   \n",
       "4  D20180112T131528_IFCB116_00006                Predicted   \n",
       "\n",
       "  object_annotation_category sample_flag  object_lat  object_lon  \\\n",
       "0                   Warnowia        good      -65.85    -71.3465   \n",
       "1                   detritus        good      -65.85    -71.3465   \n",
       "2                   Warnowia        good      -65.85    -71.3465   \n",
       "3                       t010        good      -65.85    -71.3465   \n",
       "4                       t012        good      -65.85    -71.3465   \n",
       "\n",
       "                      image_file_name  object_score  \n",
       "0  D20180112T131528_IFCB116_00002.png      1.000000  \n",
       "1  D20180112T131528_IFCB116_00003.png      0.999987  \n",
       "2  D20180112T131528_IFCB116_00004.png      0.965836  \n",
       "3  D20180112T131528_IFCB116_00005.png      0.961370  \n",
       "4  D20180112T131528_IFCB116_00006.png      0.610673  "
      ]
     },
     "execution_count": 35,
     "metadata": {},
     "output_type": "execute_result"
    }
   ],
   "source": [
    "prediction_subset.head()"
   ]
  },
  {
   "cell_type": "code",
   "execution_count": 36,
   "metadata": {},
   "outputs": [
    {
     "data": {
      "text/plain": [
       "(array([ 0,  1,  2,  3,  4,  5,  6,  7,  8,  9, 10, 11, 12, 13, 14, 15, 16,\n",
       "        17, 18, 19, 20, 21, 22, 23, 24, 25, 26, 27, 28, 29, 30, 31, 32, 33,\n",
       "        34, 35, 36, 37, 38, 39, 40, 41, 42, 43, 44, 45, 46, 47, 48, 49, 50,\n",
       "        51, 52, 53, 54, 55, 56, 57, 58, 59, 60, 61, 62, 63, 64, 65, 66, 67,\n",
       "        68, 69, 70, 71]),\n",
       " array([  3519,  85107,    111,    532,   8036,   8257,   9145,  13830,\n",
       "        154619,  10090,   7150,   9538,  29695,     37,    216,    201,\n",
       "          2864,  25589,    565,   3346,   1258,    360,   7864,  68458,\n",
       "           319,   1164,   2608,   9449, 222975,   5689,  18472,    369,\n",
       "          1355,    430, 652579,  49332,  12202,  13010,   7671,     95,\n",
       "         39874,   8760,   3246,   5583,    287,   3035, 125894,  28069,\n",
       "         26084,    581,  19939,  68430,   5058,   8674, 241156,   2981,\n",
       "          7484, 987692, 343034,   2602,   1341,  35735, 434871,    743,\n",
       "        368572, 334791, 374894,  41772,  44572,  50846,   6595,  78699]))"
      ]
     },
     "execution_count": 36,
     "metadata": {},
     "output_type": "execute_result"
    }
   ],
   "source": [
    "classes, counts = np.unique(predictions, return_counts=True)\n",
    "classes, counts"
   ]
  },
  {
   "cell_type": "code",
   "execution_count": 37,
   "metadata": {},
   "outputs": [],
   "source": [
    "# go through the final predictions and find images where there are less than 150 validated and only include those in the final\n",
    "\n",
    "# then only get ~300 of those maximum"
   ]
  },
  {
   "cell_type": "code",
   "execution_count": 57,
   "metadata": {},
   "outputs": [],
   "source": [
    "prediction_subset.to_csv('../predictions_all_011120.csv', sep='\\t')"
   ]
  },
  {
   "cell_type": "code",
   "execution_count": 44,
   "metadata": {},
   "outputs": [
    {
     "data": {
      "text/html": [
       "<div>\n",
       "<style scoped>\n",
       "    .dataframe tbody tr th:only-of-type {\n",
       "        vertical-align: middle;\n",
       "    }\n",
       "\n",
       "    .dataframe tbody tr th {\n",
       "        vertical-align: top;\n",
       "    }\n",
       "\n",
       "    .dataframe thead th {\n",
       "        text-align: right;\n",
       "    }\n",
       "</style>\n",
       "<table border=\"1\" class=\"dataframe\">\n",
       "  <thead>\n",
       "    <tr style=\"text-align: right;\">\n",
       "      <th></th>\n",
       "      <th>object_id</th>\n",
       "      <th>object_annotation_category</th>\n",
       "      <th>object_annotation_hierarchy</th>\n",
       "      <th>object_annotation_status</th>\n",
       "      <th>object_date</th>\n",
       "      <th>object_lat</th>\n",
       "      <th>object_lon</th>\n",
       "      <th>object_peak_fluorescence</th>\n",
       "      <th>object_pmt_fluorescence</th>\n",
       "      <th>object_time</th>\n",
       "      <th>sample_flag</th>\n",
       "    </tr>\n",
       "  </thead>\n",
       "  <tbody>\n",
       "    <tr>\n",
       "      <th>0</th>\n",
       "      <td>D20180221T193119_IFCB116_01153</td>\n",
       "      <td>Pyramimonas</td>\n",
       "      <td>living&gt;Eukaryota&gt;Archaeplastida&gt;Viridiplantae&gt;...</td>\n",
       "      <td>validated</td>\n",
       "      <td>20180221</td>\n",
       "      <td>-64.7535</td>\n",
       "      <td>-64.1339</td>\n",
       "      <td>1.71370</td>\n",
       "      <td>0.26577</td>\n",
       "      <td>193119</td>\n",
       "      <td>good</td>\n",
       "    </tr>\n",
       "    <tr>\n",
       "      <th>1</th>\n",
       "      <td>D20180221T202431_IFCB116_00153</td>\n",
       "      <td>Gymnodinium</td>\n",
       "      <td>living&gt;Eukaryota&gt;Harosa&gt;Alveolata&gt;Myzozoa&gt;Holo...</td>\n",
       "      <td>validated</td>\n",
       "      <td>20180221</td>\n",
       "      <td>-64.7741</td>\n",
       "      <td>-64.1655</td>\n",
       "      <td>0.01279</td>\n",
       "      <td>0.00269</td>\n",
       "      <td>202431</td>\n",
       "      <td>good</td>\n",
       "    </tr>\n",
       "    <tr>\n",
       "      <th>2</th>\n",
       "      <td>D20180221T202431_IFCB116_01303</td>\n",
       "      <td>Gymnodinium</td>\n",
       "      <td>living&gt;Eukaryota&gt;Harosa&gt;Alveolata&gt;Myzozoa&gt;Holo...</td>\n",
       "      <td>validated</td>\n",
       "      <td>20180221</td>\n",
       "      <td>-64.7741</td>\n",
       "      <td>-64.1655</td>\n",
       "      <td>1.47800</td>\n",
       "      <td>0.17801</td>\n",
       "      <td>202431</td>\n",
       "      <td>good</td>\n",
       "    </tr>\n",
       "    <tr>\n",
       "      <th>3</th>\n",
       "      <td>D20180221T202431_IFCB116_03008</td>\n",
       "      <td>Katodinium</td>\n",
       "      <td>living&gt;Eukaryota&gt;Harosa&gt;Alveolata&gt;Myzozoa&gt;Holo...</td>\n",
       "      <td>validated</td>\n",
       "      <td>20180221</td>\n",
       "      <td>-64.7741</td>\n",
       "      <td>-64.1655</td>\n",
       "      <td>0.01276</td>\n",
       "      <td>0.00254</td>\n",
       "      <td>202431</td>\n",
       "      <td>good</td>\n",
       "    </tr>\n",
       "    <tr>\n",
       "      <th>4</th>\n",
       "      <td>D20180221T212254_IFCB116_07034</td>\n",
       "      <td>Pyramimonas</td>\n",
       "      <td>living&gt;Eukaryota&gt;Archaeplastida&gt;Viridiplantae&gt;...</td>\n",
       "      <td>validated</td>\n",
       "      <td>20180221</td>\n",
       "      <td>-64.7802</td>\n",
       "      <td>-63.9785</td>\n",
       "      <td>0.35693</td>\n",
       "      <td>0.02183</td>\n",
       "      <td>212254</td>\n",
       "      <td>good</td>\n",
       "    </tr>\n",
       "  </tbody>\n",
       "</table>\n",
       "</div>"
      ],
      "text/plain": [
       "                        object_id object_annotation_category  \\\n",
       "0  D20180221T193119_IFCB116_01153                Pyramimonas   \n",
       "1  D20180221T202431_IFCB116_00153                Gymnodinium   \n",
       "2  D20180221T202431_IFCB116_01303                Gymnodinium   \n",
       "3  D20180221T202431_IFCB116_03008                 Katodinium   \n",
       "4  D20180221T212254_IFCB116_07034                Pyramimonas   \n",
       "\n",
       "                         object_annotation_hierarchy object_annotation_status  \\\n",
       "0  living>Eukaryota>Archaeplastida>Viridiplantae>...                validated   \n",
       "1  living>Eukaryota>Harosa>Alveolata>Myzozoa>Holo...                validated   \n",
       "2  living>Eukaryota>Harosa>Alveolata>Myzozoa>Holo...                validated   \n",
       "3  living>Eukaryota>Harosa>Alveolata>Myzozoa>Holo...                validated   \n",
       "4  living>Eukaryota>Archaeplastida>Viridiplantae>...                validated   \n",
       "\n",
       "   object_date  object_lat  object_lon  object_peak_fluorescence  \\\n",
       "0     20180221    -64.7535    -64.1339                   1.71370   \n",
       "1     20180221    -64.7741    -64.1655                   0.01279   \n",
       "2     20180221    -64.7741    -64.1655                   1.47800   \n",
       "3     20180221    -64.7741    -64.1655                   0.01276   \n",
       "4     20180221    -64.7802    -63.9785                   0.35693   \n",
       "\n",
       "   object_pmt_fluorescence  object_time sample_flag  \n",
       "0                  0.26577       193119        good  \n",
       "1                  0.00269       202431        good  \n",
       "2                  0.17801       202431        good  \n",
       "3                  0.00254       202431        good  \n",
       "4                  0.02183       212254        good  "
      ]
     },
     "execution_count": 44,
     "metadata": {},
     "output_type": "execute_result"
    }
   ],
   "source": [
    "val_samples = pd.read_csv('../val_samples_021120.csv')\n",
    "val_samples = val_samples.drop('Unnamed: 0', 1)\n",
    "val_samples.head()"
   ]
  },
  {
   "cell_type": "code",
   "execution_count": 46,
   "metadata": {},
   "outputs": [
    {
     "data": {
      "text/plain": [
       "object_annotation_category\n",
       "Asteromphalus                  9\n",
       "Banquisia belgicae            67\n",
       "Ceratium                     214\n",
       "Cocconeis                     15\n",
       "Crustacea                      9\n",
       "Dinophyceae                  227\n",
       "Dinophysis                    29\n",
       "Diplopsalis<Dinophyceae X     14\n",
       "Eucampia                     144\n",
       "Eucampia chain                90\n",
       "Gyrodinium                   175\n",
       "Licmophora                   185\n",
       "Membraneis chain              11\n",
       "Odontella sp.                 80\n",
       "Pleurosigma                    3\n",
       "Prymnesiophyceae               6\n",
       "Rhizosolenia                  95\n",
       "Tintinnida                    55\n",
       "Torodinium                   103\n",
       "Warnowia                      50\n",
       "centric 10 temp               31\n",
       "chain<centric                 62\n",
       "t004                          12\n",
       "t006                          90\n",
       "t008                         234\n",
       "t009                         152\n",
       "t016                         146\n",
       "t020                           7\n",
       "Name: object_id, dtype: int64"
      ]
     },
     "execution_count": 46,
     "metadata": {},
     "output_type": "execute_result"
    }
   ],
   "source": [
    "# For now only using validated images\n",
    "#img_md_subset = img_md_subset[img_md_subset.object_annotation_status == 'validated']\n",
    "\n",
    "rare_count = 250\n",
    "\n",
    "unique_validated = val_samples[val_samples.object_annotation_status == 'validated'].groupby('object_annotation_category')['object_id'].nunique()\n",
    "\n",
    "rare_classes = unique_validated[unique_validated <= rare_count]\n",
    "\n",
    "#val_img_subset = val_img_subset[val_img_subset['object_annotation_category'].isin(list(rare_classes.index))]\n",
    "rare_classes"
   ]
  },
  {
   "cell_type": "code",
   "execution_count": 88,
   "metadata": {},
   "outputs": [],
   "source": [
    "rare_prediction_subset = prediction_subset[prediction_subset['object_annotation_category'].isin(list(rare_classes.index))]"
   ]
  },
  {
   "cell_type": "code",
   "execution_count": 89,
   "metadata": {},
   "outputs": [
    {
     "data": {
      "text/html": [
       "<div>\n",
       "<style scoped>\n",
       "    .dataframe tbody tr th:only-of-type {\n",
       "        vertical-align: middle;\n",
       "    }\n",
       "\n",
       "    .dataframe tbody tr th {\n",
       "        vertical-align: top;\n",
       "    }\n",
       "\n",
       "    .dataframe thead th {\n",
       "        text-align: right;\n",
       "    }\n",
       "</style>\n",
       "<table border=\"1\" class=\"dataframe\">\n",
       "  <thead>\n",
       "    <tr style=\"text-align: right;\">\n",
       "      <th></th>\n",
       "      <th>object_id</th>\n",
       "      <th>object_annotation_status</th>\n",
       "      <th>object_annotation_category</th>\n",
       "      <th>sample_flag</th>\n",
       "      <th>object_lat</th>\n",
       "      <th>object_lon</th>\n",
       "      <th>image_file_name</th>\n",
       "      <th>object_score</th>\n",
       "    </tr>\n",
       "  </thead>\n",
       "  <tbody>\n",
       "    <tr>\n",
       "      <th>3</th>\n",
       "      <td>D20180112T131528_IFCB116_00005</td>\n",
       "      <td>Predicted</td>\n",
       "      <td>t010</td>\n",
       "      <td>good</td>\n",
       "      <td>-65.85</td>\n",
       "      <td>-71.3465</td>\n",
       "      <td>D20180112T131528_IFCB116_00005.png</td>\n",
       "      <td>0.698183</td>\n",
       "    </tr>\n",
       "    <tr>\n",
       "      <th>6</th>\n",
       "      <td>D20180112T131528_IFCB116_00008</td>\n",
       "      <td>Predicted</td>\n",
       "      <td>Dactyliosolen</td>\n",
       "      <td>good</td>\n",
       "      <td>-65.85</td>\n",
       "      <td>-71.3465</td>\n",
       "      <td>D20180112T131528_IFCB116_00008.png</td>\n",
       "      <td>0.987862</td>\n",
       "    </tr>\n",
       "    <tr>\n",
       "      <th>8</th>\n",
       "      <td>D20180112T131528_IFCB116_00010</td>\n",
       "      <td>Predicted</td>\n",
       "      <td>t008</td>\n",
       "      <td>good</td>\n",
       "      <td>-65.85</td>\n",
       "      <td>-71.3465</td>\n",
       "      <td>D20180112T131528_IFCB116_00010.png</td>\n",
       "      <td>0.739834</td>\n",
       "    </tr>\n",
       "    <tr>\n",
       "      <th>15</th>\n",
       "      <td>D20180112T131528_IFCB116_00017</td>\n",
       "      <td>Predicted</td>\n",
       "      <td>t010</td>\n",
       "      <td>good</td>\n",
       "      <td>-65.85</td>\n",
       "      <td>-71.3465</td>\n",
       "      <td>D20180112T131528_IFCB116_00017.png</td>\n",
       "      <td>0.999995</td>\n",
       "    </tr>\n",
       "    <tr>\n",
       "      <th>18</th>\n",
       "      <td>D20180112T131528_IFCB116_00020</td>\n",
       "      <td>Predicted</td>\n",
       "      <td>t008</td>\n",
       "      <td>good</td>\n",
       "      <td>-65.85</td>\n",
       "      <td>-71.3465</td>\n",
       "      <td>D20180112T131528_IFCB116_00020.png</td>\n",
       "      <td>0.982705</td>\n",
       "    </tr>\n",
       "  </tbody>\n",
       "</table>\n",
       "</div>"
      ],
      "text/plain": [
       "                         object_id object_annotation_status  \\\n",
       "3   D20180112T131528_IFCB116_00005                Predicted   \n",
       "6   D20180112T131528_IFCB116_00008                Predicted   \n",
       "8   D20180112T131528_IFCB116_00010                Predicted   \n",
       "15  D20180112T131528_IFCB116_00017                Predicted   \n",
       "18  D20180112T131528_IFCB116_00020                Predicted   \n",
       "\n",
       "   object_annotation_category sample_flag object_lat object_lon  \\\n",
       "3                        t010        good     -65.85   -71.3465   \n",
       "6               Dactyliosolen        good     -65.85   -71.3465   \n",
       "8                        t008        good     -65.85   -71.3465   \n",
       "15                       t010        good     -65.85   -71.3465   \n",
       "18                       t008        good     -65.85   -71.3465   \n",
       "\n",
       "                       image_file_name  object_score  \n",
       "3   D20180112T131528_IFCB116_00005.png      0.698183  \n",
       "6   D20180112T131528_IFCB116_00008.png      0.987862  \n",
       "8   D20180112T131528_IFCB116_00010.png      0.739834  \n",
       "15  D20180112T131528_IFCB116_00017.png      0.999995  \n",
       "18  D20180112T131528_IFCB116_00020.png      0.982705  "
      ]
     },
     "execution_count": 89,
     "metadata": {},
     "output_type": "execute_result"
    }
   ],
   "source": [
    "rare_prediction_subset.head()"
   ]
  },
  {
   "cell_type": "code",
   "execution_count": 90,
   "metadata": {},
   "outputs": [
    {
     "data": {
      "text/plain": [
       "object_annotation_category\n",
       "Banquisia belgicae       113\n",
       "Ceratium                2303\n",
       "Chaetoceros single      4251\n",
       "Dactyliosolen           3589\n",
       "Dinophyceae            37685\n",
       "Dinophysis                96\n",
       "Eucampia                 353\n",
       "Eucampia chain           319\n",
       "Gyrodinium              1296\n",
       "Licmophora               472\n",
       "Odontella sp.            171\n",
       "Rhizosolenia             932\n",
       "Tintinnida               168\n",
       "Torodinium              2286\n",
       "Unknowns               37975\n",
       "Warnowia                 331\n",
       "bubble                 19430\n",
       "centric 4 temp          2001\n",
       "chain<centric             52\n",
       "dinoflagellate-i       13364\n",
       "dinoflagellate-iii      1148\n",
       "part<other             67227\n",
       "t005                    1871\n",
       "t006                    1076\n",
       "t008                  407662\n",
       "t009                     385\n",
       "t010                  372528\n",
       "t016                   57559\n",
       "t017                   20537\n",
       "Name: object_id, dtype: int64"
      ]
     },
     "execution_count": 90,
     "metadata": {},
     "output_type": "execute_result"
    }
   ],
   "source": [
    "prediction_counts = rare_prediction_subset.groupby('object_annotation_category')['object_id'].nunique()\n",
    "prediction_counts"
   ]
  },
  {
   "cell_type": "code",
   "execution_count": 91,
   "metadata": {},
   "outputs": [],
   "source": [
    "# filter out any that are in validation for the other file\n",
    "\n",
    "rare_prediction_subset = rare_prediction_subset[~rare_prediction_subset.object_id.isin(list(img_md_subset.object_id))]"
   ]
  },
  {
   "cell_type": "code",
   "execution_count": 92,
   "metadata": {},
   "outputs": [
    {
     "data": {
      "text/plain": [
       "object_annotation_category\n",
       "Banquisia belgicae        69\n",
       "Ceratium                2289\n",
       "Chaetoceros single      4134\n",
       "Dactyliosolen           3461\n",
       "Dinophyceae            37550\n",
       "Dinophysis                88\n",
       "Eucampia                 326\n",
       "Eucampia chain           301\n",
       "Gyrodinium              1189\n",
       "Licmophora               362\n",
       "Odontella sp.            124\n",
       "Rhizosolenia             899\n",
       "Tintinnida               149\n",
       "Torodinium              2274\n",
       "Unknowns               37878\n",
       "Warnowia                 307\n",
       "bubble                 19313\n",
       "centric 4 temp          1780\n",
       "chain<centric             45\n",
       "dinoflagellate-i       13209\n",
       "dinoflagellate-iii       985\n",
       "part<other             67067\n",
       "t005                    1657\n",
       "t006                     909\n",
       "t008                  407556\n",
       "t009                     297\n",
       "t010                  372315\n",
       "t016                   57523\n",
       "t017                   20262\n",
       "Name: object_id, dtype: int64"
      ]
     },
     "execution_count": 92,
     "metadata": {},
     "output_type": "execute_result"
    }
   ],
   "source": [
    "prediction_counts = rare_prediction_subset.groupby('object_annotation_category')['object_id'].nunique()\n",
    "prediction_counts"
   ]
  },
  {
   "cell_type": "code",
   "execution_count": 93,
   "metadata": {},
   "outputs": [
    {
     "data": {
      "text/plain": [
       "1054318"
      ]
     },
     "execution_count": 93,
     "metadata": {},
     "output_type": "execute_result"
    }
   ],
   "source": [
    "len(rare_prediction_subset)"
   ]
  },
  {
   "cell_type": "code",
   "execution_count": 94,
   "metadata": {},
   "outputs": [],
   "source": [
    "# no longer doing this because we're actually assessing the accuracy\n",
    "#rare_prediction_subset = rare_prediction_subset.sort_values('object_score', ascending=False)"
   ]
  },
  {
   "cell_type": "code",
   "execution_count": 95,
   "metadata": {},
   "outputs": [
    {
     "data": {
      "text/html": [
       "<div>\n",
       "<style scoped>\n",
       "    .dataframe tbody tr th:only-of-type {\n",
       "        vertical-align: middle;\n",
       "    }\n",
       "\n",
       "    .dataframe tbody tr th {\n",
       "        vertical-align: top;\n",
       "    }\n",
       "\n",
       "    .dataframe thead th {\n",
       "        text-align: right;\n",
       "    }\n",
       "</style>\n",
       "<table border=\"1\" class=\"dataframe\">\n",
       "  <thead>\n",
       "    <tr style=\"text-align: right;\">\n",
       "      <th></th>\n",
       "      <th>object_id</th>\n",
       "      <th>object_annotation_status</th>\n",
       "      <th>object_annotation_category</th>\n",
       "      <th>sample_flag</th>\n",
       "      <th>object_lat</th>\n",
       "      <th>object_lon</th>\n",
       "      <th>image_file_name</th>\n",
       "      <th>object_score</th>\n",
       "    </tr>\n",
       "  </thead>\n",
       "  <tbody>\n",
       "    <tr>\n",
       "      <th>2823624</th>\n",
       "      <td>D20171226T143445_IFCB116_09656</td>\n",
       "      <td>Predicted</td>\n",
       "      <td>t008</td>\n",
       "      <td>good</td>\n",
       "      <td>-64.8138</td>\n",
       "      <td>-64.0417</td>\n",
       "      <td>D20171226T143445_IFCB116_09656.png</td>\n",
       "      <td>1.0</td>\n",
       "    </tr>\n",
       "    <tr>\n",
       "      <th>2655332</th>\n",
       "      <td>D20171222T182137_IFCB116_09270</td>\n",
       "      <td>Predicted</td>\n",
       "      <td>t008</td>\n",
       "      <td>good</td>\n",
       "      <td>-64.7795</td>\n",
       "      <td>-64.0417</td>\n",
       "      <td>D20171222T182137_IFCB116_09270.png</td>\n",
       "      <td>1.0</td>\n",
       "    </tr>\n",
       "    <tr>\n",
       "      <th>1478483</th>\n",
       "      <td>D20181119T165708_IFCB116_03782</td>\n",
       "      <td>Predicted</td>\n",
       "      <td>part&lt;other</td>\n",
       "      <td>good</td>\n",
       "      <td>-64.8138</td>\n",
       "      <td>-64.0417</td>\n",
       "      <td>D20181119T165708_IFCB116_03782.png</td>\n",
       "      <td>1.0</td>\n",
       "    </tr>\n",
       "    <tr>\n",
       "      <th>976714</th>\n",
       "      <td>D20190801T142334_IFCB116_02577</td>\n",
       "      <td>Predicted</td>\n",
       "      <td>part&lt;other</td>\n",
       "      <td>good</td>\n",
       "      <td>-64.7795</td>\n",
       "      <td>-64.0417</td>\n",
       "      <td>D20190801T142334_IFCB116_02577.png</td>\n",
       "      <td>1.0</td>\n",
       "    </tr>\n",
       "    <tr>\n",
       "      <th>1358120</th>\n",
       "      <td>D20190730T130824_IFCB116_01146</td>\n",
       "      <td>Predicted</td>\n",
       "      <td>part&lt;other</td>\n",
       "      <td>good</td>\n",
       "      <td>-64.7795</td>\n",
       "      <td>-64.0417</td>\n",
       "      <td>D20190730T130824_IFCB116_01146.png</td>\n",
       "      <td>1.0</td>\n",
       "    </tr>\n",
       "  </tbody>\n",
       "</table>\n",
       "</div>"
      ],
      "text/plain": [
       "                              object_id object_annotation_status  \\\n",
       "2823624  D20171226T143445_IFCB116_09656                Predicted   \n",
       "2655332  D20171222T182137_IFCB116_09270                Predicted   \n",
       "1478483  D20181119T165708_IFCB116_03782                Predicted   \n",
       "976714   D20190801T142334_IFCB116_02577                Predicted   \n",
       "1358120  D20190730T130824_IFCB116_01146                Predicted   \n",
       "\n",
       "        object_annotation_category sample_flag object_lat object_lon  \\\n",
       "2823624                       t008        good   -64.8138   -64.0417   \n",
       "2655332                       t008        good   -64.7795   -64.0417   \n",
       "1478483                 part<other        good   -64.8138   -64.0417   \n",
       "976714                  part<other        good   -64.7795   -64.0417   \n",
       "1358120                 part<other        good   -64.7795   -64.0417   \n",
       "\n",
       "                            image_file_name  object_score  \n",
       "2823624  D20171226T143445_IFCB116_09656.png           1.0  \n",
       "2655332  D20171222T182137_IFCB116_09270.png           1.0  \n",
       "1478483  D20181119T165708_IFCB116_03782.png           1.0  \n",
       "976714   D20190801T142334_IFCB116_02577.png           1.0  \n",
       "1358120  D20190730T130824_IFCB116_01146.png           1.0  "
      ]
     },
     "execution_count": 95,
     "metadata": {},
     "output_type": "execute_result"
    }
   ],
   "source": [
    "buckets = {}\n",
    "for key in id_class_dict:\n",
    "    buckets[key] = 0\n",
    "\n",
    "object_ids = []\n",
    "\n",
    "max_count = 300\n",
    "\n",
    "for index, row in rare_prediction_subset.iterrows():\n",
    "    if buckets[class_id_dict[row['object_annotation_category']]] < max_count:\n",
    "        object_ids.append(row['object_id'])\n",
    "        buckets[class_id_dict[row['object_annotation_category']]] += 1\n",
    "len(object_ids)\n",
    "\n",
    "rare_cut_df = rare_prediction_subset[rare_prediction_subset['object_id'].isin(object_ids)]\n",
    "rare_cut_df.head()"
   ]
  },
  {
   "cell_type": "code",
   "execution_count": 97,
   "metadata": {},
   "outputs": [
    {
     "name": "stdout",
     "output_type": "stream",
     "text": [
      "[t]\n",
      "[t]\n",
      "[t]\n",
      "[t]\n",
      "[t]\n",
      "[t]\n",
      "[t]\n",
      "[f]\n"
     ]
    }
   ],
   "source": [
    "dtps = []\n",
    "for dt in rare_cut_df.dtypes:\n",
    "    if dt == 'float64':\n",
    "        dtps.append('f')\n",
    "    elif dt == 'object':\n",
    "        dtps.append('t')\n",
    "for f in dtps:\n",
    "    print('['+f+']')"
   ]
  },
  {
   "cell_type": "code",
   "execution_count": 98,
   "metadata": {},
   "outputs": [],
   "source": [
    "rare_cut_df.to_csv('../ecotaxa_cnn_predictions_5150000_rare_131020.csv', sep='\\t')"
   ]
  },
  {
   "cell_type": "markdown",
   "metadata": {},
   "source": [
    "### Now redo it and just output 100 of each class"
   ]
  },
  {
   "cell_type": "code",
   "execution_count": 49,
   "metadata": {},
   "outputs": [
    {
     "data": {
      "text/html": [
       "<div>\n",
       "<style scoped>\n",
       "    .dataframe tbody tr th:only-of-type {\n",
       "        vertical-align: middle;\n",
       "    }\n",
       "\n",
       "    .dataframe tbody tr th {\n",
       "        vertical-align: top;\n",
       "    }\n",
       "\n",
       "    .dataframe thead th {\n",
       "        text-align: right;\n",
       "    }\n",
       "</style>\n",
       "<table border=\"1\" class=\"dataframe\">\n",
       "  <thead>\n",
       "    <tr style=\"text-align: right;\">\n",
       "      <th></th>\n",
       "      <th>object_id</th>\n",
       "      <th>object_annotation_status</th>\n",
       "      <th>object_annotation_category</th>\n",
       "      <th>sample_flag</th>\n",
       "      <th>object_lat</th>\n",
       "      <th>object_lon</th>\n",
       "      <th>image_file_name</th>\n",
       "      <th>object_score</th>\n",
       "    </tr>\n",
       "  </thead>\n",
       "  <tbody>\n",
       "    <tr>\n",
       "      <th>0</th>\n",
       "      <td>D20180112T131528_IFCB116_00002</td>\n",
       "      <td>Predicted</td>\n",
       "      <td>Warnowia</td>\n",
       "      <td>good</td>\n",
       "      <td>-65.85</td>\n",
       "      <td>-71.3465</td>\n",
       "      <td>D20180112T131528_IFCB116_00002.png</td>\n",
       "      <td>1.000000</td>\n",
       "    </tr>\n",
       "    <tr>\n",
       "      <th>1</th>\n",
       "      <td>D20180112T131528_IFCB116_00003</td>\n",
       "      <td>Predicted</td>\n",
       "      <td>detritus</td>\n",
       "      <td>good</td>\n",
       "      <td>-65.85</td>\n",
       "      <td>-71.3465</td>\n",
       "      <td>D20180112T131528_IFCB116_00003.png</td>\n",
       "      <td>0.999987</td>\n",
       "    </tr>\n",
       "    <tr>\n",
       "      <th>2</th>\n",
       "      <td>D20180112T131528_IFCB116_00004</td>\n",
       "      <td>Predicted</td>\n",
       "      <td>Warnowia</td>\n",
       "      <td>good</td>\n",
       "      <td>-65.85</td>\n",
       "      <td>-71.3465</td>\n",
       "      <td>D20180112T131528_IFCB116_00004.png</td>\n",
       "      <td>0.965836</td>\n",
       "    </tr>\n",
       "    <tr>\n",
       "      <th>3</th>\n",
       "      <td>D20180112T131528_IFCB116_00005</td>\n",
       "      <td>Predicted</td>\n",
       "      <td>t010</td>\n",
       "      <td>good</td>\n",
       "      <td>-65.85</td>\n",
       "      <td>-71.3465</td>\n",
       "      <td>D20180112T131528_IFCB116_00005.png</td>\n",
       "      <td>0.961370</td>\n",
       "    </tr>\n",
       "    <tr>\n",
       "      <th>4</th>\n",
       "      <td>D20180112T131528_IFCB116_00006</td>\n",
       "      <td>Predicted</td>\n",
       "      <td>t012</td>\n",
       "      <td>good</td>\n",
       "      <td>-65.85</td>\n",
       "      <td>-71.3465</td>\n",
       "      <td>D20180112T131528_IFCB116_00006.png</td>\n",
       "      <td>0.610673</td>\n",
       "    </tr>\n",
       "  </tbody>\n",
       "</table>\n",
       "</div>"
      ],
      "text/plain": [
       "                        object_id object_annotation_status  \\\n",
       "0  D20180112T131528_IFCB116_00002                Predicted   \n",
       "1  D20180112T131528_IFCB116_00003                Predicted   \n",
       "2  D20180112T131528_IFCB116_00004                Predicted   \n",
       "3  D20180112T131528_IFCB116_00005                Predicted   \n",
       "4  D20180112T131528_IFCB116_00006                Predicted   \n",
       "\n",
       "  object_annotation_category sample_flag  object_lat  object_lon  \\\n",
       "0                   Warnowia        good      -65.85    -71.3465   \n",
       "1                   detritus        good      -65.85    -71.3465   \n",
       "2                   Warnowia        good      -65.85    -71.3465   \n",
       "3                       t010        good      -65.85    -71.3465   \n",
       "4                       t012        good      -65.85    -71.3465   \n",
       "\n",
       "                      image_file_name  object_score  \n",
       "0  D20180112T131528_IFCB116_00002.png      1.000000  \n",
       "1  D20180112T131528_IFCB116_00003.png      0.999987  \n",
       "2  D20180112T131528_IFCB116_00004.png      0.965836  \n",
       "3  D20180112T131528_IFCB116_00005.png      0.961370  \n",
       "4  D20180112T131528_IFCB116_00006.png      0.610673  "
      ]
     },
     "execution_count": 49,
     "metadata": {},
     "output_type": "execute_result"
    }
   ],
   "source": [
    "buckets = {}\n",
    "for key in id_class_dict:\n",
    "    buckets[key] = 0\n",
    "\n",
    "object_ids = []\n",
    "\n",
    "max_count = 100\n",
    "\n",
    "for index, row in prediction_subset.iterrows():\n",
    "    if buckets[class_id_dict[row['object_annotation_category']]] < max_count:\n",
    "        object_ids.append(row['object_id'])\n",
    "        buckets[class_id_dict[row['object_annotation_category']]] += 1\n",
    "len(object_ids)\n",
    "\n",
    "preds_100_per_class_df = prediction_subset[prediction_subset['object_id'].isin(object_ids)]\n",
    "preds_100_per_class_df.head()"
   ]
  },
  {
   "cell_type": "code",
   "execution_count": 50,
   "metadata": {},
   "outputs": [
    {
     "data": {
      "text/plain": [
       "7132"
      ]
     },
     "execution_count": 50,
     "metadata": {},
     "output_type": "execute_result"
    }
   ],
   "source": [
    "len(preds_100_per_class_df)"
   ]
  },
  {
   "cell_type": "code",
   "execution_count": 56,
   "metadata": {},
   "outputs": [
    {
     "data": {
      "text/plain": [
       "<matplotlib.axes._subplots.AxesSubplot at 0x7fda113477f0>"
      ]
     },
     "execution_count": 56,
     "metadata": {},
     "output_type": "execute_result"
    },
    {
     "data": {
      "image/png": "[encoded data removed]",
      "text/plain": [
       "<Figure size 432x288 with 1 Axes>"
      ]
     },
     "metadata": {
      "needs_background": "light"
     },
     "output_type": "display_data"
    }
   ],
   "source": [
    "counts_per_class = preds_100_per_class_df.groupby('object_annotation_category')['object_id'].nunique()\n",
    "counts_per_class.plot()"
   ]
  },
  {
   "cell_type": "code",
   "execution_count": 52,
   "metadata": {},
   "outputs": [],
   "source": [
    "preds_100_per_class_df.to_csv('../ecotaxa_cnn_predictions_100_per_class_5150000_021120.csv', sep='\\t')"
   ]
  },
  {
   "cell_type": "code",
   "execution_count": 51,
   "metadata": {},
   "outputs": [
    {
     "name": "stdout",
     "output_type": "stream",
     "text": [
      "[t]\n",
      "[t]\n",
      "[t]\n",
      "[t]\n",
      "[f]\n",
      "[f]\n",
      "[t]\n",
      "[f]\n"
     ]
    }
   ],
   "source": [
    "dtps = []\n",
    "for dt in prediction_subset.dtypes:\n",
    "    if dt == 'float64':\n",
    "        dtps.append('f')\n",
    "    elif dt == 'object':\n",
    "        dtps.append('t')\n",
    "for f in dtps:\n",
    "    print('['+f+']')"
   ]
  },
  {
   "cell_type": "code",
   "execution_count": 48,
   "metadata": {},
   "outputs": [
    {
     "data": {
      "image/png": "[encoded data removed]",
      "text/plain": [
       "<Figure size 864x1296 with 1 Axes>"
      ]
     },
     "metadata": {
      "needs_background": "light"
     },
     "output_type": "display_data"
    }
   ],
   "source": [
    "fig, ax = plt.subplots(figsize=(12, 18))\n",
    "ax.scatter(counts, classes)\n",
    "ax.set_yticks(classes)\n",
    "ax.set_yticklabels([id_class_dict[x] for x in classes])\n",
    "#ax.set_xlim(-10,500)\n",
    "#ax.set_xscale('log')\n",
    "\n",
    "# Don't allow the axis to be on top of your data\n",
    "ax.set_axisbelow(True)\n",
    "\n",
    "# Turn on the minor TICKS, which are required for the minor GRID\n",
    "#ax.minorticks_on()\n",
    "\n",
    "# Customize the major grid\n",
    "ax.grid(which='major', linestyle='-', linewidth='0.5', color='grey', axis='y')\n",
    "# Customize the minor grid\n",
    "#ax.grid(which='minor', linestyle=':', linewidth='0.5', color='black')\n",
    "#plt.savefig('../output_predictions_131020.png', dpi=300)\n",
    "plt.show()"
   ]
  },
  {
   "cell_type": "code",
   "execution_count": 146,
   "metadata": {},
   "outputs": [],
   "source": [
    "min_count = 20\n",
    "unique_validated = available_subset.groupby('object_annotation_category')['object_id'].nunique()\n",
    "\n",
    "sufficient_classes = unique_validated[unique_validated >= min_count]"
   ]
  },
  {
   "cell_type": "code",
   "execution_count": 147,
   "metadata": {},
   "outputs": [
    {
     "data": {
      "text/plain": [
       "73"
      ]
     },
     "execution_count": 147,
     "metadata": {},
     "output_type": "execute_result"
    }
   ],
   "source": [
    "len(sufficient_classes)"
   ]
  },
  {
   "cell_type": "code",
   "execution_count": 46,
   "metadata": {},
   "outputs": [
    {
     "data": {
      "text/plain": [
       "(array([ 0,  1,  2,  3,  4,  5,  6,  7,  8,  9, 10, 11, 12, 13, 14, 15, 16,\n",
       "        17, 19, 20, 21, 22, 23, 24, 25, 26, 27, 28, 29, 30, 33, 34, 35, 36,\n",
       "        37, 38, 39, 40, 41, 42, 44, 45, 46, 47, 48, 49, 50, 51, 52, 53, 54,\n",
       "        55, 56, 57, 58, 59, 60, 61, 62, 63, 64, 65, 66, 67, 68, 69, 70]),\n",
       " array([  26,  296,    1,    6,   58,   83,   39,   18,  935,   51,   14,\n",
       "          28,  143,    1,    2,    1,    4,  169,   16,    9,    6,   21,\n",
       "         492,    1,   15,    6,   65,  362,    5,   37,    1, 1671,  563,\n",
       "          62,   85,   48,  142,   34,    3,   10,   19,  469,  140,  141,\n",
       "           2,   44,   94,   52,   33,  877,   12,   16, 5581, 1519,    9,\n",
       "           6,  244, 1566,    2, 1348,  874,  857,   22,   36,   25,   50,\n",
       "         204]))"
      ]
     },
     "execution_count": 46,
     "metadata": {},
     "output_type": "execute_result"
    }
   ],
   "source": [
    "#classes, counts = np.unique(labels, return_counts=True)\n",
    "classes, counts"
   ]
  },
  {
   "cell_type": "code",
   "execution_count": 47,
   "metadata": {},
   "outputs": [
    {
     "data": {
      "text/plain": [
       "object_annotation_category\n",
       "Amphiprora                     5339\n",
       "Bacillariophyceae             28443\n",
       "Banquisia belgicae               46\n",
       "Ceratium                        224\n",
       "Chaetoceros single             4805\n",
       "Chaetoceros<Mediophyceae       1438\n",
       "Ciliophora                     7245\n",
       "Corethron                       919\n",
       "Cryptophyta                   70779\n",
       "Cylindrotheca                  3572\n",
       "Dactyliosolen                   708\n",
       "Dictyochales                  12322\n",
       "Dinophyceae                   12792\n",
       "Dinophysis                       48\n",
       "Diplopsalis<Dinophyceae X        22\n",
       "Eucampia                        279\n",
       "Eucampia chain                   74\n",
       "Guinardia                       518\n",
       "Gymnodinium                   14367\n",
       "Gyrodinium                      174\n",
       "Katodinium                      838\n",
       "Licmophora                      104\n",
       "Membraneis                      322\n",
       "Navicula                       1484\n",
       "Nitzschia frigida             20343\n",
       "Odontella sp.                    37\n",
       "Phaeocystis                    2792\n",
       "Proboscia sp.                  1235\n",
       "Pseudo-Nitzschia chain         6347\n",
       "Pyramimonas                  113296\n",
       "                              ...  \n",
       "centric 6 temp                  434\n",
       "chain<centric                    31\n",
       "chain<pennate                  1701\n",
       "detritus                       8449\n",
       "dinoflagellate-i              13245\n",
       "dinoflagellate-ii             13006\n",
       "dinoflagellate-iii             1004\n",
       "multiple<other                 4447\n",
       "part<other                    50258\n",
       "pennate 10 temp                3134\n",
       "pennate 11 temp                5552\n",
       "pennate 2 temp                97705\n",
       "pennate 7 temp                 1279\n",
       "pennate<Bacillariophyta         501\n",
       "t002                         609834\n",
       "t003                         186676\n",
       "t004                             22\n",
       "t005                            416\n",
       "t006                            433\n",
       "t007                          14526\n",
       "t008                         145861\n",
       "t009                           1441\n",
       "t010                          95612\n",
       "t011                          21971\n",
       "t012                         120076\n",
       "t013                           2352\n",
       "t016                          13861\n",
       "t017                           2593\n",
       "t019                           2130\n",
       "temp cylindrotheca            15498\n",
       "Name: object_id, Length: 74, dtype: int64"
      ]
     },
     "execution_count": 47,
     "metadata": {},
     "output_type": "execute_result"
    }
   ],
   "source": [
    "sufficient_classes"
   ]
  },
  {
   "cell_type": "code",
   "execution_count": 48,
   "metadata": {},
   "outputs": [
    {
     "data": {
      "image/png": "[encoded data removed]",
      "text/plain": [
       "<Figure size 864x1296 with 1 Axes>"
      ]
     },
     "metadata": {
      "needs_background": "light"
     },
     "output_type": "display_data"
    }
   ],
   "source": [
    "fig, ax = plt.subplots(figsize=(12, 18))\n",
    "ax.scatter(sufficient_classes.values, range(0,len(sufficient_classes)))\n",
    "ax.set_yticks(range(0,len(sufficient_classes)))\n",
    "ax.set_yticklabels(list(sufficient_classes.index))\n",
    "#ax.set_xlim(-10,500)\n",
    "#ax.set_xscale('log')\n",
    "\n",
    "# Don't allow the axis to be on top of your data\n",
    "ax.set_axisbelow(True)\n",
    "\n",
    "# Turn on the minor TICKS, which are required for the minor GRID\n",
    "#ax.minorticks_on()\n",
    "\n",
    "# Customize the major grid\n",
    "ax.grid(which='major', linestyle='-', linewidth='0.5', color='grey', axis='y')\n",
    "# Customize the minor grid\n",
    "#ax.grid(which='minor', linestyle=':', linewidth='0.5', color='black')\n",
    "plt.show()"
   ]
  },
  {
   "cell_type": "code",
   "execution_count": 145,
   "metadata": {},
   "outputs": [
    {
     "ename": "NameError",
     "evalue": "name 'sufficient_classes' is not defined",
     "output_type": "error",
     "traceback": [
      "\u001b[0;31m---------------------------------------------------------------------------\u001b[0m",
      "\u001b[0;31mNameError\u001b[0m                                 Traceback (most recent call last)",
      "\u001b[0;32m<ipython-input-145-9cc2e051f223>\u001b[0m in \u001b[0;36m<module>\u001b[0;34m\u001b[0m\n\u001b[1;32m      1\u001b[0m \u001b[0mfig\u001b[0m\u001b[0;34m,\u001b[0m \u001b[0max\u001b[0m \u001b[0;34m=\u001b[0m \u001b[0mplt\u001b[0m\u001b[0;34m.\u001b[0m\u001b[0msubplots\u001b[0m\u001b[0;34m(\u001b[0m\u001b[0;36m1\u001b[0m\u001b[0;34m,\u001b[0m\u001b[0;36m2\u001b[0m\u001b[0;34m,\u001b[0m \u001b[0mfigsize\u001b[0m\u001b[0;34m=\u001b[0m\u001b[0;34m(\u001b[0m\u001b[0;36m18\u001b[0m\u001b[0;34m,\u001b[0m \u001b[0;36m18\u001b[0m\u001b[0;34m)\u001b[0m\u001b[0;34m)\u001b[0m\u001b[0;34m\u001b[0m\u001b[0m\n\u001b[0;32m----> 2\u001b[0;31m \u001b[0max\u001b[0m\u001b[0;34m[\u001b[0m\u001b[0;36m1\u001b[0m\u001b[0;34m]\u001b[0m\u001b[0;34m.\u001b[0m\u001b[0mscatter\u001b[0m\u001b[0;34m(\u001b[0m\u001b[0msufficient_classes\u001b[0m\u001b[0;34m.\u001b[0m\u001b[0mvalues\u001b[0m\u001b[0;34m,\u001b[0m \u001b[0mrange\u001b[0m\u001b[0;34m(\u001b[0m\u001b[0;36m0\u001b[0m\u001b[0;34m,\u001b[0m\u001b[0mlen\u001b[0m\u001b[0;34m(\u001b[0m\u001b[0msufficient_classes\u001b[0m\u001b[0;34m)\u001b[0m\u001b[0;34m)\u001b[0m\u001b[0;34m)\u001b[0m\u001b[0;34m\u001b[0m\u001b[0m\n\u001b[0m\u001b[1;32m      3\u001b[0m \u001b[0max\u001b[0m\u001b[0;34m[\u001b[0m\u001b[0;36m1\u001b[0m\u001b[0;34m]\u001b[0m\u001b[0;34m.\u001b[0m\u001b[0mset_yticks\u001b[0m\u001b[0;34m(\u001b[0m\u001b[0mrange\u001b[0m\u001b[0;34m(\u001b[0m\u001b[0;36m0\u001b[0m\u001b[0;34m,\u001b[0m\u001b[0mlen\u001b[0m\u001b[0;34m(\u001b[0m\u001b[0msufficient_classes\u001b[0m\u001b[0;34m)\u001b[0m\u001b[0;34m)\u001b[0m\u001b[0;34m)\u001b[0m\u001b[0;34m\u001b[0m\u001b[0m\n\u001b[1;32m      4\u001b[0m \u001b[0max\u001b[0m\u001b[0;34m[\u001b[0m\u001b[0;36m1\u001b[0m\u001b[0;34m]\u001b[0m\u001b[0;34m.\u001b[0m\u001b[0mset_yticklabels\u001b[0m\u001b[0;34m(\u001b[0m\u001b[0mlist\u001b[0m\u001b[0;34m(\u001b[0m\u001b[0msufficient_classes\u001b[0m\u001b[0;34m.\u001b[0m\u001b[0mindex\u001b[0m\u001b[0;34m)\u001b[0m\u001b[0;34m)\u001b[0m\u001b[0;34m\u001b[0m\u001b[0m\n\u001b[1;32m      5\u001b[0m \u001b[0;31m#ax.set_xlim(-10,500)\u001b[0m\u001b[0;34m\u001b[0m\u001b[0;34m\u001b[0m\u001b[0m\n",
      "\u001b[0;31mNameError\u001b[0m: name 'sufficient_classes' is not defined"
     ]
    },
    {
     "data": {
      "image/png": "[encoded data removed]",
      "text/plain": [
       "<Figure size 1296x1296 with 2 Axes>"
      ]
     },
     "metadata": {
      "needs_background": "light"
     },
     "output_type": "display_data"
    }
   ],
   "source": [
    "fig, ax = plt.subplots(1,2, figsize=(18, 18))\n",
    "ax[1].scatter(sufficient_classes.values, range(0,len(sufficient_classes)))\n",
    "ax[1].set_yticks(range(0,len(sufficient_classes)))\n",
    "ax[1].set_yticklabels(list(sufficient_classes.index))\n",
    "#ax.set_xlim(-10,500)\n",
    "#ax.set_xscale('log')\n",
    "\n",
    "# Don't allow the axis to be on top of your data\n",
    "ax[1].set_axisbelow(True)\n",
    "ax[1].set_xlim(-10,5000)\n",
    "ax[1].set_title(\"Predictions\")\n",
    "\n",
    "\n",
    "# Turn on the minor TICKS, which are required for the minor GRID\n",
    "#ax.minorticks_on()\n",
    "\n",
    "# Customize the major grid\n",
    "ax[1].grid(which='major', linestyle='-', linewidth='0.5', color='grey', axis='y')\n",
    "# Customize the minor grid\n",
    "#ax.grid(which='minor', linestyle=':', linewidth='0.5', color='black')\n",
    "\n",
    "ax[0].scatter(counts, classes)\n",
    "ax[0].set_yticks(range(0,len(class_id_dict)))\n",
    "ax[0].set_yticklabels([id_class_dict[x] for x in classes])\n",
    "ax[0].set_xlim(-10,2500)\n",
    "#ax.set_xscale('log')\n",
    "\n",
    "# Don't allow the axis to be on top of your data\n",
    "ax[0].set_axisbelow(True)\n",
    "ax[0].set_title(\"Validated Data\")\n",
    "\n",
    "# Turn on the minor TICKS, which are required for the minor GRID\n",
    "#ax.minorticks_on()\n",
    "\n",
    "# Customize the major grid\n",
    "ax[0].grid(which='major', linestyle='-', linewidth='0.5', color='grey', axis='y')\n",
    "# Customize the minor grid\n",
    "#ax.grid(which='minor', linestyle=':', linewidth='0.5', color='black')\n",
    "plt.savefig('output_predictions_comparison_full.png', dpi=300)\n",
    "plt.show()"
   ]
  },
  {
   "cell_type": "code",
   "execution_count": null,
   "metadata": {},
   "outputs": [],
   "source": [
    "# pull out only validated images and run it on them and see how close the total numbers compare"
   ]
  }
 ],
 "metadata": {
  "kernelspec": {
   "display_name": "Python 3",
   "language": "python",
   "name": "python3"
  },
  "language_info": {
   "codemirror_mode": {
    "name": "ipython",
    "version": 3
   },
   "file_extension": ".py",
   "mimetype": "text/x-python",
   "name": "python",
   "nbconvert_exporter": "python",
   "pygments_lexer": "ipython3",
   "version": "3.5.2"
  }
 },
 "nbformat": 4,
 "nbformat_minor": 2
}
