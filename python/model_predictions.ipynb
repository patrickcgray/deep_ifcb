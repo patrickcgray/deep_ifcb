{
 "cells": [
  {
   "cell_type": "markdown",
   "metadata": {},
   "source": [
    "# Applying the Model"
   ]
  },
  {
   "cell_type": "code",
   "execution_count": 1,
   "metadata": {},
   "outputs": [],
   "source": [
    "import pandas as pd\n",
    "import geopandas as gpd\n",
    "import matplotlib.pyplot as plt"
   ]
  },
  {
   "cell_type": "code",
   "execution_count": null,
   "metadata": {},
   "outputs": [],
   "source": [
    "#img_md_subset = pd.read_csv('../../../Data/all_images_231020.csv')"
   ]
  },
  {
   "cell_type": "markdown",
   "metadata": {},
   "source": [
    "Now we're running the model on new data that hasn't had all the easy classes pulled from it"
   ]
  },
  {
   "cell_type": "code",
   "execution_count": null,
   "metadata": {},
   "outputs": [],
   "source": [
    "import glob, os\n",
    "\n",
    "tsv_list = []\n",
    "for file in glob.glob(\"../../../Data/fresh_data_012121/live/all_imagery/*.tsv\", recursive=True):\n",
    "    tsv_list.append(file)\n",
    "    \n",
    "print(len(tsv_list))"
   ]
  },
  {
   "cell_type": "code",
   "execution_count": null,
   "metadata": {
    "scrolled": true
   },
   "outputs": [],
   "source": [
    "img_md_subset = pd.read_csv(tsv_list[0], sep='\\t').iloc[1:][['object_id', 'sample_flag', 'object_lat', 'object_lon', 'object_date', 'object_time', 'object_peak_fluorescence', 'object_peak_scattering', 'object_equiv_diameter']]\n",
    "\n",
    "for tsv in tsv_list[1:]:\n",
    "    df_to_add = pd.read_csv(tsv, sep='\\t').iloc[1:][['object_id', 'sample_flag', 'object_lat', 'object_lon', 'object_date', 'object_time', 'object_peak_fluorescence', 'object_peak_scattering', 'object_equiv_diameter']]\n",
    "    img_md_subset = img_md_subset.append(df_to_add, ignore_index=True)"
   ]
  },
  {
   "cell_type": "code",
   "execution_count": null,
   "metadata": {},
   "outputs": [],
   "source": [
    "len(img_md_subset)"
   ]
  },
  {
   "cell_type": "code",
   "execution_count": null,
   "metadata": {},
   "outputs": [],
   "source": [
    "img_md_subset.columns"
   ]
  },
  {
   "cell_type": "code",
   "execution_count": null,
   "metadata": {},
   "outputs": [],
   "source": [
    "#img_md_subset.to_csv('../../../Data/fresh_data_012121/preserved/ifcb_ecotaxa_subset_012421.csv')\n",
    "#img_md_subset.to_csv('../../../Data/fresh_data_012121/live/ifcb_ecotaxa_subset_012421.csv')\n",
    "img_md_subset = pd.read_csv('../../../Data/fresh_data_012121/preserved/ifcb_ecotaxa_subset_012421.csv')"
   ]
  },
  {
   "cell_type": "code",
   "execution_count": 2,
   "metadata": {},
   "outputs": [],
   "source": [
    "# reading in the small subsets that schuyler predicted on\n",
    "\n",
    "img_md_subset = pd.read_csv('../../../Data/fresh_data_012121/live/ecotaxa_cnn_predictions_live_100_per_class_240121.csv', sep='\\t')\n",
    "#img_md_subset = pd.read_csv('../../../Data/fresh_data_012121/preserved/ecotaxa_cnn_predictions_preserved_with_live_model_100_per_class_250121.csv', sep='\\t')"
   ]
  },
  {
   "cell_type": "code",
   "execution_count": 2,
   "metadata": {},
   "outputs": [
    {
     "name": "stderr",
     "output_type": "stream",
     "text": [
      "/usr/local/lib/python3.5/dist-packages/IPython/core/interactiveshell.py:3020: DtypeWarning: Columns (264) have mixed types. Specify dtype option on import or set low_memory=False.\n",
      "  interactivity=interactivity, compiler=compiler, result=result)\n"
     ]
    }
   ],
   "source": [
    "# new random subset of 10,000 samples\n",
    "img_md_subset = pd.read_csv('../../../Data/fresh_data_012121/ecotaxa_export_live_10000_100221.csv')"
   ]
  },
  {
   "cell_type": "code",
   "execution_count": 3,
   "metadata": {},
   "outputs": [
    {
     "data": {
      "text/html": [
       "<div>\n",
       "<style scoped>\n",
       "    .dataframe tbody tr th:only-of-type {\n",
       "        vertical-align: middle;\n",
       "    }\n",
       "\n",
       "    .dataframe tbody tr th {\n",
       "        vertical-align: top;\n",
       "    }\n",
       "\n",
       "    .dataframe thead th {\n",
       "        text-align: right;\n",
       "    }\n",
       "</style>\n",
       "<table border=\"1\" class=\"dataframe\">\n",
       "  <thead>\n",
       "    <tr style=\"text-align: right;\">\n",
       "      <th></th>\n",
       "      <th>object_id</th>\n",
       "      <th>object_lat</th>\n",
       "      <th>object_lon</th>\n",
       "      <th>object_date</th>\n",
       "      <th>object_time</th>\n",
       "      <th>object_link</th>\n",
       "      <th>object_depth_min</th>\n",
       "      <th>object_depth_max</th>\n",
       "      <th>object_annotation_status</th>\n",
       "      <th>object_annotation_person_name</th>\n",
       "      <th>...</th>\n",
       "      <th>process_soft</th>\n",
       "      <th>process_soft_version</th>\n",
       "      <th>process_script</th>\n",
       "      <th>process_script_version</th>\n",
       "      <th>process_library</th>\n",
       "      <th>process_library_version</th>\n",
       "      <th>process_date</th>\n",
       "      <th>process_time</th>\n",
       "      <th>acq_id</th>\n",
       "      <th>acq_instrument</th>\n",
       "    </tr>\n",
       "  </thead>\n",
       "  <tbody>\n",
       "    <tr>\n",
       "      <th>0</th>\n",
       "      <td>D20171212T201207_IFCB116_00106</td>\n",
       "      <td>-64.7356</td>\n",
       "      <td>-64.1037</td>\n",
       "      <td>20171212</td>\n",
       "      <td>201207</td>\n",
       "      <td>http://pal.lternet.edu/</td>\n",
       "      <td>0</td>\n",
       "      <td>0</td>\n",
       "      <td>validated</td>\n",
       "      <td>Schuyler Nardelli</td>\n",
       "      <td>...</td>\n",
       "      <td>MATLAB</td>\n",
       "      <td>R2019b</td>\n",
       "      <td>easyIFCB</td>\n",
       "      <td>a4aa03a38c9f40d1b8fd282ef7ede108607d2d82</td>\n",
       "      <td>ifcb-analysis</td>\n",
       "      <td>e9e37998a8bb8caf587b19418202b650ba0b99f2</td>\n",
       "      <td>YYYYMMDD</td>\n",
       "      <td>HHMMSS</td>\n",
       "      <td>__DUMMY_ID__185697__</td>\n",
       "      <td>NaN</td>\n",
       "    </tr>\n",
       "    <tr>\n",
       "      <th>1</th>\n",
       "      <td>D20171212T201207_IFCB116_00378</td>\n",
       "      <td>-64.7356</td>\n",
       "      <td>-64.1037</td>\n",
       "      <td>20171212</td>\n",
       "      <td>201207</td>\n",
       "      <td>http://pal.lternet.edu/</td>\n",
       "      <td>0</td>\n",
       "      <td>0</td>\n",
       "      <td>validated</td>\n",
       "      <td>Schuyler Nardelli</td>\n",
       "      <td>...</td>\n",
       "      <td>MATLAB</td>\n",
       "      <td>R2019b</td>\n",
       "      <td>easyIFCB</td>\n",
       "      <td>a4aa03a38c9f40d1b8fd282ef7ede108607d2d82</td>\n",
       "      <td>ifcb-analysis</td>\n",
       "      <td>e9e37998a8bb8caf587b19418202b650ba0b99f2</td>\n",
       "      <td>YYYYMMDD</td>\n",
       "      <td>HHMMSS</td>\n",
       "      <td>__DUMMY_ID__185697__</td>\n",
       "      <td>NaN</td>\n",
       "    </tr>\n",
       "    <tr>\n",
       "      <th>2</th>\n",
       "      <td>D20171212T201207_IFCB116_00602</td>\n",
       "      <td>-64.7356</td>\n",
       "      <td>-64.1037</td>\n",
       "      <td>20171212</td>\n",
       "      <td>201207</td>\n",
       "      <td>http://pal.lternet.edu/</td>\n",
       "      <td>0</td>\n",
       "      <td>0</td>\n",
       "      <td>validated</td>\n",
       "      <td>Schuyler Nardelli</td>\n",
       "      <td>...</td>\n",
       "      <td>MATLAB</td>\n",
       "      <td>R2019b</td>\n",
       "      <td>easyIFCB</td>\n",
       "      <td>a4aa03a38c9f40d1b8fd282ef7ede108607d2d82</td>\n",
       "      <td>ifcb-analysis</td>\n",
       "      <td>e9e37998a8bb8caf587b19418202b650ba0b99f2</td>\n",
       "      <td>YYYYMMDD</td>\n",
       "      <td>HHMMSS</td>\n",
       "      <td>__DUMMY_ID__185697__</td>\n",
       "      <td>NaN</td>\n",
       "    </tr>\n",
       "    <tr>\n",
       "      <th>3</th>\n",
       "      <td>D20171212T201207_IFCB116_01090</td>\n",
       "      <td>-64.7356</td>\n",
       "      <td>-64.1037</td>\n",
       "      <td>20171212</td>\n",
       "      <td>201207</td>\n",
       "      <td>http://pal.lternet.edu/</td>\n",
       "      <td>0</td>\n",
       "      <td>0</td>\n",
       "      <td>validated</td>\n",
       "      <td>Schuyler Nardelli</td>\n",
       "      <td>...</td>\n",
       "      <td>MATLAB</td>\n",
       "      <td>R2019b</td>\n",
       "      <td>easyIFCB</td>\n",
       "      <td>a4aa03a38c9f40d1b8fd282ef7ede108607d2d82</td>\n",
       "      <td>ifcb-analysis</td>\n",
       "      <td>e9e37998a8bb8caf587b19418202b650ba0b99f2</td>\n",
       "      <td>YYYYMMDD</td>\n",
       "      <td>HHMMSS</td>\n",
       "      <td>__DUMMY_ID__185697__</td>\n",
       "      <td>NaN</td>\n",
       "    </tr>\n",
       "    <tr>\n",
       "      <th>4</th>\n",
       "      <td>D20171212T201207_IFCB116_01165</td>\n",
       "      <td>-64.7356</td>\n",
       "      <td>-64.1037</td>\n",
       "      <td>20171212</td>\n",
       "      <td>201207</td>\n",
       "      <td>http://pal.lternet.edu/</td>\n",
       "      <td>0</td>\n",
       "      <td>0</td>\n",
       "      <td>validated</td>\n",
       "      <td>Schuyler Nardelli</td>\n",
       "      <td>...</td>\n",
       "      <td>MATLAB</td>\n",
       "      <td>R2019b</td>\n",
       "      <td>easyIFCB</td>\n",
       "      <td>a4aa03a38c9f40d1b8fd282ef7ede108607d2d82</td>\n",
       "      <td>ifcb-analysis</td>\n",
       "      <td>e9e37998a8bb8caf587b19418202b650ba0b99f2</td>\n",
       "      <td>YYYYMMDD</td>\n",
       "      <td>HHMMSS</td>\n",
       "      <td>__DUMMY_ID__185697__</td>\n",
       "      <td>NaN</td>\n",
       "    </tr>\n",
       "  </tbody>\n",
       "</table>\n",
       "<p>5 rows × 280 columns</p>\n",
       "</div>"
      ],
      "text/plain": [
       "                        object_id  object_lat  object_lon  object_date  \\\n",
       "0  D20171212T201207_IFCB116_00106    -64.7356    -64.1037     20171212   \n",
       "1  D20171212T201207_IFCB116_00378    -64.7356    -64.1037     20171212   \n",
       "2  D20171212T201207_IFCB116_00602    -64.7356    -64.1037     20171212   \n",
       "3  D20171212T201207_IFCB116_01090    -64.7356    -64.1037     20171212   \n",
       "4  D20171212T201207_IFCB116_01165    -64.7356    -64.1037     20171212   \n",
       "\n",
       "   object_time              object_link  object_depth_min  object_depth_max  \\\n",
       "0       201207  http://pal.lternet.edu/                 0                 0   \n",
       "1       201207  http://pal.lternet.edu/                 0                 0   \n",
       "2       201207  http://pal.lternet.edu/                 0                 0   \n",
       "3       201207  http://pal.lternet.edu/                 0                 0   \n",
       "4       201207  http://pal.lternet.edu/                 0                 0   \n",
       "\n",
       "  object_annotation_status object_annotation_person_name       ...        \\\n",
       "0                validated             Schuyler Nardelli       ...         \n",
       "1                validated             Schuyler Nardelli       ...         \n",
       "2                validated             Schuyler Nardelli       ...         \n",
       "3                validated             Schuyler Nardelli       ...         \n",
       "4                validated             Schuyler Nardelli       ...         \n",
       "\n",
       "  process_soft  process_soft_version  process_script  \\\n",
       "0       MATLAB                R2019b        easyIFCB   \n",
       "1       MATLAB                R2019b        easyIFCB   \n",
       "2       MATLAB                R2019b        easyIFCB   \n",
       "3       MATLAB                R2019b        easyIFCB   \n",
       "4       MATLAB                R2019b        easyIFCB   \n",
       "\n",
       "                     process_script_version process_library  \\\n",
       "0  a4aa03a38c9f40d1b8fd282ef7ede108607d2d82   ifcb-analysis   \n",
       "1  a4aa03a38c9f40d1b8fd282ef7ede108607d2d82   ifcb-analysis   \n",
       "2  a4aa03a38c9f40d1b8fd282ef7ede108607d2d82   ifcb-analysis   \n",
       "3  a4aa03a38c9f40d1b8fd282ef7ede108607d2d82   ifcb-analysis   \n",
       "4  a4aa03a38c9f40d1b8fd282ef7ede108607d2d82   ifcb-analysis   \n",
       "\n",
       "                    process_library_version  process_date  process_time  \\\n",
       "0  e9e37998a8bb8caf587b19418202b650ba0b99f2      YYYYMMDD        HHMMSS   \n",
       "1  e9e37998a8bb8caf587b19418202b650ba0b99f2      YYYYMMDD        HHMMSS   \n",
       "2  e9e37998a8bb8caf587b19418202b650ba0b99f2      YYYYMMDD        HHMMSS   \n",
       "3  e9e37998a8bb8caf587b19418202b650ba0b99f2      YYYYMMDD        HHMMSS   \n",
       "4  e9e37998a8bb8caf587b19418202b650ba0b99f2      YYYYMMDD        HHMMSS   \n",
       "\n",
       "                 acq_id  acq_instrument  \n",
       "0  __DUMMY_ID__185697__             NaN  \n",
       "1  __DUMMY_ID__185697__             NaN  \n",
       "2  __DUMMY_ID__185697__             NaN  \n",
       "3  __DUMMY_ID__185697__             NaN  \n",
       "4  __DUMMY_ID__185697__             NaN  \n",
       "\n",
       "[5 rows x 280 columns]"
      ]
     },
     "execution_count": 3,
     "metadata": {},
     "output_type": "execute_result"
    }
   ],
   "source": [
    "img_md_subset.head()"
   ]
  },
  {
   "cell_type": "code",
   "execution_count": 4,
   "metadata": {},
   "outputs": [
    {
     "data": {
      "text/plain": [
       "9517"
      ]
     },
     "execution_count": 4,
     "metadata": {},
     "output_type": "execute_result"
    }
   ],
   "source": [
    "# drop unwanted classes\n",
    "\n",
    "# Here are groups we can cut:\n",
    "classes_to_drop = ['Banquisia belgicae',\n",
    "'Dinophyceae',\n",
    "'pennate<Bacillariophyta',\n",
    "'Licmophora',\n",
    "'Rhizosolenia',\n",
    "'centric 4 temp',\n",
    "'centric 6 temp',\n",
    "'t005',\n",
    "'t006',\n",
    "'t009',\n",
    "'t019',\n",
    "'t020',\n",
    "'Warnowia',\n",
    "'Unknowns'\n",
    "]\n",
    "\n",
    "img_md_subset = img_md_subset.drop(img_md_subset[img_md_subset.object_annotation_category.isin(classes_to_drop)].index)\n",
    "len(img_md_subset)"
   ]
  },
  {
   "cell_type": "code",
   "execution_count": 5,
   "metadata": {},
   "outputs": [
    {
     "data": {
      "text/plain": [
       "9517"
      ]
     },
     "execution_count": 5,
     "metadata": {},
     "output_type": "execute_result"
    }
   ],
   "source": [
    "# Here are groups we can combine:\n",
    "\n",
    "img_md_subset[img_md_subset.object_annotation_category == 'Tintinnida'] = 'Ciliophora'\n",
    "img_md_subset[img_md_subset.object_annotation_category == 'Odontella sp.'] = 'chain<centric'\n",
    "img_md_subset[img_md_subset.object_annotation_category == 'Eucampia chain'] = 'chain<centric'\n",
    "len(img_md_subset)"
   ]
  },
  {
   "cell_type": "code",
   "execution_count": 6,
   "metadata": {},
   "outputs": [
    {
     "name": "stderr",
     "output_type": "stream",
     "text": [
      "Using TensorFlow backend.\n"
     ]
    },
    {
     "data": {
      "text/plain": [
       "['/job:localhost/replica:0/task:0/device:GPU:0']"
      ]
     },
     "execution_count": 6,
     "metadata": {},
     "output_type": "execute_result"
    }
   ],
   "source": [
    "from keras import backend as K\n",
    "K.tensorflow_backend._get_available_gpus()"
   ]
  },
  {
   "cell_type": "code",
   "execution_count": 7,
   "metadata": {},
   "outputs": [],
   "source": [
    "import glob, os\n",
    "\n",
    "file_dir = '../../../Data/fresh_data_012121/live/all_imagery/'\n",
    "\n",
    "os.chdir(file_dir)"
   ]
  },
  {
   "cell_type": "code",
   "execution_count": 8,
   "metadata": {},
   "outputs": [
    {
     "name": "stdout",
     "output_type": "stream",
     "text": [
      "3038045\n"
     ]
    },
    {
     "data": {
      "text/plain": [
       "9517"
      ]
     },
     "execution_count": 8,
     "metadata": {},
     "output_type": "execute_result"
    }
   ],
   "source": [
    "fn_list = []\n",
    "\n",
    "for file in glob.glob(\"*.png\"):\n",
    "    fn_list.append(file)\n",
    "    \n",
    "print(len(fn_list))\n",
    "\n",
    "fn_edit = [x[:-4] for x in fn_list]\n",
    "\n",
    "available_subset = img_md_subset[img_md_subset['object_id'].isin(fn_edit)]\n",
    "len(available_subset)"
   ]
  },
  {
   "cell_type": "code",
   "execution_count": 9,
   "metadata": {},
   "outputs": [
    {
     "data": {
      "text/plain": [
       "0.025105992"
      ]
     },
     "execution_count": 9,
     "metadata": {},
     "output_type": "execute_result"
    }
   ],
   "source": [
    "import sys\n",
    " \n",
    "sys.getsizeof(fn_edit) / 1e9"
   ]
  },
  {
   "cell_type": "code",
   "execution_count": 10,
   "metadata": {},
   "outputs": [],
   "source": [
    "del fn_edit"
   ]
  },
  {
   "cell_type": "code",
   "execution_count": 11,
   "metadata": {},
   "outputs": [],
   "source": [
    "del img_md_subset"
   ]
  },
  {
   "cell_type": "code",
   "execution_count": 12,
   "metadata": {},
   "outputs": [
    {
     "data": {
      "text/plain": [
       "['Amphiprora',\n",
       " 'Chaetoceros single',\n",
       " 'Chaetoceros<Mediophyceae',\n",
       " 'Ciliophora',\n",
       " 'Corethron',\n",
       " 'Cryptophyta',\n",
       " 'Cylindrotheca',\n",
       " 'Dactyliosolen',\n",
       " 'Dictyochales',\n",
       " 'Eucampia',\n",
       " 'Gymnodinium',\n",
       " 'Gyrodinium',\n",
       " 'Katodinium',\n",
       " 'Membraneis',\n",
       " 'Navicula',\n",
       " 'Nitzschia frigida',\n",
       " 'Phaeocystis',\n",
       " 'Proboscia sp.',\n",
       " 'Pseudo-Nitzschia chain',\n",
       " 'Pyramimonas',\n",
       " 'badfocus<artefact',\n",
       " 'bead',\n",
       " 'bubble',\n",
       " 'centric',\n",
       " 'centric 1 temp',\n",
       " 'centric 2 temp',\n",
       " 'centric 3 temp',\n",
       " 'chain<centric',\n",
       " 'chain<pennate',\n",
       " 'detritus',\n",
       " 'dinoflagellate-i',\n",
       " 'dinoflagellate-ii',\n",
       " 'dinoflagellate-iii',\n",
       " 'multiple<other',\n",
       " 'pennate 1 temp',\n",
       " 'pennate 10 temp',\n",
       " 'pennate 11 temp',\n",
       " 'pennate 2 temp',\n",
       " 'pennate 7 temp',\n",
       " 't002',\n",
       " 't007',\n",
       " 't012',\n",
       " 't013',\n",
       " 'temp cylindrotheca']"
      ]
     },
     "execution_count": 12,
     "metadata": {},
     "output_type": "execute_result"
    }
   ],
   "source": [
    "class_id_dict = {'Amphiprora': 0,\n",
    " 'Chaetoceros single': 1,\n",
    " 'Chaetoceros<Mediophyceae': 2,\n",
    " 'Ciliophora': 3,\n",
    " 'Corethron': 4,\n",
    " 'Cryptophyta': 5,\n",
    " 'Cylindrotheca': 6,\n",
    " 'Dactyliosolen': 7,\n",
    " 'Dictyochales': 8,\n",
    " 'Eucampia': 9,\n",
    " 'Gymnodinium': 10,\n",
    " 'Gyrodinium': 11,\n",
    " 'Katodinium': 12,\n",
    " 'Membraneis': 13,\n",
    " 'Navicula': 14,\n",
    " 'Nitzschia frigida': 15,\n",
    " 'Phaeocystis': 16,\n",
    " 'Proboscia sp.': 17,\n",
    " 'Pseudo-Nitzschia chain': 18,\n",
    " 'Pyramimonas': 19,\n",
    " 'badfocus<artefact': 20,\n",
    " 'bead': 21,\n",
    " 'bubble': 22,\n",
    " 'centric': 23,\n",
    " 'centric 1 temp': 24,\n",
    " 'centric 2 temp': 25,\n",
    " 'centric 3 temp': 26,\n",
    " 'chain<centric': 27,\n",
    " 'chain<pennate': 28,\n",
    " 'detritus': 29,\n",
    " 'dinoflagellate-i': 30,\n",
    " 'dinoflagellate-ii': 31,\n",
    " 'dinoflagellate-iii': 32,\n",
    " 'multiple<other': 33,\n",
    " 'pennate 1 temp': 34,\n",
    " 'pennate 10 temp': 35,\n",
    " 'pennate 11 temp': 36,\n",
    " 'pennate 2 temp': 37,\n",
    " 'pennate 7 temp': 38,\n",
    " 't002': 39,\n",
    " 't007': 40,\n",
    " 't012': 41,\n",
    " 't013': 42,\n",
    " 'temp cylindrotheca': 43}\n",
    "\n",
    "id_class_dict = dict((v,k) for k,v in class_id_dict.items())\n",
    "list(id_class_dict)\n",
    "\n",
    "[id_class_dict[i] for i in range(len(id_class_dict))]"
   ]
  },
  {
   "cell_type": "code",
   "execution_count": 13,
   "metadata": {},
   "outputs": [
    {
     "data": {
      "text/plain": [
       "44"
      ]
     },
     "execution_count": 13,
     "metadata": {},
     "output_type": "execute_result"
    }
   ],
   "source": [
    "len(class_id_dict)"
   ]
  },
  {
   "cell_type": "code",
   "execution_count": 14,
   "metadata": {},
   "outputs": [
    {
     "data": {
      "text/plain": [
       "0.021394216"
      ]
     },
     "execution_count": 14,
     "metadata": {},
     "output_type": "execute_result"
    }
   ],
   "source": [
    "available_subset.memory_usage(index=True).sum() / 1e9"
   ]
  },
  {
   "cell_type": "code",
   "execution_count": 15,
   "metadata": {},
   "outputs": [
    {
     "data": {
      "text/plain": [
       "9517"
      ]
     },
     "execution_count": 15,
     "metadata": {},
     "output_type": "execute_result"
    }
   ],
   "source": [
    "len(available_subset)"
   ]
  },
  {
   "cell_type": "code",
   "execution_count": 16,
   "metadata": {},
   "outputs": [],
   "source": [
    "#prediction_subset = available_subset.sample(frac=frac)\n",
    "#prediction_subset = available_subset[:1630000] # presered is 1630000\n",
    "prediction_subset = available_subset"
   ]
  },
  {
   "cell_type": "code",
   "execution_count": 17,
   "metadata": {},
   "outputs": [],
   "source": [
    "del available_subset"
   ]
  },
  {
   "cell_type": "code",
   "execution_count": 18,
   "metadata": {},
   "outputs": [
    {
     "data": {
      "text/html": [
       "<div>\n",
       "<style scoped>\n",
       "    .dataframe tbody tr th:only-of-type {\n",
       "        vertical-align: middle;\n",
       "    }\n",
       "\n",
       "    .dataframe tbody tr th {\n",
       "        vertical-align: top;\n",
       "    }\n",
       "\n",
       "    .dataframe thead th {\n",
       "        text-align: right;\n",
       "    }\n",
       "</style>\n",
       "<table border=\"1\" class=\"dataframe\">\n",
       "  <thead>\n",
       "    <tr style=\"text-align: right;\">\n",
       "      <th></th>\n",
       "      <th>object_id</th>\n",
       "      <th>object_lat</th>\n",
       "      <th>object_lon</th>\n",
       "      <th>object_date</th>\n",
       "      <th>object_time</th>\n",
       "      <th>object_link</th>\n",
       "      <th>object_depth_min</th>\n",
       "      <th>object_depth_max</th>\n",
       "      <th>object_annotation_status</th>\n",
       "      <th>object_annotation_person_name</th>\n",
       "      <th>...</th>\n",
       "      <th>process_soft</th>\n",
       "      <th>process_soft_version</th>\n",
       "      <th>process_script</th>\n",
       "      <th>process_script_version</th>\n",
       "      <th>process_library</th>\n",
       "      <th>process_library_version</th>\n",
       "      <th>process_date</th>\n",
       "      <th>process_time</th>\n",
       "      <th>acq_id</th>\n",
       "      <th>acq_instrument</th>\n",
       "    </tr>\n",
       "  </thead>\n",
       "  <tbody>\n",
       "    <tr>\n",
       "      <th>0</th>\n",
       "      <td>D20171212T201207_IFCB116_00106</td>\n",
       "      <td>-64.7356</td>\n",
       "      <td>-64.1037</td>\n",
       "      <td>20171212</td>\n",
       "      <td>201207</td>\n",
       "      <td>http://pal.lternet.edu/</td>\n",
       "      <td>0</td>\n",
       "      <td>0</td>\n",
       "      <td>validated</td>\n",
       "      <td>Schuyler Nardelli</td>\n",
       "      <td>...</td>\n",
       "      <td>MATLAB</td>\n",
       "      <td>R2019b</td>\n",
       "      <td>easyIFCB</td>\n",
       "      <td>a4aa03a38c9f40d1b8fd282ef7ede108607d2d82</td>\n",
       "      <td>ifcb-analysis</td>\n",
       "      <td>e9e37998a8bb8caf587b19418202b650ba0b99f2</td>\n",
       "      <td>YYYYMMDD</td>\n",
       "      <td>HHMMSS</td>\n",
       "      <td>__DUMMY_ID__185697__</td>\n",
       "      <td>NaN</td>\n",
       "    </tr>\n",
       "    <tr>\n",
       "      <th>1</th>\n",
       "      <td>D20171212T201207_IFCB116_00378</td>\n",
       "      <td>-64.7356</td>\n",
       "      <td>-64.1037</td>\n",
       "      <td>20171212</td>\n",
       "      <td>201207</td>\n",
       "      <td>http://pal.lternet.edu/</td>\n",
       "      <td>0</td>\n",
       "      <td>0</td>\n",
       "      <td>validated</td>\n",
       "      <td>Schuyler Nardelli</td>\n",
       "      <td>...</td>\n",
       "      <td>MATLAB</td>\n",
       "      <td>R2019b</td>\n",
       "      <td>easyIFCB</td>\n",
       "      <td>a4aa03a38c9f40d1b8fd282ef7ede108607d2d82</td>\n",
       "      <td>ifcb-analysis</td>\n",
       "      <td>e9e37998a8bb8caf587b19418202b650ba0b99f2</td>\n",
       "      <td>YYYYMMDD</td>\n",
       "      <td>HHMMSS</td>\n",
       "      <td>__DUMMY_ID__185697__</td>\n",
       "      <td>NaN</td>\n",
       "    </tr>\n",
       "    <tr>\n",
       "      <th>2</th>\n",
       "      <td>D20171212T201207_IFCB116_00602</td>\n",
       "      <td>-64.7356</td>\n",
       "      <td>-64.1037</td>\n",
       "      <td>20171212</td>\n",
       "      <td>201207</td>\n",
       "      <td>http://pal.lternet.edu/</td>\n",
       "      <td>0</td>\n",
       "      <td>0</td>\n",
       "      <td>validated</td>\n",
       "      <td>Schuyler Nardelli</td>\n",
       "      <td>...</td>\n",
       "      <td>MATLAB</td>\n",
       "      <td>R2019b</td>\n",
       "      <td>easyIFCB</td>\n",
       "      <td>a4aa03a38c9f40d1b8fd282ef7ede108607d2d82</td>\n",
       "      <td>ifcb-analysis</td>\n",
       "      <td>e9e37998a8bb8caf587b19418202b650ba0b99f2</td>\n",
       "      <td>YYYYMMDD</td>\n",
       "      <td>HHMMSS</td>\n",
       "      <td>__DUMMY_ID__185697__</td>\n",
       "      <td>NaN</td>\n",
       "    </tr>\n",
       "    <tr>\n",
       "      <th>3</th>\n",
       "      <td>D20171212T201207_IFCB116_01090</td>\n",
       "      <td>-64.7356</td>\n",
       "      <td>-64.1037</td>\n",
       "      <td>20171212</td>\n",
       "      <td>201207</td>\n",
       "      <td>http://pal.lternet.edu/</td>\n",
       "      <td>0</td>\n",
       "      <td>0</td>\n",
       "      <td>validated</td>\n",
       "      <td>Schuyler Nardelli</td>\n",
       "      <td>...</td>\n",
       "      <td>MATLAB</td>\n",
       "      <td>R2019b</td>\n",
       "      <td>easyIFCB</td>\n",
       "      <td>a4aa03a38c9f40d1b8fd282ef7ede108607d2d82</td>\n",
       "      <td>ifcb-analysis</td>\n",
       "      <td>e9e37998a8bb8caf587b19418202b650ba0b99f2</td>\n",
       "      <td>YYYYMMDD</td>\n",
       "      <td>HHMMSS</td>\n",
       "      <td>__DUMMY_ID__185697__</td>\n",
       "      <td>NaN</td>\n",
       "    </tr>\n",
       "    <tr>\n",
       "      <th>4</th>\n",
       "      <td>D20171212T201207_IFCB116_01165</td>\n",
       "      <td>-64.7356</td>\n",
       "      <td>-64.1037</td>\n",
       "      <td>20171212</td>\n",
       "      <td>201207</td>\n",
       "      <td>http://pal.lternet.edu/</td>\n",
       "      <td>0</td>\n",
       "      <td>0</td>\n",
       "      <td>validated</td>\n",
       "      <td>Schuyler Nardelli</td>\n",
       "      <td>...</td>\n",
       "      <td>MATLAB</td>\n",
       "      <td>R2019b</td>\n",
       "      <td>easyIFCB</td>\n",
       "      <td>a4aa03a38c9f40d1b8fd282ef7ede108607d2d82</td>\n",
       "      <td>ifcb-analysis</td>\n",
       "      <td>e9e37998a8bb8caf587b19418202b650ba0b99f2</td>\n",
       "      <td>YYYYMMDD</td>\n",
       "      <td>HHMMSS</td>\n",
       "      <td>__DUMMY_ID__185697__</td>\n",
       "      <td>NaN</td>\n",
       "    </tr>\n",
       "  </tbody>\n",
       "</table>\n",
       "<p>5 rows × 280 columns</p>\n",
       "</div>"
      ],
      "text/plain": [
       "                        object_id object_lat object_lon  object_date  \\\n",
       "0  D20171212T201207_IFCB116_00106   -64.7356   -64.1037     20171212   \n",
       "1  D20171212T201207_IFCB116_00378   -64.7356   -64.1037     20171212   \n",
       "2  D20171212T201207_IFCB116_00602   -64.7356   -64.1037     20171212   \n",
       "3  D20171212T201207_IFCB116_01090   -64.7356   -64.1037     20171212   \n",
       "4  D20171212T201207_IFCB116_01165   -64.7356   -64.1037     20171212   \n",
       "\n",
       "   object_time              object_link  object_depth_min  object_depth_max  \\\n",
       "0       201207  http://pal.lternet.edu/                 0                 0   \n",
       "1       201207  http://pal.lternet.edu/                 0                 0   \n",
       "2       201207  http://pal.lternet.edu/                 0                 0   \n",
       "3       201207  http://pal.lternet.edu/                 0                 0   \n",
       "4       201207  http://pal.lternet.edu/                 0                 0   \n",
       "\n",
       "  object_annotation_status object_annotation_person_name       ...        \\\n",
       "0                validated             Schuyler Nardelli       ...         \n",
       "1                validated             Schuyler Nardelli       ...         \n",
       "2                validated             Schuyler Nardelli       ...         \n",
       "3                validated             Schuyler Nardelli       ...         \n",
       "4                validated             Schuyler Nardelli       ...         \n",
       "\n",
       "  process_soft  process_soft_version  process_script  \\\n",
       "0       MATLAB                R2019b        easyIFCB   \n",
       "1       MATLAB                R2019b        easyIFCB   \n",
       "2       MATLAB                R2019b        easyIFCB   \n",
       "3       MATLAB                R2019b        easyIFCB   \n",
       "4       MATLAB                R2019b        easyIFCB   \n",
       "\n",
       "                     process_script_version process_library  \\\n",
       "0  a4aa03a38c9f40d1b8fd282ef7ede108607d2d82   ifcb-analysis   \n",
       "1  a4aa03a38c9f40d1b8fd282ef7ede108607d2d82   ifcb-analysis   \n",
       "2  a4aa03a38c9f40d1b8fd282ef7ede108607d2d82   ifcb-analysis   \n",
       "3  a4aa03a38c9f40d1b8fd282ef7ede108607d2d82   ifcb-analysis   \n",
       "4  a4aa03a38c9f40d1b8fd282ef7ede108607d2d82   ifcb-analysis   \n",
       "\n",
       "                    process_library_version  process_date process_time  \\\n",
       "0  e9e37998a8bb8caf587b19418202b650ba0b99f2      YYYYMMDD       HHMMSS   \n",
       "1  e9e37998a8bb8caf587b19418202b650ba0b99f2      YYYYMMDD       HHMMSS   \n",
       "2  e9e37998a8bb8caf587b19418202b650ba0b99f2      YYYYMMDD       HHMMSS   \n",
       "3  e9e37998a8bb8caf587b19418202b650ba0b99f2      YYYYMMDD       HHMMSS   \n",
       "4  e9e37998a8bb8caf587b19418202b650ba0b99f2      YYYYMMDD       HHMMSS   \n",
       "\n",
       "                 acq_id  acq_instrument  \n",
       "0  __DUMMY_ID__185697__             NaN  \n",
       "1  __DUMMY_ID__185697__             NaN  \n",
       "2  __DUMMY_ID__185697__             NaN  \n",
       "3  __DUMMY_ID__185697__             NaN  \n",
       "4  __DUMMY_ID__185697__             NaN  \n",
       "\n",
       "[5 rows x 280 columns]"
      ]
     },
     "execution_count": 18,
     "metadata": {},
     "output_type": "execute_result"
    }
   ],
   "source": [
    "prediction_subset.head()"
   ]
  },
  {
   "cell_type": "code",
   "execution_count": 19,
   "metadata": {},
   "outputs": [
    {
     "data": {
      "text/plain": [
       "9517"
      ]
     },
     "execution_count": 19,
     "metadata": {},
     "output_type": "execute_result"
    }
   ],
   "source": [
    "len(prediction_subset)"
   ]
  },
  {
   "cell_type": "code",
   "execution_count": null,
   "metadata": {},
   "outputs": [],
   "source": [
    "! ls ../../../../Code/deep_ifcb/metrics_700samples_noflu_50epochs/model_weights_all_classes_flu_iteration_noflu_50.hdf5"
   ]
  },
  {
   "cell_type": "code",
   "execution_count": 24,
   "metadata": {},
   "outputs": [
    {
     "name": "stdout",
     "output_type": "stream",
     "text": [
      "/host/Data/fresh_data_012121/live/all_imagery\r\n"
     ]
    }
   ],
   "source": [
    "! pwd"
   ]
  },
  {
   "cell_type": "code",
   "execution_count": 20,
   "metadata": {},
   "outputs": [],
   "source": [
    "from tensorflow import keras\n",
    "\n",
    "#model = keras.models.load_model('../../../../Code/deep_ifcb/metrics_700samples_noflu_50epochs/model_weights_all_classes_flu_iteration_noflu_50.hdf5')\n",
    "#model = keras.models.load_model('../../../../Code/deep_ifcb/metrics_700samples_flu2_flu_scatter_50epochs_1000samples/model_weights_all_classes_flu_iteration_2flu_flu_scatter_50_1000.hdf5')\n",
    "model = keras.models.load_model('../../../../Code/deep_ifcb/model_weights_all_classes_100221_2.hdf5')"
   ]
  },
  {
   "cell_type": "code",
   "execution_count": 23,
   "metadata": {},
   "outputs": [],
   "source": [
    "from tensorflow.keras.preprocessing import image\n",
    "import numpy as np\n",
    "import cv2\n",
    "\n",
    "def generate_data(available_subset, batch_size):\n",
    "    \"\"\"Replaces Keras' native ImageDataGenerator.\"\"\"\n",
    "    i = 0\n",
    "    while True:\n",
    "        images = []\n",
    "        labels = []\n",
    "        merged_labels = []\n",
    "        original_labels = []\n",
    "        flu_data = []\n",
    "        \n",
    "        for b in range(batch_size):\n",
    "            if i >= len(available_subset):\n",
    "                i=0\n",
    "            row = available_subset.iloc[i]\n",
    "            i+=1\n",
    "            \n",
    "            #img = image.load_img(row['object_id']+'.png', target_size=(150, 150), color_mode=\"grayscale\")\n",
    "            #images.append(image.img_to_array(img))\n",
    "            desired_size = 150\n",
    "            im = cv2.imread(row['object_id']+'.png', cv2.IMREAD_GRAYSCALE)\n",
    "            old_size = im.shape[:2] # old_size is in (height, width) format\n",
    "            ratio = float(desired_size)/max(old_size)\n",
    "            new_size = tuple([int(x*ratio) for x in old_size])\n",
    "            # new_size should be in (width, height) format\n",
    "            im = cv2.resize(im, (new_size[1], new_size[0]))\n",
    "            delta_w = desired_size - new_size[1]\n",
    "            delta_h = desired_size - new_size[0]\n",
    "            top, bottom = delta_h//2, delta_h-(delta_h//2)\n",
    "            left, right = delta_w//2, delta_w-(delta_w//2)\n",
    "            new_im = cv2.copyMakeBorder(im, 0, delta_h, 0, delta_w, cv2.BORDER_CONSTANT,0)\n",
    "            img = new_im[..., np.newaxis]\n",
    "\n",
    "            images.append(img)\n",
    "            #labels.append(class_id_dict[row['merged_category']])\n",
    "            #merged_labels.append(row['merged_category'])\n",
    "            #original_labels.append(row['object_annotation_category'])\n",
    "            #flu_data.append([row['object_peak_fluorescence'], row['object_peak_scattering']])\n",
    "        \n",
    "        image_batch = np.array(images) / 130\n",
    "        #flu_batch = np.array(flu_data)\n",
    "        \n",
    "        \n",
    "        #yield [image_batch, flu_batch]\n",
    "        yield [image_batch]"
   ]
  },
  {
   "cell_type": "code",
   "execution_count": 24,
   "metadata": {},
   "outputs": [
    {
     "data": {
      "text/plain": [
       "(3260.0, 6076.0)"
      ]
     },
     "execution_count": 24,
     "metadata": {},
     "output_type": "execute_result"
    }
   ],
   "source": [
    "1630000 / 500, 3038000/500"
   ]
  },
  {
   "cell_type": "code",
   "execution_count": 25,
   "metadata": {},
   "outputs": [
    {
     "name": "stdout",
     "output_type": "stream",
     "text": [
      "9517/9517 [==============================] - 33s 4ms/step\n"
     ]
    }
   ],
   "source": [
    "predict_prob = model.predict_generator(generator = generate_data(prediction_subset,batch_size=1), steps=9517/1, verbose=1)\n",
    "#predict_prob = model.predict([X_predict, flu_data])"
   ]
  },
  {
   "cell_type": "code",
   "execution_count": 26,
   "metadata": {},
   "outputs": [
    {
     "data": {
      "text/plain": [
       "(9517, 44)"
      ]
     },
     "execution_count": 26,
     "metadata": {},
     "output_type": "execute_result"
    }
   ],
   "source": [
    "predict_prob.shape"
   ]
  },
  {
   "cell_type": "code",
   "execution_count": 27,
   "metadata": {},
   "outputs": [],
   "source": [
    "predictions = np.argmax(predict_prob, axis=1)"
   ]
  },
  {
   "cell_type": "code",
   "execution_count": 28,
   "metadata": {},
   "outputs": [],
   "source": [
    "predict_prob_values = []\n",
    "for i in range(len(predictions)):\n",
    "    predict_prob_values.append(predict_prob[i][predictions[i]])"
   ]
  },
  {
   "cell_type": "code",
   "execution_count": 29,
   "metadata": {},
   "outputs": [
    {
     "data": {
      "text/plain": [
       "(0.80076796, 0.23784816)"
      ]
     },
     "execution_count": 29,
     "metadata": {},
     "output_type": "execute_result"
    }
   ],
   "source": [
    "np.mean(predict_prob_values), np.std(predict_prob_values)"
   ]
  },
  {
   "cell_type": "code",
   "execution_count": 30,
   "metadata": {},
   "outputs": [],
   "source": [
    "prediction_subset['image_file_name'] = prediction_subset['object_id'] + '.png'"
   ]
  },
  {
   "cell_type": "code",
   "execution_count": 31,
   "metadata": {},
   "outputs": [
    {
     "data": {
      "text/plain": [
       "(9517, 9517)"
      ]
     },
     "execution_count": 31,
     "metadata": {},
     "output_type": "execute_result"
    }
   ],
   "source": [
    "len(predictions), len(prediction_subset)"
   ]
  },
  {
   "cell_type": "code",
   "execution_count": 32,
   "metadata": {},
   "outputs": [],
   "source": [
    "prediction_subset['object_annotation_category'] = [id_class_dict[x] for x in predictions]"
   ]
  },
  {
   "cell_type": "code",
   "execution_count": 33,
   "metadata": {
    "scrolled": true
   },
   "outputs": [],
   "source": [
    "prediction_subset['object_score'] = predict_prob_values"
   ]
  },
  {
   "cell_type": "code",
   "execution_count": 34,
   "metadata": {},
   "outputs": [],
   "source": [
    "prediction_subset['object_annotation_status'] = 'Predicted'"
   ]
  },
  {
   "cell_type": "code",
   "execution_count": 35,
   "metadata": {},
   "outputs": [],
   "source": [
    "prediction_subset = prediction_subset[['object_id','object_annotation_status','object_annotation_category','sample_flag','object_lat','object_lon','image_file_name','object_score']]"
   ]
  },
  {
   "cell_type": "code",
   "execution_count": 36,
   "metadata": {},
   "outputs": [
    {
     "data": {
      "text/plain": [
       "9517"
      ]
     },
     "execution_count": 36,
     "metadata": {},
     "output_type": "execute_result"
    }
   ],
   "source": [
    "len(prediction_subset)"
   ]
  },
  {
   "cell_type": "code",
   "execution_count": 37,
   "metadata": {},
   "outputs": [
    {
     "data": {
      "text/html": [
       "<div>\n",
       "<style scoped>\n",
       "    .dataframe tbody tr th:only-of-type {\n",
       "        vertical-align: middle;\n",
       "    }\n",
       "\n",
       "    .dataframe tbody tr th {\n",
       "        vertical-align: top;\n",
       "    }\n",
       "\n",
       "    .dataframe thead th {\n",
       "        text-align: right;\n",
       "    }\n",
       "</style>\n",
       "<table border=\"1\" class=\"dataframe\">\n",
       "  <thead>\n",
       "    <tr style=\"text-align: right;\">\n",
       "      <th></th>\n",
       "      <th>object_id</th>\n",
       "      <th>object_annotation_status</th>\n",
       "      <th>object_annotation_category</th>\n",
       "      <th>sample_flag</th>\n",
       "      <th>object_lat</th>\n",
       "      <th>object_lon</th>\n",
       "      <th>image_file_name</th>\n",
       "      <th>object_score</th>\n",
       "    </tr>\n",
       "  </thead>\n",
       "  <tbody>\n",
       "    <tr>\n",
       "      <th>0</th>\n",
       "      <td>D20171212T201207_IFCB116_00106</td>\n",
       "      <td>Predicted</td>\n",
       "      <td>dinoflagellate-i</td>\n",
       "      <td>good</td>\n",
       "      <td>-64.7356</td>\n",
       "      <td>-64.1037</td>\n",
       "      <td>D20171212T201207_IFCB116_00106.png</td>\n",
       "      <td>0.605285</td>\n",
       "    </tr>\n",
       "    <tr>\n",
       "      <th>1</th>\n",
       "      <td>D20171212T201207_IFCB116_00378</td>\n",
       "      <td>Predicted</td>\n",
       "      <td>Dactyliosolen</td>\n",
       "      <td>good</td>\n",
       "      <td>-64.7356</td>\n",
       "      <td>-64.1037</td>\n",
       "      <td>D20171212T201207_IFCB116_00378.png</td>\n",
       "      <td>0.775176</td>\n",
       "    </tr>\n",
       "    <tr>\n",
       "      <th>2</th>\n",
       "      <td>D20171212T201207_IFCB116_00602</td>\n",
       "      <td>Predicted</td>\n",
       "      <td>Pyramimonas</td>\n",
       "      <td>good</td>\n",
       "      <td>-64.7356</td>\n",
       "      <td>-64.1037</td>\n",
       "      <td>D20171212T201207_IFCB116_00602.png</td>\n",
       "      <td>0.999260</td>\n",
       "    </tr>\n",
       "    <tr>\n",
       "      <th>3</th>\n",
       "      <td>D20171212T201207_IFCB116_01090</td>\n",
       "      <td>Predicted</td>\n",
       "      <td>pennate 1 temp</td>\n",
       "      <td>good</td>\n",
       "      <td>-64.7356</td>\n",
       "      <td>-64.1037</td>\n",
       "      <td>D20171212T201207_IFCB116_01090.png</td>\n",
       "      <td>0.631729</td>\n",
       "    </tr>\n",
       "    <tr>\n",
       "      <th>4</th>\n",
       "      <td>D20171212T201207_IFCB116_01165</td>\n",
       "      <td>Predicted</td>\n",
       "      <td>t002</td>\n",
       "      <td>good</td>\n",
       "      <td>-64.7356</td>\n",
       "      <td>-64.1037</td>\n",
       "      <td>D20171212T201207_IFCB116_01165.png</td>\n",
       "      <td>0.942381</td>\n",
       "    </tr>\n",
       "  </tbody>\n",
       "</table>\n",
       "</div>"
      ],
      "text/plain": [
       "                        object_id object_annotation_status  \\\n",
       "0  D20171212T201207_IFCB116_00106                Predicted   \n",
       "1  D20171212T201207_IFCB116_00378                Predicted   \n",
       "2  D20171212T201207_IFCB116_00602                Predicted   \n",
       "3  D20171212T201207_IFCB116_01090                Predicted   \n",
       "4  D20171212T201207_IFCB116_01165                Predicted   \n",
       "\n",
       "  object_annotation_category sample_flag object_lat object_lon  \\\n",
       "0           dinoflagellate-i        good   -64.7356   -64.1037   \n",
       "1              Dactyliosolen        good   -64.7356   -64.1037   \n",
       "2                Pyramimonas        good   -64.7356   -64.1037   \n",
       "3             pennate 1 temp        good   -64.7356   -64.1037   \n",
       "4                       t002        good   -64.7356   -64.1037   \n",
       "\n",
       "                      image_file_name  object_score  \n",
       "0  D20171212T201207_IFCB116_00106.png      0.605285  \n",
       "1  D20171212T201207_IFCB116_00378.png      0.775176  \n",
       "2  D20171212T201207_IFCB116_00602.png      0.999260  \n",
       "3  D20171212T201207_IFCB116_01090.png      0.631729  \n",
       "4  D20171212T201207_IFCB116_01165.png      0.942381  "
      ]
     },
     "execution_count": 37,
     "metadata": {},
     "output_type": "execute_result"
    }
   ],
   "source": [
    "prediction_subset.head()"
   ]
  },
  {
   "cell_type": "code",
   "execution_count": 38,
   "metadata": {},
   "outputs": [
    {
     "data": {
      "text/plain": [
       "(array([ 0,  1,  2,  3,  4,  5,  6,  7,  8, 10, 11, 12, 14, 15, 16, 17, 18,\n",
       "        19, 20, 21, 22, 24, 25, 26, 27, 28, 29, 30, 31, 33, 34, 35, 36, 37,\n",
       "        38, 39, 40, 41, 42, 43]),\n",
       " array([   3,   29,   49,    5,   59,  392,  130,   81,    2,   19,    3,\n",
       "           8,    9,  317,    9,    6,    5,  909, 2185,  115,   60,    2,\n",
       "          67,   11,    7,    1,  192,   73,  271,  236,  659,    4,   19,\n",
       "         598,    2, 2464,   17,  259,   35,  205]))"
      ]
     },
     "execution_count": 38,
     "metadata": {},
     "output_type": "execute_result"
    }
   ],
   "source": [
    "classes, counts = np.unique(predictions, return_counts=True)\n",
    "classes, counts"
   ]
  },
  {
   "cell_type": "code",
   "execution_count": 39,
   "metadata": {},
   "outputs": [],
   "source": [
    "# go through the final predictions and find images where there are less than 150 validated and only include those in the final\n",
    "\n",
    "# then only get ~300 of those maximum"
   ]
  },
  {
   "cell_type": "code",
   "execution_count": 40,
   "metadata": {},
   "outputs": [],
   "source": [
    "prediction_subset.to_csv('live_predictions_10000_100221_2.csv', sep='\\t')"
   ]
  },
  {
   "cell_type": "code",
   "execution_count": null,
   "metadata": {},
   "outputs": [],
   "source": [
    "#prediction_subset= pd.read_csv('../../live/all_imagery/live_predictions_all_240121.csv', sep='\\t')"
   ]
  },
  {
   "cell_type": "markdown",
   "metadata": {},
   "source": [
    "grab a random sample of these predictions"
   ]
  },
  {
   "cell_type": "code",
   "execution_count": null,
   "metadata": {},
   "outputs": [],
   "source": [
    "10000 / len(prediction_subset)"
   ]
  },
  {
   "cell_type": "code",
   "execution_count": null,
   "metadata": {},
   "outputs": [],
   "source": [
    "len(prediction_subset.sample(frac=.0032916))"
   ]
  },
  {
   "cell_type": "code",
   "execution_count": null,
   "metadata": {},
   "outputs": [],
   "source": [
    "sample_prediction_subset = prediction_subset.sample(frac=.0032916)"
   ]
  },
  {
   "cell_type": "code",
   "execution_count": null,
   "metadata": {},
   "outputs": [],
   "source": [
    "sample_prediction_subset.to_csv('../../live/ecotaxa_cnn_predictions_live_with_live_model_random_sample_070221.csv', sep='\\t')"
   ]
  },
  {
   "cell_type": "code",
   "execution_count": null,
   "metadata": {},
   "outputs": [],
   "source": [
    "! pwd"
   ]
  },
  {
   "cell_type": "markdown",
   "metadata": {},
   "source": [
    "### The below couple blocks allow filtering to only the rare classes for model iteration"
   ]
  },
  {
   "cell_type": "code",
   "execution_count": null,
   "metadata": {},
   "outputs": [],
   "source": [
    "val_samples = pd.read_csv('../val_samples_021120.csv')\n",
    "val_samples = val_samples.drop('Unnamed: 0', 1)\n",
    "val_samples.head()"
   ]
  },
  {
   "cell_type": "code",
   "execution_count": null,
   "metadata": {},
   "outputs": [],
   "source": [
    "# For now only using validated images\n",
    "#img_md_subset = img_md_subset[img_md_subset.object_annotation_status == 'validated']\n",
    "\n",
    "rare_count = 250\n",
    "\n",
    "unique_validated = val_samples[val_samples.object_annotation_status == 'validated'].groupby('object_annotation_category')['object_id'].nunique()\n",
    "\n",
    "rare_classes = unique_validated[unique_validated <= rare_count]\n",
    "\n",
    "#val_img_subset = val_img_subset[val_img_subset['object_annotation_category'].isin(list(rare_classes.index))]\n",
    "rare_classes"
   ]
  },
  {
   "cell_type": "code",
   "execution_count": null,
   "metadata": {},
   "outputs": [],
   "source": [
    "rare_prediction_subset = prediction_subset[prediction_subset['object_annotation_category'].isin(list(rare_classes.index))]"
   ]
  },
  {
   "cell_type": "code",
   "execution_count": null,
   "metadata": {},
   "outputs": [],
   "source": [
    "rare_prediction_subset.head()"
   ]
  },
  {
   "cell_type": "code",
   "execution_count": null,
   "metadata": {},
   "outputs": [],
   "source": [
    "prediction_counts = rare_prediction_subset.groupby('object_annotation_category')['object_id'].nunique()\n",
    "prediction_counts"
   ]
  },
  {
   "cell_type": "code",
   "execution_count": null,
   "metadata": {},
   "outputs": [],
   "source": [
    "# filter out any that are in validation for the other file\n",
    "\n",
    "rare_prediction_subset = rare_prediction_subset[~rare_prediction_subset.object_id.isin(list(img_md_subset.object_id))]"
   ]
  },
  {
   "cell_type": "code",
   "execution_count": null,
   "metadata": {},
   "outputs": [],
   "source": [
    "prediction_counts = rare_prediction_subset.groupby('object_annotation_category')['object_id'].nunique()\n",
    "prediction_counts"
   ]
  },
  {
   "cell_type": "code",
   "execution_count": null,
   "metadata": {},
   "outputs": [],
   "source": [
    "len(rare_prediction_subset)"
   ]
  },
  {
   "cell_type": "code",
   "execution_count": null,
   "metadata": {},
   "outputs": [],
   "source": [
    "# no longer doing this because we're actually assessing the accuracy\n",
    "#rare_prediction_subset = rare_prediction_subset.sort_values('object_score', ascending=False)"
   ]
  },
  {
   "cell_type": "code",
   "execution_count": null,
   "metadata": {},
   "outputs": [],
   "source": [
    "buckets = {}\n",
    "for key in id_class_dict:\n",
    "    buckets[key] = 0\n",
    "\n",
    "object_ids = []\n",
    "\n",
    "max_count = 300\n",
    "\n",
    "for index, row in rare_prediction_subset.iterrows():\n",
    "    if buckets[class_id_dict[row['object_annotation_category']]] < max_count:\n",
    "        object_ids.append(row['object_id'])\n",
    "        buckets[class_id_dict[row['object_annotation_category']]] += 1\n",
    "len(object_ids)\n",
    "\n",
    "rare_cut_df = rare_prediction_subset[rare_prediction_subset['object_id'].isin(object_ids)]\n",
    "rare_cut_df.head()"
   ]
  },
  {
   "cell_type": "code",
   "execution_count": null,
   "metadata": {},
   "outputs": [],
   "source": [
    "dtps = []\n",
    "for dt in rare_cut_df.dtypes:\n",
    "    if dt == 'float64':\n",
    "        dtps.append('f')\n",
    "    elif dt == 'object':\n",
    "        dtps.append('t')\n",
    "for f in dtps:\n",
    "    print('['+f+']')"
   ]
  },
  {
   "cell_type": "code",
   "execution_count": null,
   "metadata": {},
   "outputs": [],
   "source": [
    "rare_cut_df.to_csv('../ecotaxa_cnn_predictions_5150000_rare_131020.csv', sep='\\t')"
   ]
  },
  {
   "cell_type": "markdown",
   "metadata": {},
   "source": [
    "### Now to just output N of each class"
   ]
  },
  {
   "cell_type": "code",
   "execution_count": null,
   "metadata": {},
   "outputs": [],
   "source": [
    "buckets = {}\n",
    "for key in id_class_dict:\n",
    "    buckets[key] = 0\n",
    "\n",
    "object_ids = []\n",
    "\n",
    "n = 100\n",
    "\n",
    "for index, row in prediction_subset.iterrows():\n",
    "    if buckets[class_id_dict[row['object_annotation_category']]] < n:\n",
    "        object_ids.append(row['object_id'])\n",
    "        buckets[class_id_dict[row['object_annotation_category']]] += 1\n",
    "len(object_ids)\n",
    "\n",
    "preds_n_per_class_df = prediction_subset[prediction_subset['object_id'].isin(object_ids)]\n",
    "preds_n_per_class_df.head()"
   ]
  },
  {
   "cell_type": "code",
   "execution_count": null,
   "metadata": {},
   "outputs": [],
   "source": [
    "len(preds_n_per_class_df)"
   ]
  },
  {
   "cell_type": "code",
   "execution_count": null,
   "metadata": {},
   "outputs": [],
   "source": [
    "counts_per_class = preds_n_per_class_df.groupby('object_annotation_category')['object_id'].nunique()\n",
    "counts_per_class.plot()"
   ]
  },
  {
   "cell_type": "code",
   "execution_count": null,
   "metadata": {},
   "outputs": [],
   "source": [
    "preds_n_per_class_df.to_csv('../ecotaxa_cnn_predictions_preserved_with_live_model_100_per_class_250121.csv', sep='\\t')"
   ]
  },
  {
   "cell_type": "code",
   "execution_count": null,
   "metadata": {},
   "outputs": [],
   "source": [
    "[t]\n",
    "[t]\n",
    "[t]\n",
    "[t]\n",
    "[f]\n",
    "[f]\n",
    "[t]\n",
    "[f]"
   ]
  },
  {
   "cell_type": "code",
   "execution_count": null,
   "metadata": {},
   "outputs": [],
   "source": [
    "dtps = []\n",
    "for dt in preds_n_per_class_df.dtypes:\n",
    "    if dt == 'float64':\n",
    "        dtps.append('f')\n",
    "    elif dt == 'object':\n",
    "        dtps.append('t')\n",
    "for f in dtps:\n",
    "    print('['+f+']')"
   ]
  },
  {
   "cell_type": "code",
   "execution_count": null,
   "metadata": {},
   "outputs": [],
   "source": [
    "fig, ax = plt.subplots(figsize=(12, 18))\n",
    "ax.scatter(counts, classes)\n",
    "ax.set_yticks(classes)\n",
    "ax.set_yticklabels([id_class_dict[x] for x in classes])\n",
    "#ax.set_xlim(-10,500)\n",
    "#ax.set_xscale('log')\n",
    "\n",
    "# Don't allow the axis to be on top of your data\n",
    "ax.set_axisbelow(True)\n",
    "\n",
    "# Turn on the minor TICKS, which are required for the minor GRID\n",
    "#ax.minorticks_on()\n",
    "\n",
    "# Customize the major grid\n",
    "ax.grid(which='major', linestyle='-', linewidth='0.5', color='grey', axis='y')\n",
    "# Customize the minor grid\n",
    "#ax.grid(which='minor', linestyle=':', linewidth='0.5', color='black')\n",
    "#plt.savefig('../output_predictions_131020.png', dpi=300)\n",
    "plt.show()"
   ]
  },
  {
   "cell_type": "code",
   "execution_count": null,
   "metadata": {},
   "outputs": [],
   "source": [
    "min_count = 20\n",
    "unique_validated = available_subset.groupby('object_annotation_category')['object_id'].nunique()\n",
    "\n",
    "sufficient_classes = unique_validated[unique_validated >= min_count]"
   ]
  },
  {
   "cell_type": "code",
   "execution_count": null,
   "metadata": {},
   "outputs": [],
   "source": [
    "len(sufficient_classes)"
   ]
  },
  {
   "cell_type": "code",
   "execution_count": null,
   "metadata": {},
   "outputs": [],
   "source": [
    "#classes, counts = np.unique(labels, return_counts=True)\n",
    "classes, counts"
   ]
  },
  {
   "cell_type": "code",
   "execution_count": null,
   "metadata": {},
   "outputs": [],
   "source": [
    "sufficient_classes"
   ]
  },
  {
   "cell_type": "code",
   "execution_count": null,
   "metadata": {},
   "outputs": [],
   "source": [
    "fig, ax = plt.subplots(figsize=(12, 18))\n",
    "ax.scatter(sufficient_classes.values, range(0,len(sufficient_classes)))\n",
    "ax.set_yticks(range(0,len(sufficient_classes)))\n",
    "ax.set_yticklabels(list(sufficient_classes.index))\n",
    "#ax.set_xlim(-10,500)\n",
    "#ax.set_xscale('log')\n",
    "\n",
    "# Don't allow the axis to be on top of your data\n",
    "ax.set_axisbelow(True)\n",
    "\n",
    "# Turn on the minor TICKS, which are required for the minor GRID\n",
    "#ax.minorticks_on()\n",
    "\n",
    "# Customize the major grid\n",
    "ax.grid(which='major', linestyle='-', linewidth='0.5', color='grey', axis='y')\n",
    "# Customize the minor grid\n",
    "#ax.grid(which='minor', linestyle=':', linewidth='0.5', color='black')\n",
    "plt.show()"
   ]
  },
  {
   "cell_type": "code",
   "execution_count": null,
   "metadata": {},
   "outputs": [],
   "source": [
    "fig, ax = plt.subplots(1,2, figsize=(18, 18))\n",
    "ax[1].scatter(sufficient_classes.values, range(0,len(sufficient_classes)))\n",
    "ax[1].set_yticks(range(0,len(sufficient_classes)))\n",
    "ax[1].set_yticklabels(list(sufficient_classes.index))\n",
    "#ax.set_xlim(-10,500)\n",
    "#ax.set_xscale('log')\n",
    "\n",
    "# Don't allow the axis to be on top of your data\n",
    "ax[1].set_axisbelow(True)\n",
    "ax[1].set_xlim(-10,5000)\n",
    "ax[1].set_title(\"Predictions\")\n",
    "\n",
    "\n",
    "# Turn on the minor TICKS, which are required for the minor GRID\n",
    "#ax.minorticks_on()\n",
    "\n",
    "# Customize the major grid\n",
    "ax[1].grid(which='major', linestyle='-', linewidth='0.5', color='grey', axis='y')\n",
    "# Customize the minor grid\n",
    "#ax.grid(which='minor', linestyle=':', linewidth='0.5', color='black')\n",
    "\n",
    "ax[0].scatter(counts, classes)\n",
    "ax[0].set_yticks(range(0,len(class_id_dict)))\n",
    "ax[0].set_yticklabels([id_class_dict[x] for x in classes])\n",
    "ax[0].set_xlim(-10,2500)\n",
    "#ax.set_xscale('log')\n",
    "\n",
    "# Don't allow the axis to be on top of your data\n",
    "ax[0].set_axisbelow(True)\n",
    "ax[0].set_title(\"Validated Data\")\n",
    "\n",
    "# Turn on the minor TICKS, which are required for the minor GRID\n",
    "#ax.minorticks_on()\n",
    "\n",
    "# Customize the major grid\n",
    "ax[0].grid(which='major', linestyle='-', linewidth='0.5', color='grey', axis='y')\n",
    "# Customize the minor grid\n",
    "#ax.grid(which='minor', linestyle=':', linewidth='0.5', color='black')\n",
    "plt.savefig('output_predictions_comparison_full.png', dpi=300)\n",
    "plt.show()"
   ]
  },
  {
   "cell_type": "markdown",
   "metadata": {},
   "source": [
    "### pull out only validated images and run it on them and see how close the total numbers compare"
   ]
  },
  {
   "cell_type": "code",
   "execution_count": 79,
   "metadata": {},
   "outputs": [
    {
     "name": "stdout",
     "output_type": "stream",
     "text": [
      "/host/Data/fresh_data_012121/live/all_imagery\r\n"
     ]
    }
   ],
   "source": [
    "! pwd"
   ]
  },
  {
   "cell_type": "code",
   "execution_count": null,
   "metadata": {
    "scrolled": true
   },
   "outputs": [],
   "source": [
    "! ls ../../live"
   ]
  },
  {
   "cell_type": "code",
   "execution_count": 43,
   "metadata": {},
   "outputs": [
    {
     "data": {
      "text/plain": [
       "9517"
      ]
     },
     "execution_count": 43,
     "metadata": {},
     "output_type": "execute_result"
    }
   ],
   "source": [
    "len(prediction_subset)"
   ]
  },
  {
   "cell_type": "code",
   "execution_count": 41,
   "metadata": {},
   "outputs": [
    {
     "name": "stderr",
     "output_type": "stream",
     "text": [
      "/usr/local/lib/python3.5/dist-packages/ipykernel_launcher.py:4: SettingWithCopyWarning: \n",
      "A value is trying to be set on a copy of a slice from a DataFrame.\n",
      "Try using .loc[row_indexer,col_indexer] = value instead\n",
      "\n",
      "See the caveats in the documentation: http://pandas.pydata.org/pandas-docs/stable/indexing.html#indexing-view-versus-copy\n",
      "  after removing the cwd from sys.path.\n"
     ]
    },
    {
     "data": {
      "text/html": [
       "<div>\n",
       "<style scoped>\n",
       "    .dataframe tbody tr th:only-of-type {\n",
       "        vertical-align: middle;\n",
       "    }\n",
       "\n",
       "    .dataframe tbody tr th {\n",
       "        vertical-align: top;\n",
       "    }\n",
       "\n",
       "    .dataframe thead th {\n",
       "        text-align: right;\n",
       "    }\n",
       "</style>\n",
       "<table border=\"1\" class=\"dataframe\">\n",
       "  <thead>\n",
       "    <tr style=\"text-align: right;\">\n",
       "      <th></th>\n",
       "      <th>object_id</th>\n",
       "      <th>object_annotation_status</th>\n",
       "      <th>object_annotation_category</th>\n",
       "      <th>sample_flag</th>\n",
       "      <th>object_lat</th>\n",
       "      <th>object_lon</th>\n",
       "      <th>image_file_name</th>\n",
       "      <th>object_score</th>\n",
       "      <th>validated_type</th>\n",
       "    </tr>\n",
       "  </thead>\n",
       "  <tbody>\n",
       "    <tr>\n",
       "      <th>0</th>\n",
       "      <td>D20171212T201207_IFCB116_00106</td>\n",
       "      <td>Predicted</td>\n",
       "      <td>dinoflagellate-i</td>\n",
       "      <td>good</td>\n",
       "      <td>-64.7356</td>\n",
       "      <td>-64.1037</td>\n",
       "      <td>D20171212T201207_IFCB116_00106.png</td>\n",
       "      <td>0.605285</td>\n",
       "      <td></td>\n",
       "    </tr>\n",
       "    <tr>\n",
       "      <th>1</th>\n",
       "      <td>D20171212T201207_IFCB116_00378</td>\n",
       "      <td>Predicted</td>\n",
       "      <td>Dactyliosolen</td>\n",
       "      <td>good</td>\n",
       "      <td>-64.7356</td>\n",
       "      <td>-64.1037</td>\n",
       "      <td>D20171212T201207_IFCB116_00378.png</td>\n",
       "      <td>0.775176</td>\n",
       "      <td></td>\n",
       "    </tr>\n",
       "    <tr>\n",
       "      <th>2</th>\n",
       "      <td>D20171212T201207_IFCB116_00602</td>\n",
       "      <td>Predicted</td>\n",
       "      <td>Pyramimonas</td>\n",
       "      <td>good</td>\n",
       "      <td>-64.7356</td>\n",
       "      <td>-64.1037</td>\n",
       "      <td>D20171212T201207_IFCB116_00602.png</td>\n",
       "      <td>0.999260</td>\n",
       "      <td></td>\n",
       "    </tr>\n",
       "    <tr>\n",
       "      <th>3</th>\n",
       "      <td>D20171212T201207_IFCB116_01090</td>\n",
       "      <td>Predicted</td>\n",
       "      <td>pennate 1 temp</td>\n",
       "      <td>good</td>\n",
       "      <td>-64.7356</td>\n",
       "      <td>-64.1037</td>\n",
       "      <td>D20171212T201207_IFCB116_01090.png</td>\n",
       "      <td>0.631729</td>\n",
       "      <td></td>\n",
       "    </tr>\n",
       "    <tr>\n",
       "      <th>4</th>\n",
       "      <td>D20171212T201207_IFCB116_01165</td>\n",
       "      <td>Predicted</td>\n",
       "      <td>t002</td>\n",
       "      <td>good</td>\n",
       "      <td>-64.7356</td>\n",
       "      <td>-64.1037</td>\n",
       "      <td>D20171212T201207_IFCB116_01165.png</td>\n",
       "      <td>0.942381</td>\n",
       "      <td></td>\n",
       "    </tr>\n",
       "  </tbody>\n",
       "</table>\n",
       "</div>"
      ],
      "text/plain": [
       "                        object_id object_annotation_status  \\\n",
       "0  D20171212T201207_IFCB116_00106                Predicted   \n",
       "1  D20171212T201207_IFCB116_00378                Predicted   \n",
       "2  D20171212T201207_IFCB116_00602                Predicted   \n",
       "3  D20171212T201207_IFCB116_01090                Predicted   \n",
       "4  D20171212T201207_IFCB116_01165                Predicted   \n",
       "\n",
       "  object_annotation_category sample_flag object_lat object_lon  \\\n",
       "0           dinoflagellate-i        good   -64.7356   -64.1037   \n",
       "1              Dactyliosolen        good   -64.7356   -64.1037   \n",
       "2                Pyramimonas        good   -64.7356   -64.1037   \n",
       "3             pennate 1 temp        good   -64.7356   -64.1037   \n",
       "4                       t002        good   -64.7356   -64.1037   \n",
       "\n",
       "                      image_file_name  object_score validated_type  \n",
       "0  D20171212T201207_IFCB116_00106.png      0.605285                 \n",
       "1  D20171212T201207_IFCB116_00378.png      0.775176                 \n",
       "2  D20171212T201207_IFCB116_00602.png      0.999260                 \n",
       "3  D20171212T201207_IFCB116_01090.png      0.631729                 \n",
       "4  D20171212T201207_IFCB116_01165.png      0.942381                 "
      ]
     },
     "execution_count": 41,
     "metadata": {},
     "output_type": "execute_result"
    }
   ],
   "source": [
    "#live_preds = pd.read_csv('../ecotaxa_cnn_predictions_preserved_with_live_model_100_per_class_250121.csv', sep='\\t')\n",
    "#live_preds = pd.read_csv('../../live/ecotaxa_cnn_predictions_live_100_per_class_240121.csv', sep='\\t')\n",
    "live_preds = prediction_subset\n",
    "live_preds['validated_type'] = ''\n",
    "live_preds.head()"
   ]
  },
  {
   "cell_type": "code",
   "execution_count": 42,
   "metadata": {},
   "outputs": [
    {
     "name": "stderr",
     "output_type": "stream",
     "text": [
      "/usr/local/lib/python3.5/dist-packages/IPython/core/interactiveshell.py:3020: DtypeWarning: Columns (264) have mixed types. Specify dtype option on import or set low_memory=False.\n",
      "  interactivity=interactivity, compiler=compiler, result=result)\n"
     ]
    },
    {
     "data": {
      "text/html": [
       "<div>\n",
       "<style scoped>\n",
       "    .dataframe tbody tr th:only-of-type {\n",
       "        vertical-align: middle;\n",
       "    }\n",
       "\n",
       "    .dataframe tbody tr th {\n",
       "        vertical-align: top;\n",
       "    }\n",
       "\n",
       "    .dataframe thead th {\n",
       "        text-align: right;\n",
       "    }\n",
       "</style>\n",
       "<table border=\"1\" class=\"dataframe\">\n",
       "  <thead>\n",
       "    <tr style=\"text-align: right;\">\n",
       "      <th></th>\n",
       "      <th>object_id</th>\n",
       "      <th>object_lat</th>\n",
       "      <th>object_lon</th>\n",
       "      <th>object_date</th>\n",
       "      <th>object_time</th>\n",
       "      <th>object_link</th>\n",
       "      <th>object_depth_min</th>\n",
       "      <th>object_depth_max</th>\n",
       "      <th>object_annotation_status</th>\n",
       "      <th>object_annotation_person_name</th>\n",
       "      <th>...</th>\n",
       "      <th>process_soft</th>\n",
       "      <th>process_soft_version</th>\n",
       "      <th>process_script</th>\n",
       "      <th>process_script_version</th>\n",
       "      <th>process_library</th>\n",
       "      <th>process_library_version</th>\n",
       "      <th>process_date</th>\n",
       "      <th>process_time</th>\n",
       "      <th>acq_id</th>\n",
       "      <th>acq_instrument</th>\n",
       "    </tr>\n",
       "  </thead>\n",
       "  <tbody>\n",
       "    <tr>\n",
       "      <th>0</th>\n",
       "      <td>D20171212T201207_IFCB116_00106</td>\n",
       "      <td>-64.7356</td>\n",
       "      <td>-64.1037</td>\n",
       "      <td>20171212</td>\n",
       "      <td>201207</td>\n",
       "      <td>http://pal.lternet.edu/</td>\n",
       "      <td>0</td>\n",
       "      <td>0</td>\n",
       "      <td>validated</td>\n",
       "      <td>Schuyler Nardelli</td>\n",
       "      <td>...</td>\n",
       "      <td>MATLAB</td>\n",
       "      <td>R2019b</td>\n",
       "      <td>easyIFCB</td>\n",
       "      <td>a4aa03a38c9f40d1b8fd282ef7ede108607d2d82</td>\n",
       "      <td>ifcb-analysis</td>\n",
       "      <td>e9e37998a8bb8caf587b19418202b650ba0b99f2</td>\n",
       "      <td>YYYYMMDD</td>\n",
       "      <td>HHMMSS</td>\n",
       "      <td>__DUMMY_ID__185697__</td>\n",
       "      <td>NaN</td>\n",
       "    </tr>\n",
       "    <tr>\n",
       "      <th>1</th>\n",
       "      <td>D20171212T201207_IFCB116_00378</td>\n",
       "      <td>-64.7356</td>\n",
       "      <td>-64.1037</td>\n",
       "      <td>20171212</td>\n",
       "      <td>201207</td>\n",
       "      <td>http://pal.lternet.edu/</td>\n",
       "      <td>0</td>\n",
       "      <td>0</td>\n",
       "      <td>validated</td>\n",
       "      <td>Schuyler Nardelli</td>\n",
       "      <td>...</td>\n",
       "      <td>MATLAB</td>\n",
       "      <td>R2019b</td>\n",
       "      <td>easyIFCB</td>\n",
       "      <td>a4aa03a38c9f40d1b8fd282ef7ede108607d2d82</td>\n",
       "      <td>ifcb-analysis</td>\n",
       "      <td>e9e37998a8bb8caf587b19418202b650ba0b99f2</td>\n",
       "      <td>YYYYMMDD</td>\n",
       "      <td>HHMMSS</td>\n",
       "      <td>__DUMMY_ID__185697__</td>\n",
       "      <td>NaN</td>\n",
       "    </tr>\n",
       "    <tr>\n",
       "      <th>2</th>\n",
       "      <td>D20171212T201207_IFCB116_00602</td>\n",
       "      <td>-64.7356</td>\n",
       "      <td>-64.1037</td>\n",
       "      <td>20171212</td>\n",
       "      <td>201207</td>\n",
       "      <td>http://pal.lternet.edu/</td>\n",
       "      <td>0</td>\n",
       "      <td>0</td>\n",
       "      <td>validated</td>\n",
       "      <td>Schuyler Nardelli</td>\n",
       "      <td>...</td>\n",
       "      <td>MATLAB</td>\n",
       "      <td>R2019b</td>\n",
       "      <td>easyIFCB</td>\n",
       "      <td>a4aa03a38c9f40d1b8fd282ef7ede108607d2d82</td>\n",
       "      <td>ifcb-analysis</td>\n",
       "      <td>e9e37998a8bb8caf587b19418202b650ba0b99f2</td>\n",
       "      <td>YYYYMMDD</td>\n",
       "      <td>HHMMSS</td>\n",
       "      <td>__DUMMY_ID__185697__</td>\n",
       "      <td>NaN</td>\n",
       "    </tr>\n",
       "    <tr>\n",
       "      <th>3</th>\n",
       "      <td>D20171212T201207_IFCB116_01090</td>\n",
       "      <td>-64.7356</td>\n",
       "      <td>-64.1037</td>\n",
       "      <td>20171212</td>\n",
       "      <td>201207</td>\n",
       "      <td>http://pal.lternet.edu/</td>\n",
       "      <td>0</td>\n",
       "      <td>0</td>\n",
       "      <td>validated</td>\n",
       "      <td>Schuyler Nardelli</td>\n",
       "      <td>...</td>\n",
       "      <td>MATLAB</td>\n",
       "      <td>R2019b</td>\n",
       "      <td>easyIFCB</td>\n",
       "      <td>a4aa03a38c9f40d1b8fd282ef7ede108607d2d82</td>\n",
       "      <td>ifcb-analysis</td>\n",
       "      <td>e9e37998a8bb8caf587b19418202b650ba0b99f2</td>\n",
       "      <td>YYYYMMDD</td>\n",
       "      <td>HHMMSS</td>\n",
       "      <td>__DUMMY_ID__185697__</td>\n",
       "      <td>NaN</td>\n",
       "    </tr>\n",
       "    <tr>\n",
       "      <th>4</th>\n",
       "      <td>D20171212T201207_IFCB116_01165</td>\n",
       "      <td>-64.7356</td>\n",
       "      <td>-64.1037</td>\n",
       "      <td>20171212</td>\n",
       "      <td>201207</td>\n",
       "      <td>http://pal.lternet.edu/</td>\n",
       "      <td>0</td>\n",
       "      <td>0</td>\n",
       "      <td>validated</td>\n",
       "      <td>Schuyler Nardelli</td>\n",
       "      <td>...</td>\n",
       "      <td>MATLAB</td>\n",
       "      <td>R2019b</td>\n",
       "      <td>easyIFCB</td>\n",
       "      <td>a4aa03a38c9f40d1b8fd282ef7ede108607d2d82</td>\n",
       "      <td>ifcb-analysis</td>\n",
       "      <td>e9e37998a8bb8caf587b19418202b650ba0b99f2</td>\n",
       "      <td>YYYYMMDD</td>\n",
       "      <td>HHMMSS</td>\n",
       "      <td>__DUMMY_ID__185697__</td>\n",
       "      <td>NaN</td>\n",
       "    </tr>\n",
       "  </tbody>\n",
       "</table>\n",
       "<p>5 rows × 280 columns</p>\n",
       "</div>"
      ],
      "text/plain": [
       "                        object_id  object_lat  object_lon  object_date  \\\n",
       "0  D20171212T201207_IFCB116_00106    -64.7356    -64.1037     20171212   \n",
       "1  D20171212T201207_IFCB116_00378    -64.7356    -64.1037     20171212   \n",
       "2  D20171212T201207_IFCB116_00602    -64.7356    -64.1037     20171212   \n",
       "3  D20171212T201207_IFCB116_01090    -64.7356    -64.1037     20171212   \n",
       "4  D20171212T201207_IFCB116_01165    -64.7356    -64.1037     20171212   \n",
       "\n",
       "   object_time              object_link  object_depth_min  object_depth_max  \\\n",
       "0       201207  http://pal.lternet.edu/                 0                 0   \n",
       "1       201207  http://pal.lternet.edu/                 0                 0   \n",
       "2       201207  http://pal.lternet.edu/                 0                 0   \n",
       "3       201207  http://pal.lternet.edu/                 0                 0   \n",
       "4       201207  http://pal.lternet.edu/                 0                 0   \n",
       "\n",
       "  object_annotation_status object_annotation_person_name       ...        \\\n",
       "0                validated             Schuyler Nardelli       ...         \n",
       "1                validated             Schuyler Nardelli       ...         \n",
       "2                validated             Schuyler Nardelli       ...         \n",
       "3                validated             Schuyler Nardelli       ...         \n",
       "4                validated             Schuyler Nardelli       ...         \n",
       "\n",
       "  process_soft  process_soft_version  process_script  \\\n",
       "0       MATLAB                R2019b        easyIFCB   \n",
       "1       MATLAB                R2019b        easyIFCB   \n",
       "2       MATLAB                R2019b        easyIFCB   \n",
       "3       MATLAB                R2019b        easyIFCB   \n",
       "4       MATLAB                R2019b        easyIFCB   \n",
       "\n",
       "                     process_script_version process_library  \\\n",
       "0  a4aa03a38c9f40d1b8fd282ef7ede108607d2d82   ifcb-analysis   \n",
       "1  a4aa03a38c9f40d1b8fd282ef7ede108607d2d82   ifcb-analysis   \n",
       "2  a4aa03a38c9f40d1b8fd282ef7ede108607d2d82   ifcb-analysis   \n",
       "3  a4aa03a38c9f40d1b8fd282ef7ede108607d2d82   ifcb-analysis   \n",
       "4  a4aa03a38c9f40d1b8fd282ef7ede108607d2d82   ifcb-analysis   \n",
       "\n",
       "                    process_library_version  process_date  process_time  \\\n",
       "0  e9e37998a8bb8caf587b19418202b650ba0b99f2      YYYYMMDD        HHMMSS   \n",
       "1  e9e37998a8bb8caf587b19418202b650ba0b99f2      YYYYMMDD        HHMMSS   \n",
       "2  e9e37998a8bb8caf587b19418202b650ba0b99f2      YYYYMMDD        HHMMSS   \n",
       "3  e9e37998a8bb8caf587b19418202b650ba0b99f2      YYYYMMDD        HHMMSS   \n",
       "4  e9e37998a8bb8caf587b19418202b650ba0b99f2      YYYYMMDD        HHMMSS   \n",
       "\n",
       "                 acq_id  acq_instrument  \n",
       "0  __DUMMY_ID__185697__             NaN  \n",
       "1  __DUMMY_ID__185697__             NaN  \n",
       "2  __DUMMY_ID__185697__             NaN  \n",
       "3  __DUMMY_ID__185697__             NaN  \n",
       "4  __DUMMY_ID__185697__             NaN  \n",
       "\n",
       "[5 rows x 280 columns]"
      ]
     },
     "execution_count": 42,
     "metadata": {},
     "output_type": "execute_result"
    }
   ],
   "source": [
    "live_val = pd.read_csv('../../ecotaxa_export_live_10000_100221.csv')\n",
    "live_val.head()"
   ]
  },
  {
   "cell_type": "code",
   "execution_count": 43,
   "metadata": {},
   "outputs": [
    {
     "data": {
      "text/html": [
       "<div>\n",
       "<style scoped>\n",
       "    .dataframe tbody tr th:only-of-type {\n",
       "        vertical-align: middle;\n",
       "    }\n",
       "\n",
       "    .dataframe tbody tr th {\n",
       "        vertical-align: top;\n",
       "    }\n",
       "\n",
       "    .dataframe thead th {\n",
       "        text-align: right;\n",
       "    }\n",
       "</style>\n",
       "<table border=\"1\" class=\"dataframe\">\n",
       "  <thead>\n",
       "    <tr style=\"text-align: right;\">\n",
       "      <th></th>\n",
       "      <th>object_id</th>\n",
       "      <th>validated_type</th>\n",
       "    </tr>\n",
       "  </thead>\n",
       "  <tbody>\n",
       "    <tr>\n",
       "      <th>0</th>\n",
       "      <td>D20171212T201207_IFCB116_00106</td>\n",
       "      <td>Cryptophyta</td>\n",
       "    </tr>\n",
       "    <tr>\n",
       "      <th>1</th>\n",
       "      <td>D20171212T201207_IFCB116_00378</td>\n",
       "      <td>multiple&lt;other</td>\n",
       "    </tr>\n",
       "    <tr>\n",
       "      <th>2</th>\n",
       "      <td>D20171212T201207_IFCB116_00602</td>\n",
       "      <td>t002</td>\n",
       "    </tr>\n",
       "    <tr>\n",
       "      <th>3</th>\n",
       "      <td>D20171212T201207_IFCB116_01090</td>\n",
       "      <td>Pyramimonas</td>\n",
       "    </tr>\n",
       "    <tr>\n",
       "      <th>4</th>\n",
       "      <td>D20171212T201207_IFCB116_01165</td>\n",
       "      <td>t002</td>\n",
       "    </tr>\n",
       "  </tbody>\n",
       "</table>\n",
       "</div>"
      ],
      "text/plain": [
       "                        object_id  validated_type\n",
       "0  D20171212T201207_IFCB116_00106     Cryptophyta\n",
       "1  D20171212T201207_IFCB116_00378  multiple<other\n",
       "2  D20171212T201207_IFCB116_00602            t002\n",
       "3  D20171212T201207_IFCB116_01090     Pyramimonas\n",
       "4  D20171212T201207_IFCB116_01165            t002"
      ]
     },
     "execution_count": 43,
     "metadata": {},
     "output_type": "execute_result"
    }
   ],
   "source": [
    "live_val = live_val[['object_id','object_annotation_category']]\n",
    "\n",
    "live_val = live_val.rename(columns={'object_annotation_category': 'validated_type'})\n",
    "live_val.head()"
   ]
  },
  {
   "cell_type": "code",
   "execution_count": 44,
   "metadata": {},
   "outputs": [],
   "source": [
    "live_val = live_val.reset_index()"
   ]
  },
  {
   "cell_type": "code",
   "execution_count": 45,
   "metadata": {},
   "outputs": [
    {
     "data": {
      "text/html": [
       "<div>\n",
       "<style scoped>\n",
       "    .dataframe tbody tr th:only-of-type {\n",
       "        vertical-align: middle;\n",
       "    }\n",
       "\n",
       "    .dataframe tbody tr th {\n",
       "        vertical-align: top;\n",
       "    }\n",
       "\n",
       "    .dataframe thead th {\n",
       "        text-align: right;\n",
       "    }\n",
       "</style>\n",
       "<table border=\"1\" class=\"dataframe\">\n",
       "  <thead>\n",
       "    <tr style=\"text-align: right;\">\n",
       "      <th></th>\n",
       "      <th>index</th>\n",
       "      <th>object_id</th>\n",
       "      <th>validated_type</th>\n",
       "    </tr>\n",
       "  </thead>\n",
       "  <tbody>\n",
       "    <tr>\n",
       "      <th>0</th>\n",
       "      <td>0</td>\n",
       "      <td>D20171212T201207_IFCB116_00106</td>\n",
       "      <td>Cryptophyta</td>\n",
       "    </tr>\n",
       "  </tbody>\n",
       "</table>\n",
       "</div>"
      ],
      "text/plain": [
       "   index                       object_id validated_type\n",
       "0      0  D20171212T201207_IFCB116_00106    Cryptophyta"
      ]
     },
     "execution_count": 45,
     "metadata": {},
     "output_type": "execute_result"
    }
   ],
   "source": [
    "live_val[live_val['object_id'] == 'D20171212T201207_IFCB116_00106']"
   ]
  },
  {
   "cell_type": "code",
   "execution_count": 46,
   "metadata": {},
   "outputs": [
    {
     "name": "stdout",
     "output_type": "stream",
     "text": [
      "9517\n",
      "9517\n"
     ]
    }
   ],
   "source": [
    "# update the prediction dataframe with validated labels\n",
    "print(len(live_preds))\n",
    "live_preds = live_preds.set_index('object_id')\n",
    "live_val = live_val.set_index('object_id')\n",
    "#this is effectively an upsert operation like in SQL\n",
    "#live_preds = pd.concat([live_preds[~live_preds.index.isin(live_val.index)], live_val])\n",
    "\n",
    "live_preds.update(live_val[['validated_type']])\n",
    "\n",
    "\n",
    "live_preds = live_preds.reset_index()\n",
    "print(len(live_preds))"
   ]
  },
  {
   "cell_type": "code",
   "execution_count": 47,
   "metadata": {},
   "outputs": [
    {
     "data": {
      "text/html": [
       "<div>\n",
       "<style scoped>\n",
       "    .dataframe tbody tr th:only-of-type {\n",
       "        vertical-align: middle;\n",
       "    }\n",
       "\n",
       "    .dataframe tbody tr th {\n",
       "        vertical-align: top;\n",
       "    }\n",
       "\n",
       "    .dataframe thead th {\n",
       "        text-align: right;\n",
       "    }\n",
       "</style>\n",
       "<table border=\"1\" class=\"dataframe\">\n",
       "  <thead>\n",
       "    <tr style=\"text-align: right;\">\n",
       "      <th></th>\n",
       "      <th>object_id</th>\n",
       "      <th>object_annotation_status</th>\n",
       "      <th>object_annotation_category</th>\n",
       "      <th>sample_flag</th>\n",
       "      <th>object_lat</th>\n",
       "      <th>object_lon</th>\n",
       "      <th>image_file_name</th>\n",
       "      <th>object_score</th>\n",
       "      <th>validated_type</th>\n",
       "    </tr>\n",
       "  </thead>\n",
       "  <tbody>\n",
       "    <tr>\n",
       "      <th>0</th>\n",
       "      <td>D20171212T201207_IFCB116_00106</td>\n",
       "      <td>Predicted</td>\n",
       "      <td>dinoflagellate-i</td>\n",
       "      <td>good</td>\n",
       "      <td>-64.7356</td>\n",
       "      <td>-64.1037</td>\n",
       "      <td>D20171212T201207_IFCB116_00106.png</td>\n",
       "      <td>0.605285</td>\n",
       "      <td>Cryptophyta</td>\n",
       "    </tr>\n",
       "    <tr>\n",
       "      <th>1</th>\n",
       "      <td>D20171212T201207_IFCB116_00378</td>\n",
       "      <td>Predicted</td>\n",
       "      <td>Dactyliosolen</td>\n",
       "      <td>good</td>\n",
       "      <td>-64.7356</td>\n",
       "      <td>-64.1037</td>\n",
       "      <td>D20171212T201207_IFCB116_00378.png</td>\n",
       "      <td>0.775176</td>\n",
       "      <td>multiple&lt;other</td>\n",
       "    </tr>\n",
       "    <tr>\n",
       "      <th>2</th>\n",
       "      <td>D20171212T201207_IFCB116_00602</td>\n",
       "      <td>Predicted</td>\n",
       "      <td>Pyramimonas</td>\n",
       "      <td>good</td>\n",
       "      <td>-64.7356</td>\n",
       "      <td>-64.1037</td>\n",
       "      <td>D20171212T201207_IFCB116_00602.png</td>\n",
       "      <td>0.999260</td>\n",
       "      <td>t002</td>\n",
       "    </tr>\n",
       "    <tr>\n",
       "      <th>3</th>\n",
       "      <td>D20171212T201207_IFCB116_01090</td>\n",
       "      <td>Predicted</td>\n",
       "      <td>pennate 1 temp</td>\n",
       "      <td>good</td>\n",
       "      <td>-64.7356</td>\n",
       "      <td>-64.1037</td>\n",
       "      <td>D20171212T201207_IFCB116_01090.png</td>\n",
       "      <td>0.631729</td>\n",
       "      <td>Pyramimonas</td>\n",
       "    </tr>\n",
       "    <tr>\n",
       "      <th>4</th>\n",
       "      <td>D20171212T201207_IFCB116_01165</td>\n",
       "      <td>Predicted</td>\n",
       "      <td>t002</td>\n",
       "      <td>good</td>\n",
       "      <td>-64.7356</td>\n",
       "      <td>-64.1037</td>\n",
       "      <td>D20171212T201207_IFCB116_01165.png</td>\n",
       "      <td>0.942381</td>\n",
       "      <td>t002</td>\n",
       "    </tr>\n",
       "  </tbody>\n",
       "</table>\n",
       "</div>"
      ],
      "text/plain": [
       "                        object_id object_annotation_status  \\\n",
       "0  D20171212T201207_IFCB116_00106                Predicted   \n",
       "1  D20171212T201207_IFCB116_00378                Predicted   \n",
       "2  D20171212T201207_IFCB116_00602                Predicted   \n",
       "3  D20171212T201207_IFCB116_01090                Predicted   \n",
       "4  D20171212T201207_IFCB116_01165                Predicted   \n",
       "\n",
       "  object_annotation_category sample_flag object_lat object_lon  \\\n",
       "0           dinoflagellate-i        good   -64.7356   -64.1037   \n",
       "1              Dactyliosolen        good   -64.7356   -64.1037   \n",
       "2                Pyramimonas        good   -64.7356   -64.1037   \n",
       "3             pennate 1 temp        good   -64.7356   -64.1037   \n",
       "4                       t002        good   -64.7356   -64.1037   \n",
       "\n",
       "                      image_file_name  object_score  validated_type  \n",
       "0  D20171212T201207_IFCB116_00106.png      0.605285     Cryptophyta  \n",
       "1  D20171212T201207_IFCB116_00378.png      0.775176  multiple<other  \n",
       "2  D20171212T201207_IFCB116_00602.png      0.999260            t002  \n",
       "3  D20171212T201207_IFCB116_01090.png      0.631729     Pyramimonas  \n",
       "4  D20171212T201207_IFCB116_01165.png      0.942381            t002  "
      ]
     },
     "execution_count": 47,
     "metadata": {},
     "output_type": "execute_result"
    }
   ],
   "source": [
    "live_preds.head()"
   ]
  },
  {
   "cell_type": "code",
   "execution_count": 48,
   "metadata": {},
   "outputs": [
    {
     "data": {
      "text/plain": [
       "['Amphiprora',\n",
       " 'Chaetoceros single',\n",
       " 'Chaetoceros<Mediophyceae',\n",
       " 'Ciliophora',\n",
       " 'Corethron',\n",
       " 'Cryptophyta',\n",
       " 'Cylindrotheca',\n",
       " 'Dactyliosolen',\n",
       " 'Dictyochales',\n",
       " 'Eucampia',\n",
       " 'Gymnodinium',\n",
       " 'Gyrodinium',\n",
       " 'Katodinium',\n",
       " 'Membraneis',\n",
       " 'Navicula',\n",
       " 'Nitzschia frigida',\n",
       " 'Phaeocystis',\n",
       " 'Proboscia sp.',\n",
       " 'Pseudo-Nitzschia chain',\n",
       " 'Pyramimonas',\n",
       " 'badfocus<artefact',\n",
       " 'bead',\n",
       " 'bubble',\n",
       " 'centric',\n",
       " 'centric 1 temp',\n",
       " 'centric 2 temp',\n",
       " 'centric 3 temp',\n",
       " 'chain<centric',\n",
       " 'chain<pennate',\n",
       " 'detritus',\n",
       " 'dinoflagellate-i',\n",
       " 'dinoflagellate-ii',\n",
       " 'dinoflagellate-iii',\n",
       " 'multiple<other',\n",
       " 'pennate 1 temp',\n",
       " 'pennate 10 temp',\n",
       " 'pennate 11 temp',\n",
       " 'pennate 2 temp',\n",
       " 'pennate 7 temp',\n",
       " 't002',\n",
       " 't007',\n",
       " 't012',\n",
       " 't013',\n",
       " 'temp cylindrotheca']"
      ]
     },
     "execution_count": 48,
     "metadata": {},
     "output_type": "execute_result"
    }
   ],
   "source": [
    "class_id_dict = {'Amphiprora': 0,\n",
    " 'Chaetoceros single': 1,\n",
    " 'Chaetoceros<Mediophyceae': 2,\n",
    " 'Ciliophora': 3,\n",
    " 'Corethron': 4,\n",
    " 'Cryptophyta': 5,\n",
    " 'Cylindrotheca': 6,\n",
    " 'Dactyliosolen': 7,\n",
    " 'Dictyochales': 8,\n",
    " 'Eucampia': 9,\n",
    " 'Gymnodinium': 10,\n",
    " 'Gyrodinium': 11,\n",
    " 'Katodinium': 12,\n",
    " 'Membraneis': 13,\n",
    " 'Navicula': 14,\n",
    " 'Nitzschia frigida': 15,\n",
    " 'Phaeocystis': 16,\n",
    " 'Proboscia sp.': 17,\n",
    " 'Pseudo-Nitzschia chain': 18,\n",
    " 'Pyramimonas': 19,\n",
    " 'badfocus<artefact': 20,\n",
    " 'bead': 21,\n",
    " 'bubble': 22,\n",
    " 'centric': 23,\n",
    " 'centric 1 temp': 24,\n",
    " 'centric 2 temp': 25,\n",
    " 'centric 3 temp': 26,\n",
    " 'chain<centric': 27,\n",
    " 'chain<pennate': 28,\n",
    " 'detritus': 29,\n",
    " 'dinoflagellate-i': 30,\n",
    " 'dinoflagellate-ii': 31,\n",
    " 'dinoflagellate-iii': 32,\n",
    " 'multiple<other': 33,\n",
    " 'pennate 1 temp': 34,\n",
    " 'pennate 10 temp': 35,\n",
    " 'pennate 11 temp': 36,\n",
    " 'pennate 2 temp': 37,\n",
    " 'pennate 7 temp': 38,\n",
    " 't002': 39,\n",
    " 't007': 40,\n",
    " 't012': 41,\n",
    " 't013': 42,\n",
    " 'temp cylindrotheca': 43}\n",
    "# 'Unknowns': 60}\n",
    "\n",
    "id_class_dict = dict((v,k) for k,v in class_id_dict.items())\n",
    "list(id_class_dict)\n",
    "\n",
    "[id_class_dict[i] for i in range(len(id_class_dict))]"
   ]
  },
  {
   "cell_type": "code",
   "execution_count": 49,
   "metadata": {},
   "outputs": [
    {
     "data": {
      "text/plain": [
       "9512"
      ]
     },
     "execution_count": 49,
     "metadata": {},
     "output_type": "execute_result"
    }
   ],
   "source": [
    "live_preds_no_unknowns = live_preds[live_preds['validated_type'] != 'Unknowns']\n",
    "live_preds_no_unknowns = live_preds[live_preds['validated_type'] != 'part<other']\n",
    "len(live_preds_no_unknowns)"
   ]
  },
  {
   "cell_type": "code",
   "execution_count": 50,
   "metadata": {},
   "outputs": [
    {
     "data": {
      "text/html": [
       "<div>\n",
       "<style scoped>\n",
       "    .dataframe tbody tr th:only-of-type {\n",
       "        vertical-align: middle;\n",
       "    }\n",
       "\n",
       "    .dataframe tbody tr th {\n",
       "        vertical-align: top;\n",
       "    }\n",
       "\n",
       "    .dataframe thead th {\n",
       "        text-align: right;\n",
       "    }\n",
       "</style>\n",
       "<table border=\"1\" class=\"dataframe\">\n",
       "  <thead>\n",
       "    <tr style=\"text-align: right;\">\n",
       "      <th></th>\n",
       "      <th>object_id</th>\n",
       "      <th>object_annotation_status</th>\n",
       "      <th>object_annotation_category</th>\n",
       "      <th>sample_flag</th>\n",
       "      <th>object_lat</th>\n",
       "      <th>object_lon</th>\n",
       "      <th>image_file_name</th>\n",
       "      <th>object_score</th>\n",
       "      <th>validated_type</th>\n",
       "    </tr>\n",
       "  </thead>\n",
       "  <tbody>\n",
       "    <tr>\n",
       "      <th>4869</th>\n",
       "      <td>D20200107T075829_IFCB116_01831</td>\n",
       "      <td>Predicted</td>\n",
       "      <td>Nitzschia frigida</td>\n",
       "      <td>good</td>\n",
       "      <td>-64.8868</td>\n",
       "      <td>-64.5563</td>\n",
       "      <td>D20200107T075829_IFCB116_01831.png</td>\n",
       "      <td>0.984753</td>\n",
       "      <td>part&lt;other</td>\n",
       "    </tr>\n",
       "    <tr>\n",
       "      <th>7276</th>\n",
       "      <td>D20200109T060620_IFCB116_05882</td>\n",
       "      <td>Predicted</td>\n",
       "      <td>Nitzschia frigida</td>\n",
       "      <td>good</td>\n",
       "      <td>-64.9769</td>\n",
       "      <td>-64.2456</td>\n",
       "      <td>D20200109T060620_IFCB116_05882.png</td>\n",
       "      <td>0.692967</td>\n",
       "      <td>part&lt;other</td>\n",
       "    </tr>\n",
       "    <tr>\n",
       "      <th>8617</th>\n",
       "      <td>D20200113T140603_IFCB116_00337</td>\n",
       "      <td>Predicted</td>\n",
       "      <td>pennate 2 temp</td>\n",
       "      <td>good</td>\n",
       "      <td>-66.0043</td>\n",
       "      <td>-67.9661</td>\n",
       "      <td>D20200113T140603_IFCB116_00337.png</td>\n",
       "      <td>0.825680</td>\n",
       "      <td>part&lt;other</td>\n",
       "    </tr>\n",
       "    <tr>\n",
       "      <th>9382</th>\n",
       "      <td>D20200110T114949_IFCB116_09365</td>\n",
       "      <td>Predicted</td>\n",
       "      <td>pennate 1 temp</td>\n",
       "      <td>good</td>\n",
       "      <td>-64.697</td>\n",
       "      <td>-65.0245</td>\n",
       "      <td>D20200110T114949_IFCB116_09365.png</td>\n",
       "      <td>0.400980</td>\n",
       "      <td>part&lt;other</td>\n",
       "    </tr>\n",
       "    <tr>\n",
       "      <th>9455</th>\n",
       "      <td>D20200110T132323_IFCB116_05836</td>\n",
       "      <td>Predicted</td>\n",
       "      <td>temp cylindrotheca</td>\n",
       "      <td>good</td>\n",
       "      <td>-64.697</td>\n",
       "      <td>-65.0245</td>\n",
       "      <td>D20200110T132323_IFCB116_05836.png</td>\n",
       "      <td>0.560525</td>\n",
       "      <td>part&lt;other</td>\n",
       "    </tr>\n",
       "  </tbody>\n",
       "</table>\n",
       "</div>"
      ],
      "text/plain": [
       "                           object_id object_annotation_status  \\\n",
       "4869  D20200107T075829_IFCB116_01831                Predicted   \n",
       "7276  D20200109T060620_IFCB116_05882                Predicted   \n",
       "8617  D20200113T140603_IFCB116_00337                Predicted   \n",
       "9382  D20200110T114949_IFCB116_09365                Predicted   \n",
       "9455  D20200110T132323_IFCB116_05836                Predicted   \n",
       "\n",
       "     object_annotation_category sample_flag object_lat object_lon  \\\n",
       "4869          Nitzschia frigida        good   -64.8868   -64.5563   \n",
       "7276          Nitzschia frigida        good   -64.9769   -64.2456   \n",
       "8617             pennate 2 temp        good   -66.0043   -67.9661   \n",
       "9382             pennate 1 temp        good    -64.697   -65.0245   \n",
       "9455         temp cylindrotheca        good    -64.697   -65.0245   \n",
       "\n",
       "                         image_file_name  object_score validated_type  \n",
       "4869  D20200107T075829_IFCB116_01831.png      0.984753     part<other  \n",
       "7276  D20200109T060620_IFCB116_05882.png      0.692967     part<other  \n",
       "8617  D20200113T140603_IFCB116_00337.png      0.825680     part<other  \n",
       "9382  D20200110T114949_IFCB116_09365.png      0.400980     part<other  \n",
       "9455  D20200110T132323_IFCB116_05836.png      0.560525     part<other  "
      ]
     },
     "execution_count": 50,
     "metadata": {},
     "output_type": "execute_result"
    }
   ],
   "source": [
    "live_preds[live_preds['validated_type']== 'part<other']"
   ]
  },
  {
   "cell_type": "code",
   "execution_count": 63,
   "metadata": {},
   "outputs": [],
   "source": [
    "all_preds = [class_id_dict[x] for x in live_preds_no_unknowns['object_annotation_category']]\n",
    "all_labs = [class_id_dict[x] for x in live_preds_no_unknowns['validated_type']]"
   ]
  },
  {
   "cell_type": "code",
   "execution_count": 64,
   "metadata": {},
   "outputs": [
    {
     "data": {
      "text/plain": [
       "0.4009671993271657"
      ]
     },
     "execution_count": 64,
     "metadata": {},
     "output_type": "execute_result"
    }
   ],
   "source": [
    "np.sum(np.array(all_preds) == np.array(all_labs)) / len(all_labs)"
   ]
  },
  {
   "cell_type": "code",
   "execution_count": 53,
   "metadata": {},
   "outputs": [
    {
     "name": "stderr",
     "output_type": "stream",
     "text": [
      "/usr/local/lib/python3.5/dist-packages/sklearn/metrics/classification.py:1143: UndefinedMetricWarning: Precision and F-score are ill-defined and being set to 0.0 in labels with no predicted samples.\n",
      "  'precision', 'predicted', average, warn_for)\n",
      "/usr/local/lib/python3.5/dist-packages/sklearn/metrics/classification.py:1145: UndefinedMetricWarning: Recall and F-score are ill-defined and being set to 0.0 in labels with no true samples.\n",
      "  'recall', 'true', average, warn_for)\n"
     ]
    },
    {
     "data": {
      "text/plain": [
       "(0.5312200906767378, 0.4009671993271657, 0.39697709249222496, None)"
      ]
     },
     "execution_count": 53,
     "metadata": {},
     "output_type": "execute_result"
    }
   ],
   "source": [
    "from sklearn.metrics import precision_recall_fscore_support\n",
    "\n",
    "precision_recall_fscore_support(np.array(all_labs), np.array(all_preds), average='weighted', labels=list(id_class_dict.keys()))"
   ]
  },
  {
   "cell_type": "code",
   "execution_count": 54,
   "metadata": {},
   "outputs": [],
   "source": [
    "from sklearn.metrics import precision_recall_fscore_support\n",
    "\n",
    "\"\"\"\n",
    "returns:\n",
    "\n",
    "precision float (if average is not None) or array of float, shape = [n_unique_labels]\n",
    "recall float (if average is not None) or array of float, , shape = [n_unique_labels]\n",
    "fbeta_score float (if average is not None) or array of float, shape = [n_unique_labels]\n",
    "support None (if average is not None) or array of int, shape = [n_unique_labels]\n",
    "    The number of occurrences of each label in y_true.\n",
    "\"\"\"\n",
    "\n",
    "precision, recall, fscore, supports = precision_recall_fscore_support(np.array(all_labs), np.array(all_preds), \n",
    "                                average=None, labels=list(id_class_dict.keys()))"
   ]
  },
  {
   "cell_type": "code",
   "execution_count": 55,
   "metadata": {},
   "outputs": [
    {
     "data": {
      "text/plain": [
       "(array([0.        , 0.        , 0.02040816, 0.2       , 0.        ,\n",
       "        0.95918367, 0.00769231, 0.        , 0.        , 0.        ,\n",
       "        0.47368421, 0.        , 0.        , 0.        , 0.        ,\n",
       "        0.03174603, 0.        , 0.        , 0.        , 0.28052805,\n",
       "        0.6993135 , 0.02608696, 0.25      , 0.        , 0.5       ,\n",
       "        0.53731343, 0.27272727, 0.14285714, 1.        , 0.27604167,\n",
       "        0.15068493, 0.2103321 , 0.        , 0.43220339, 0.04407295,\n",
       "        0.25      , 0.89473684, 0.30150754, 0.        , 0.42654221,\n",
       "        0.29411765, 0.2046332 , 0.08571429, 0.05392157]),\n",
       " array([0.        , 0.        , 1.        , 1.        , 0.        ,\n",
       "        0.23152709, 0.25      , 0.        , 0.        , 0.        ,\n",
       "        0.47368421, 0.        , 0.        , 0.        , 0.        ,\n",
       "        0.71428571, 0.        , 0.        , 0.        , 0.60283688,\n",
       "        0.69109   , 1.        , 0.75      , 0.        , 0.2       ,\n",
       "        0.67924528, 0.42857143, 0.5       , 0.125     , 0.04736372,\n",
       "        0.39285714, 0.68674699, 0.        , 0.10979548, 0.26126126,\n",
       "        0.5       , 0.36956522, 0.59405941, 0.        , 0.57778999,\n",
       "        0.0625    , 0.11447084, 0.02752294, 0.61111111]))"
      ]
     },
     "execution_count": 55,
     "metadata": {},
     "output_type": "execute_result"
    }
   ],
   "source": [
    "precision, recall"
   ]
  },
  {
   "cell_type": "code",
   "execution_count": 56,
   "metadata": {},
   "outputs": [],
   "source": [
    "classes, counts = np.unique(all_preds, return_counts=True)\n",
    "true_classes, true_counts = np.unique(all_labs, return_counts=True)\n",
    "\n",
    "filled_counts = []\n",
    "prev_class = -1\n",
    "i = 0\n",
    "while len(filled_counts) < len(id_class_dict):\n",
    "    if i >= len(classes):\n",
    "        filled_counts.append(0)\n",
    "        prev_class += 1\n",
    "    elif classes[i] != 1+prev_class:\n",
    "        filled_counts.append(0)\n",
    "        prev_class += 1\n",
    "    else:\n",
    "        filled_counts.append(counts[i])\n",
    "        i += 1\n",
    "        prev_class += 1\n",
    "    \n",
    "filled_true_counts = []\n",
    "prev_class = -1\n",
    "i = 0\n",
    "while len(filled_true_counts) < len(id_class_dict):\n",
    "    if i >= len(true_classes):\n",
    "        filled_true_counts.append(0)\n",
    "        prev_class += 1\n",
    "    elif true_classes[i] != 1+prev_class:\n",
    "        filled_true_counts.append(0)\n",
    "        prev_class += 1\n",
    "    else:\n",
    "        filled_true_counts.append(true_counts[i])\n",
    "        i += 1\n",
    "        prev_class += 1"
   ]
  },
  {
   "cell_type": "code",
   "execution_count": 57,
   "metadata": {},
   "outputs": [
    {
     "data": {
      "image/png": "[encoded data removed]",
      "text/plain": [
       "<Figure size 648x1296 with 1 Axes>"
      ]
     },
     "metadata": {
      "needs_background": "light"
     },
     "output_type": "display_data"
    }
   ],
   "source": [
    "names = [id_class_dict[x] for x in list(id_class_dict.keys())]\n",
    "nc = [str(n) + '  ' + m for m,n in zip(names,filled_counts)]\n",
    "n_tc = [str(n) + '  ' + m for m,n in zip(names,filled_true_counts)]\n",
    "\n",
    "fig, ax = plt.subplots(figsize=(9, 18))\n",
    "ax.scatter(precision, names, color='blue')\n",
    "ax.scatter(recall, names, color='red')\n",
    "ax.scatter(fscore, names, color='black')\n",
    "ax.set_yticks(range(0,len(names)))\n",
    "ax.set_yticklabels(nc)\n",
    "ax.set_xlim(0,1.01)\n",
    "#ax.set_xscale('log')\n",
    "\n",
    "# Don't allow the axis to be on top of your data\n",
    "ax.set_axisbelow(True)\n",
    "\n",
    "# Turn on the minor TICKS, which are required for the minor GRID\n",
    "#ax.minorticks_on()\n",
    "\n",
    "# Customize the major grid\n",
    "ax.grid(which='major', linestyle='-', linewidth='0.5', color='grey', axis='y')\n",
    "# Customize the minor grid\n",
    "#ax.grid(which='minor', linestyle=':', linewidth='0.5', color='black')\n",
    "#plt.savefig('merged_class_acc.png', dpi=300)\n",
    "plt.show()"
   ]
  },
  {
   "cell_type": "code",
   "execution_count": 58,
   "metadata": {},
   "outputs": [
    {
     "data": {
      "text/plain": [
       "(44, (41, 41))"
      ]
     },
     "execution_count": 58,
     "metadata": {},
     "output_type": "execute_result"
    }
   ],
   "source": [
    "from sklearn.metrics import confusion_matrix\n",
    "len(class_id_dict), confusion_matrix(np.array(all_labs), np.array(all_preds)).shape"
   ]
  },
  {
   "cell_type": "code",
   "execution_count": 60,
   "metadata": {},
   "outputs": [
    {
     "data": {
      "text/plain": [
       "array([ 0,  1,  2,  3,  4,  5,  6,  7,  8, 10, 11, 12, 14, 15, 16, 17, 18,\n",
       "       19, 20, 21, 22, 24, 25, 26, 27, 28, 29, 30, 31, 33, 34, 35, 36, 37,\n",
       "       38, 39, 40, 41, 42, 43])"
      ]
     },
     "execution_count": 60,
     "metadata": {},
     "output_type": "execute_result"
    }
   ],
   "source": [
    "classes"
   ]
  },
  {
   "cell_type": "code",
   "execution_count": 65,
   "metadata": {},
   "outputs": [],
   "source": [
    "all_labs.append(13)\n",
    "all_labs.append(23)\n",
    "all_labs.append(32)"
   ]
  },
  {
   "cell_type": "code",
   "execution_count": 66,
   "metadata": {},
   "outputs": [],
   "source": [
    "all_preds.append(13)\n",
    "all_preds.append(23)\n",
    "all_preds.append(32)"
   ]
  },
  {
   "cell_type": "code",
   "execution_count": 71,
   "metadata": {},
   "outputs": [
    {
     "data": {
      "text/plain": [
       "Text(0.5, 312.22499999999985, 'Predicted label')"
      ]
     },
     "execution_count": 71,
     "metadata": {},
     "output_type": "execute_result"
    },
    {
     "data": {
      "image/png": "[encoded data removed]",
      "text/plain": [
       "<Figure size 2520x2520 with 2 Axes>"
      ]
     },
     "metadata": {
      "needs_background": "light"
     },
     "output_type": "display_data"
    }
   ],
   "source": [
    "from sklearn.metrics import confusion_matrix\n",
    "import itertools\n",
    "\n",
    "num_classes = len(class_id_dict)\n",
    "\n",
    "cm = confusion_matrix(np.array(all_labs), np.array(all_preds))\n",
    "#cm = cm.astype('float') / cm.sum(axis = 1)[:, np.newaxis]\n",
    "\n",
    "#print(cm)\n",
    "plt.figure(figsize=(35,35)) \n",
    "\n",
    "plt.imshow(cm, cmap = 'Greens')\n",
    "plt.title('Normalized confusion matrix')\n",
    "plt.colorbar()\n",
    "tick_marks = np.arange(num_classes)\n",
    "plt.xticks(tick_marks, nc, rotation=90)\n",
    "plt.yticks(tick_marks, n_tc)\n",
    "\n",
    "fmt = '.0f'\n",
    "thresh = cm.max() / 2.\n",
    "for i, j in itertools.product(range(cm.shape[0]), range(cm.shape[1])):\n",
    "    plt.text(j, i, format(cm[i, j], fmt),\n",
    "             horizontalalignment=\"center\",\n",
    "             color=\"white\" if cm[i, j] > thresh else \"black\")\n",
    "\n",
    "plt.tight_layout()\n",
    "plt.ylabel('True label')\n",
    "plt.xlabel('Predicted label')\n",
    "#plt.axis('off')\n",
    "#plt.grid(b=None, which='major', axis='both')\n",
    "\n",
    "#plt.savefig('../../conf_matrix_unmerged_visible_low_end_large_validated.png', dpi=300)"
   ]
  },
  {
   "cell_type": "code",
   "execution_count": 68,
   "metadata": {},
   "outputs": [
    {
     "data": {
      "text/plain": [
       "(array([   9,   12,   82,    6,   14,  559,   14,   23,    1,    2,   11,\n",
       "           1,    1,  559,    3,    2,    2,  692, 2887,   84,  134,    1,\n",
       "           7,   60,   45,   16,    3,  142,   54,  129,    1,  244,  365,\n",
       "           3,   25,  571,    1, 1303,   33,  860,   42,  509]),\n",
       " array([ 0,  1,  2,  3,  4,  5,  6,  7,  8,  9, 10, 13, 14, 15, 16, 17, 18,\n",
       "        19, 20, 21, 22, 23, 24, 25, 26, 27, 28, 29, 30, 31, 32, 33, 34, 35,\n",
       "        36, 37, 38, 39, 40, 41, 42, 43]))"
      ]
     },
     "execution_count": 68,
     "metadata": {},
     "output_type": "execute_result"
    }
   ],
   "source": [
    "counts, classes"
   ]
  },
  {
   "cell_type": "code",
   "execution_count": 69,
   "metadata": {},
   "outputs": [
    {
     "data": {
      "image/png": "[encoded data removed]",
      "text/plain": [
       "<Figure size 864x1296 with 1 Axes>"
      ]
     },
     "metadata": {
      "needs_background": "light"
     },
     "output_type": "display_data"
    }
   ],
   "source": [
    "fig, ax = plt.subplots(figsize=(12, 18))\n",
    "ax.scatter(filled_counts, range(0,len(id_class_dict)), alpha=0.75)\n",
    "ax.scatter(filled_true_counts, range(0,len(id_class_dict)), alpha=0.75)\n",
    "ax.set_yticks(range(0,len(id_class_dict)))\n",
    "ax.set_yticklabels([id_class_dict[i] for i in range(len(id_class_dict))])\n",
    "#ax.set_xlim(0,500)\n",
    "#ax.set_xscale('log')\n",
    "\n",
    "# Don't allow the axis to be on top of your data\n",
    "ax.set_axisbelow(True)\n",
    "\n",
    "# Turn on the minor TICKS, which are required for the minor GRID\n",
    "#ax.minorticks_on()\n",
    "\n",
    "# Customize the major grid\n",
    "ax.grid(which='major', linestyle='-', linewidth='0.5', color='grey', axis='y')\n",
    "# Customize the minor grid\n",
    "#ax.grid(which='minor', linestyle=':', linewidth='0.5', color='black')\n",
    "plt.show()"
   ]
  },
  {
   "cell_type": "markdown",
   "metadata": {},
   "source": [
    "## Medium merged categories"
   ]
  },
  {
   "cell_type": "code",
   "execution_count": 72,
   "metadata": {},
   "outputs": [
    {
     "data": {
      "text/plain": [
       "['Amphiprora',\n",
       " 'Chaetoceros single',\n",
       " 'Chaetoceros<Mediophyceae',\n",
       " 'Ciliophora',\n",
       " 'Corethron',\n",
       " 'Cryptophyta',\n",
       " 'Cylindrotheca',\n",
       " 'Dactyliosolen',\n",
       " 'Dictyochales',\n",
       " 'Eucampia',\n",
       " 'Gymnodinium',\n",
       " 'Gyrodinium',\n",
       " 'Katodinium',\n",
       " 'Membraneis',\n",
       " 'Navicula',\n",
       " 'Nitzschia frigida',\n",
       " 'Phaeocystis',\n",
       " 'Proboscia sp.',\n",
       " 'Pseudo-Nitzschia chain',\n",
       " 'Pyramimonas',\n",
       " 'badfocus<artefact',\n",
       " 'bead',\n",
       " 'bubble',\n",
       " 'centric',\n",
       " 'centric 1 temp',\n",
       " 'centric 2 temp',\n",
       " 'centric 3 temp',\n",
       " 'chain<centric',\n",
       " 'chain<pennate',\n",
       " 'detritus',\n",
       " 'dinoflagellate-i',\n",
       " 'dinoflagellate-ii',\n",
       " 'dinoflagellate-iii',\n",
       " 'multiple<other',\n",
       " 'pennate 1 temp',\n",
       " 'pennate 10 temp',\n",
       " 'pennate 11 temp',\n",
       " 'pennate 2 temp',\n",
       " 'pennate 7 temp',\n",
       " 't002',\n",
       " 't007',\n",
       " 't012',\n",
       " 't013',\n",
       " 'temp cylindrotheca']"
      ]
     },
     "execution_count": 72,
     "metadata": {},
     "output_type": "execute_result"
    }
   ],
   "source": [
    "class_id_dict = {'Amphiprora': 0,\n",
    " 'Chaetoceros single': 1,\n",
    " 'Chaetoceros<Mediophyceae': 2,\n",
    " 'Ciliophora': 3,\n",
    " 'Corethron': 4,\n",
    " 'Cryptophyta': 5,\n",
    " 'Cylindrotheca': 6,\n",
    " 'Dactyliosolen': 7,\n",
    " 'Dictyochales': 8,\n",
    " 'Eucampia': 9,\n",
    " 'Gymnodinium': 10,\n",
    " 'Gyrodinium': 11,\n",
    " 'Katodinium': 12,\n",
    " 'Membraneis': 13,\n",
    " 'Navicula': 14,\n",
    " 'Nitzschia frigida': 15,\n",
    " 'Phaeocystis': 16,\n",
    " 'Proboscia sp.': 17,\n",
    " 'Pseudo-Nitzschia chain': 18,\n",
    " 'Pyramimonas': 19,\n",
    " 'badfocus<artefact': 20,\n",
    " 'bead': 21,\n",
    " 'bubble': 22,\n",
    " 'centric': 23,\n",
    " 'centric 1 temp': 24,\n",
    " 'centric 2 temp': 25,\n",
    " 'centric 3 temp': 26,\n",
    " 'chain<centric': 27,\n",
    " 'chain<pennate': 28,\n",
    " 'detritus': 29,\n",
    " 'dinoflagellate-i': 30,\n",
    " 'dinoflagellate-ii': 31,\n",
    " 'dinoflagellate-iii': 32,\n",
    " 'multiple<other': 33,\n",
    " 'pennate 1 temp': 34,\n",
    " 'pennate 10 temp': 35,\n",
    " 'pennate 11 temp': 36,\n",
    " 'pennate 2 temp': 37,\n",
    " 'pennate 7 temp': 38,\n",
    " 't002': 39,\n",
    " 't007': 40,\n",
    " 't012': 41,\n",
    " 't013': 42,\n",
    " 'temp cylindrotheca': 43}\n",
    "\n",
    "id_class_dict = dict((v,k) for k,v in class_id_dict.items())\n",
    "list(id_class_dict)\n",
    "\n",
    "[id_class_dict[i] for i in range(len(id_class_dict))]"
   ]
  },
  {
   "cell_type": "code",
   "execution_count": 73,
   "metadata": {},
   "outputs": [],
   "source": [
    "# Diatoms: \n",
    "\n",
    "## Pennate Diatoms:\n",
    "amphiprora = ['Amphiprora']                    \n",
    "banquisia_belgicae = ['Banquisia belgicae']\n",
    "cylindrotheca = ['Cylindrotheca']                 \n",
    "licmophora = ['Licmophora']\n",
    "nitzschia_frigida = ['Nitzschia frigida']             \n",
    "pseudo_nitzschia_chain = ['Pseudo-Nitzschia chain'] \n",
    "\n",
    "unidentified_single_pennate = [\n",
    "    'Membraneis',\n",
    "    'Navicula',\n",
    "    'temp cylindrotheca',\n",
    "    'pennate 1 temp',\n",
    "    'pennate 2 temp',\n",
    "    'pennate 7 temp',\n",
    "    'pennate 10 temp',\n",
    "    'pennate 11 temp',\n",
    "    'chain<pennate',\n",
    "    'pennate<Bacillariophyta'\n",
    "]\n",
    "\n",
    "## Centric Diatoms\n",
    "chaetoceros_mediophyceae = ['Chaetoceros<Mediophyceae']\n",
    "chaetoceros_single = ['Chaetoceros single']\n",
    "corethron = ['Corethron']\n",
    "eucampia_chain = ['Eucampia chain']\n",
    "eucampia = ['Eucampia']\n",
    "dactyliosolen = ['Dactyliosolen']\n",
    "odontella = ['Odontella sp.']\n",
    "proboscia = ['Proboscia sp.']\n",
    "rhizosolenia = ['Rhizosolenia']\n",
    "unidentified_single_centric = [\n",
    "    'centric 1 temp',\n",
    "    'centric 2 temp',\n",
    "    'centric 3 temp',\n",
    "    'centric 4 temp',\n",
    "    'centric 6 temp',\n",
    "    'centric',\n",
    "    'chain<centric'\n",
    "]\n",
    "\n",
    "# Cryptophytes: \n",
    "cryptophyta = ['Cryptophyta']\n",
    "\n",
    "# Dinoflagellates: \n",
    "gyrodinium = ['Gyrodinium']\n",
    "gymnodinium = ['Gymnodinium'] \n",
    "katodinium = ['Katodinium']\n",
    "warnowia = ['Warnowia']\n",
    "dinoflagellate_i = ['dinoflagellate-i']\n",
    "dinoflagellate_ii = ['dinoflagellate-ii']\n",
    "dinoflagellate_iii = ['dinoflagellate-iii']\n",
    "\n",
    "dinophyceae = ['Dinophyceae']\n",
    "\n",
    "# Prasinophytes/Chlorophytes:\n",
    "pyramimonas = ['Pyramimonas']\n",
    "\n",
    "# Haptophytes/Prymnesiophyte:\n",
    "phaeocystis = ['Phaeocystis']\n",
    "\n",
    "# Silicoflagellates:\n",
    "dictyochales = ['Dictyochales']\n",
    "\n",
    "# Microzooplankton: \n",
    "ciliophora = ['Ciliophora']\n",
    "tintinnida = ['Tintinnida']\n",
    "\n",
    "unidentified_flagellates = [ \n",
    "    't002',\n",
    "    't005',\n",
    "    't007',\n",
    "    't009',\n",
    "    't012',\n",
    "    't013',\n",
    "    't020'\n",
    "]\n",
    "\n",
    "unidentified_living_cells = [ \n",
    "    't006',\n",
    "    't019'\n",
    "]\n",
    "\n",
    "other = [ \n",
    "    'bead',\n",
    "    'bubble',\n",
    "    'detritus',\n",
    "    'badfocus<artefact',\n",
    "    'multiple<other',\n",
    "    #'Unknowns'\n",
    "]"
   ]
  },
  {
   "cell_type": "code",
   "execution_count": 74,
   "metadata": {},
   "outputs": [
    {
     "data": {
      "text/plain": [
       "60"
      ]
     },
     "execution_count": 74,
     "metadata": {},
     "output_type": "execute_result"
    }
   ],
   "source": [
    "all_classes_sep = amphiprora+banquisia_belgicae+cylindrotheca+licmophora+nitzschia_frigida+pseudo_nitzschia_chain+unidentified_single_pennate+chaetoceros_mediophyceae+chaetoceros_single+corethron+eucampia_chain+eucampia+dactyliosolen+odontella +proboscia+rhizosolenia +unidentified_single_centric+cryptophyta+gyrodinium+gymnodinium+katodinium+warnowia+dinoflagellate_i+dinoflagellate_ii +dinoflagellate_iii+dinophyceae+pyramimonas +phaeocystis+dictyochales +ciliophora +tintinnida+unidentified_flagellates+unidentified_living_cells+other\n",
    "len(all_classes_sep)"
   ]
  },
  {
   "cell_type": "code",
   "execution_count": 75,
   "metadata": {},
   "outputs": [
    {
     "data": {
      "text/plain": [
       "'amphiprora,banquisia_belgicae,cylindrotheca,licmophora,nitzschia_frigida,pseudo_nitzschia_chain,unidentified_single_pennate,chaetoceros_mediophyceae,chaetoceros_single,corethron,eucampia_chain,eucampia,dactyliosolen,odontella ,proboscia,rhizosolenia ,unidentified_single_centric,cryptophyta,gyrodinium,gymnodinium,katodinium,warnowia,dinoflagellate_i,dinoflagellate_ii ,dinoflagellate_iii,dinophyceae,pyramimonas ,phaeocystis,dictyochales ,ciliophora ,tintinnida,unidentified_flagellates,unidentified_living_cells,other'"
      ]
     },
     "execution_count": 75,
     "metadata": {},
     "output_type": "execute_result"
    }
   ],
   "source": [
    "class_str = 'amphiprora+banquisia_belgicae+cylindrotheca+licmophora+nitzschia_frigida+pseudo_nitzschia_chain+unidentified_single_pennate+chaetoceros_mediophyceae+chaetoceros_single+corethron+eucampia_chain+eucampia+dactyliosolen+odontella +proboscia+rhizosolenia +unidentified_single_centric+cryptophyta+gyrodinium+gymnodinium+katodinium+warnowia+dinoflagellate_i+dinoflagellate_ii +dinoflagellate_iii+dinophyceae+pyramimonas +phaeocystis+dictyochales +ciliophora +tintinnida+unidentified_flagellates+unidentified_living_cells+other'\n",
    "class_str.replace('+', ',')"
   ]
  },
  {
   "cell_type": "code",
   "execution_count": 76,
   "metadata": {},
   "outputs": [
    {
     "data": {
      "text/plain": [
       "\"amphiprora','banquisia_belgicae','cylindrotheca','licmophora','nitzschia_frigida','pseudo_nitzschia_chain','unidentified_single_pennate','chaetoceros_mediophyceae','chaetoceros_single','corethron','eucampia_chain','eucampia','dactyliosolen','odontella ','proboscia','rhizosolenia ','unidentified_single_centric','cryptophyta','gyrodinium','gymnodinium','katodinium','warnowia','dinoflagellate_i','dinoflagellate_ii ','dinoflagellate_iii','dinophyceae','pyramimonas ','phaeocystis','dictyochales ','ciliophora ','tintinnida','unidentified_flagellates','unidentified_living_cells','other\""
      ]
     },
     "execution_count": 76,
     "metadata": {},
     "output_type": "execute_result"
    }
   ],
   "source": [
    "class_str.replace('+', \"','\")"
   ]
  },
  {
   "cell_type": "markdown",
   "metadata": {},
   "source": [
    "### adding all the merged classes into the dataframe"
   ]
  },
  {
   "cell_type": "code",
   "execution_count": 77,
   "metadata": {},
   "outputs": [
    {
     "name": "stderr",
     "output_type": "stream",
     "text": [
      "/usr/local/lib/python3.5/dist-packages/ipykernel_launcher.py:7: SettingWithCopyWarning: \n",
      "A value is trying to be set on a copy of a slice from a DataFrame\n",
      "\n",
      "See the caveats in the documentation: http://pandas.pydata.org/pandas-docs/stable/indexing.html#indexing-view-versus-copy\n",
      "  import sys\n"
     ]
    }
   ],
   "source": [
    "classes = [amphiprora,banquisia_belgicae,cylindrotheca,licmophora,nitzschia_frigida,pseudo_nitzschia_chain,unidentified_single_pennate,chaetoceros_mediophyceae,chaetoceros_single,corethron,eucampia_chain,eucampia,dactyliosolen,odontella ,proboscia,rhizosolenia ,unidentified_single_centric,cryptophyta,gyrodinium,gymnodinium,katodinium,warnowia,dinoflagellate_i,dinoflagellate_ii ,dinoflagellate_iii,dinophyceae,pyramimonas ,phaeocystis,dictyochales ,ciliophora ,tintinnida,unidentified_flagellates,unidentified_living_cells,other]\n",
    "\n",
    "class_names = ['amphiprora','banquisia_belgicae','cylindrotheca','licmophora','nitzschia_frigida','pseudo_nitzschia_chain','unidentified_single_pennate','chaetoceros_mediophyceae','chaetoceros_single','corethron','eucampia_chain','eucampia','dactyliosolen','odontella ','proboscia','rhizosolenia ','unidentified_single_centric','cryptophyta','gyrodinium','gymnodinium','katodinium','warnowia','dinoflagellate_i','dinoflagellate_ii ','dinoflagellate_iii','dinophyceae','pyramimonas ','phaeocystis','dictyochales ','ciliophora ','tintinnida','unidentified_flagellates','unidentified_living_cells','other']\n",
    "\n",
    "live_preds[\"merged_category\"] = \"\"\n",
    "for i in range(len(classes)):\n",
    "    live_preds['merged_category'][live_preds['object_annotation_category'].isin(classes[i])] = class_names[i]"
   ]
  },
  {
   "cell_type": "code",
   "execution_count": 78,
   "metadata": {},
   "outputs": [
    {
     "name": "stderr",
     "output_type": "stream",
     "text": [
      "/usr/local/lib/python3.5/dist-packages/ipykernel_launcher.py:7: SettingWithCopyWarning: \n",
      "A value is trying to be set on a copy of a slice from a DataFrame\n",
      "\n",
      "See the caveats in the documentation: http://pandas.pydata.org/pandas-docs/stable/indexing.html#indexing-view-versus-copy\n",
      "  import sys\n"
     ]
    }
   ],
   "source": [
    "classes = [amphiprora,banquisia_belgicae,cylindrotheca,licmophora,nitzschia_frigida,pseudo_nitzschia_chain,unidentified_single_pennate,chaetoceros_mediophyceae,chaetoceros_single,corethron,eucampia_chain,eucampia,dactyliosolen,odontella ,proboscia,rhizosolenia ,unidentified_single_centric,cryptophyta,gyrodinium,gymnodinium,katodinium,warnowia,dinoflagellate_i,dinoflagellate_ii ,dinoflagellate_iii,dinophyceae,pyramimonas ,phaeocystis,dictyochales ,ciliophora ,tintinnida,unidentified_flagellates,unidentified_living_cells,other]\n",
    "\n",
    "class_names = ['amphiprora','banquisia_belgicae','cylindrotheca','licmophora','nitzschia_frigida','pseudo_nitzschia_chain','unidentified_single_pennate','chaetoceros_mediophyceae','chaetoceros_single','corethron','eucampia_chain','eucampia','dactyliosolen','odontella ','proboscia','rhizosolenia ','unidentified_single_centric','cryptophyta','gyrodinium','gymnodinium','katodinium','warnowia','dinoflagellate_i','dinoflagellate_ii ','dinoflagellate_iii','dinophyceae','pyramimonas ','phaeocystis','dictyochales ','ciliophora ','tintinnida','unidentified_flagellates','unidentified_living_cells','other']\n",
    "\n",
    "live_preds[\"val_merged_category\"] = \"\"\n",
    "for i in range(len(classes)):\n",
    "    live_preds['val_merged_category'][live_preds['validated_type'].isin(classes[i])] = class_names[i]"
   ]
  },
  {
   "cell_type": "code",
   "execution_count": 79,
   "metadata": {},
   "outputs": [],
   "source": [
    "merged_labs_truth = []\n",
    "for lab in all_labs:\n",
    "    for i in range(len(classes)):\n",
    "        if id_class_dict[lab] in classes[i]: \n",
    "            merged_labs_truth.append(class_names[i])"
   ]
  },
  {
   "cell_type": "code",
   "execution_count": 80,
   "metadata": {},
   "outputs": [],
   "source": [
    "merged_labs = []\n",
    "for lab in all_preds:\n",
    "    for i in range(len(classes)):\n",
    "        if id_class_dict[lab] in classes[i]: \n",
    "            merged_labs.append(class_names[i])"
   ]
  },
  {
   "cell_type": "code",
   "execution_count": 81,
   "metadata": {},
   "outputs": [
    {
     "data": {
      "text/plain": [
       "{0: 'amphiprora',\n",
       " 1: 'banquisia_belgicae',\n",
       " 2: 'cylindrotheca',\n",
       " 3: 'licmophora',\n",
       " 4: 'nitzschia_frigida',\n",
       " 5: 'pseudo_nitzschia_chain',\n",
       " 6: 'unidentified_single_pennate',\n",
       " 7: 'chaetoceros_mediophyceae',\n",
       " 8: 'chaetoceros_single',\n",
       " 9: 'corethron',\n",
       " 10: 'eucampia_chain',\n",
       " 11: 'eucampia',\n",
       " 12: 'dactyliosolen',\n",
       " 13: 'odontella ',\n",
       " 14: 'proboscia',\n",
       " 15: 'rhizosolenia ',\n",
       " 16: 'unidentified_single_centric',\n",
       " 17: 'cryptophyta',\n",
       " 18: 'gyrodinium',\n",
       " 19: 'gymnodinium',\n",
       " 20: 'katodinium',\n",
       " 21: 'warnowia',\n",
       " 22: 'dinoflagellate_i',\n",
       " 23: 'dinoflagellate_ii ',\n",
       " 24: 'dinoflagellate_iii',\n",
       " 25: 'dinophyceae',\n",
       " 26: 'pyramimonas ',\n",
       " 27: 'phaeocystis',\n",
       " 28: 'dictyochales ',\n",
       " 29: 'ciliophora ',\n",
       " 30: 'tintinnida',\n",
       " 31: 'unidentified_flagellates',\n",
       " 32: 'unidentified_living_cells',\n",
       " 33: 'other'}"
      ]
     },
     "execution_count": 81,
     "metadata": {},
     "output_type": "execute_result"
    }
   ],
   "source": [
    "class_id_list = [[x, i] for i, x in enumerate(class_names)]\n",
    "class_id_dict = {key: value for (key, value) in class_id_list}\n",
    "\n",
    "id_class_dict = dict((v,k) for k,v in class_id_dict.items())\n",
    "\n",
    "id_class_dict"
   ]
  },
  {
   "cell_type": "code",
   "execution_count": 82,
   "metadata": {},
   "outputs": [
    {
     "data": {
      "text/plain": [
       "(9515, 9515)"
      ]
     },
     "execution_count": 82,
     "metadata": {},
     "output_type": "execute_result"
    }
   ],
   "source": [
    "merged_labs_id = [class_id_dict[x] for x in merged_labs]\n",
    "len(merged_labs), len(merged_labs_id)"
   ]
  },
  {
   "cell_type": "code",
   "execution_count": 83,
   "metadata": {},
   "outputs": [
    {
     "data": {
      "text/plain": [
       "(9515, 9515)"
      ]
     },
     "execution_count": 83,
     "metadata": {},
     "output_type": "execute_result"
    }
   ],
   "source": [
    "merged_truth_id = [class_id_dict[x] for x in merged_labs_truth]\n",
    "len(merged_labs_truth), len(merged_truth_id)"
   ]
  },
  {
   "cell_type": "code",
   "execution_count": 84,
   "metadata": {},
   "outputs": [
    {
     "data": {
      "text/plain": [
       "(0.6750290541183043, 0.49448239621650025, 0.5229403985716542, None)"
      ]
     },
     "execution_count": 84,
     "metadata": {},
     "output_type": "execute_result"
    }
   ],
   "source": [
    "from sklearn.metrics import precision_recall_fscore_support\n",
    "\n",
    "precision_recall_fscore_support(np.array(merged_truth_id), np.array(merged_labs_id), average='weighted', labels=list(id_class_dict.keys()))"
   ]
  },
  {
   "cell_type": "code",
   "execution_count": 85,
   "metadata": {},
   "outputs": [],
   "source": [
    "from sklearn.metrics import precision_recall_fscore_support\n",
    "\n",
    "\"\"\"\n",
    "returns:\n",
    "\n",
    "precision float (if average is not None) or array of float, shape = [n_unique_labels]\n",
    "recall float (if average is not None) or array of float, , shape = [n_unique_labels]\n",
    "fbeta_score float (if average is not None) or array of float, shape = [n_unique_labels]\n",
    "support None (if average is not None) or array of int, shape = [n_unique_labels]\n",
    "    The number of occurrences of each label in y_true.\n",
    "\"\"\"\n",
    "\n",
    "precision, recall, fscore, supports = precision_recall_fscore_support(np.array(merged_truth_id), np.array(merged_labs_id), \n",
    "                                average=None, labels=list(id_class_dict.keys()))"
   ]
  },
  {
   "cell_type": "code",
   "execution_count": 86,
   "metadata": {},
   "outputs": [],
   "source": [
    "names = [id_class_dict[x] for x in list(id_class_dict.keys())]"
   ]
  },
  {
   "cell_type": "code",
   "execution_count": 87,
   "metadata": {},
   "outputs": [
    {
     "data": {
      "text/plain": [
       "(34, (25, 25))"
      ]
     },
     "execution_count": 87,
     "metadata": {},
     "output_type": "execute_result"
    }
   ],
   "source": [
    "len(class_id_dict), confusion_matrix(np.array(merged_labs_id), np.array(merged_truth_id)).shape"
   ]
  },
  {
   "cell_type": "code",
   "execution_count": 88,
   "metadata": {},
   "outputs": [],
   "source": [
    "classes, counts = np.unique(merged_labs_id, return_counts=True)\n",
    "true_classes, true_counts = np.unique(merged_truth_id, return_counts=True)\n",
    "\n",
    "filled_counts = []\n",
    "prev_class = -1\n",
    "i = 0\n",
    "while len(filled_counts) < len(id_class_dict):\n",
    "    if classes[i] != 1+prev_class:\n",
    "        filled_counts.append(0)\n",
    "        prev_class += 1\n",
    "    else:\n",
    "        filled_counts.append(counts[i])\n",
    "        i += 1\n",
    "        prev_class += 1\n",
    "    \n",
    "filled_true_counts = []\n",
    "prev_class = -1\n",
    "i = 0\n",
    "while len(filled_true_counts) < len(id_class_dict):\n",
    "    if true_classes[i] != 1+prev_class:\n",
    "        filled_true_counts.append(0)\n",
    "        prev_class += 1\n",
    "    else:\n",
    "        filled_true_counts.append(true_counts[i])\n",
    "        i += 1\n",
    "        prev_class += 1"
   ]
  },
  {
   "cell_type": "code",
   "execution_count": 89,
   "metadata": {},
   "outputs": [
    {
     "data": {
      "image/png": "[encoded data removed]",
      "text/plain": [
       "<Figure size 648x1296 with 1 Axes>"
      ]
     },
     "metadata": {
      "needs_background": "light"
     },
     "output_type": "display_data"
    }
   ],
   "source": [
    "nc = [str(n) + '  ' + m for m,n in zip(names,filled_counts)]\n",
    "n_tc = [str(n) + '  ' + m for m,n in zip(names,filled_true_counts)]\n",
    "\n",
    "fig, ax = plt.subplots(figsize=(9, 18))\n",
    "ax.scatter(precision, names, color='blue')\n",
    "ax.scatter(recall, names, color='red')\n",
    "ax.scatter(fscore, names, color='black')\n",
    "ax.set_yticks(range(0,len(names)))\n",
    "ax.set_yticklabels(nc)\n",
    "ax.set_xlim(0,1.01)\n",
    "#ax.set_xscale('log')\n",
    "\n",
    "# Don't allow the axis to be on top of your data\n",
    "ax.set_axisbelow(True)\n",
    "\n",
    "# Turn on the minor TICKS, which are required for the minor GRID\n",
    "#ax.minorticks_on()\n",
    "\n",
    "# Customize the major grid\n",
    "ax.grid(which='major', linestyle='-', linewidth='0.5', color='grey', axis='y')\n",
    "# Customize the minor grid\n",
    "#ax.grid(which='minor', linestyle=':', linewidth='0.5', color='black')\n",
    "#plt.savefig('merged_class_acc.png', dpi=300)\n",
    "plt.show()"
   ]
  },
  {
   "cell_type": "code",
   "execution_count": 90,
   "metadata": {},
   "outputs": [
    {
     "name": "stderr",
     "output_type": "stream",
     "text": [
      "/usr/local/lib/python3.5/dist-packages/ipykernel_launcher.py:7: RuntimeWarning: invalid value encountered in true_divide\n",
      "  import sys\n"
     ]
    },
    {
     "data": {
      "text/plain": [
       "Text(0.5, 23.89999999999995, 'Predicted label')"
      ]
     },
     "execution_count": 90,
     "metadata": {},
     "output_type": "execute_result"
    },
    {
     "data": {
      "image/png": "[encoded data removed]",
      "text/plain": [
       "<Figure size 1080x1080 with 2 Axes>"
      ]
     },
     "metadata": {
      "needs_background": "light"
     },
     "output_type": "display_data"
    }
   ],
   "source": [
    "from sklearn.metrics import confusion_matrix\n",
    "import itertools\n",
    "\n",
    "num_classes = len(class_id_dict)\n",
    "\n",
    "cm = confusion_matrix(np.array(merged_truth_id), np.array(merged_labs_id))\n",
    "cm = cm.astype('float') / cm.sum(axis = 1)[:, np.newaxis]\n",
    "\n",
    "# print(cm)\n",
    "plt.figure(figsize=(15,15)) \n",
    "\n",
    "plt.imshow(cm, cmap = 'Greens',vmax=0.2)\n",
    "plt.title('Normalized confusion matrix')\n",
    "plt.colorbar()\n",
    "tick_marks = np.arange(num_classes)\n",
    "plt.xticks(tick_marks, nc, rotation=90)\n",
    "plt.yticks(tick_marks, n_tc)\n",
    "\n",
    "fmt = '.1f'\n",
    "thresh = cm.max() / 2.\n",
    "for i, j in itertools.product(range(cm.shape[0]), range(cm.shape[1])):\n",
    "    plt.text(j, i, format(cm[i, j], fmt),\n",
    "             horizontalalignment=\"center\",\n",
    "             color=\"white\" if cm[i, j] > thresh else \"black\")\n",
    "\n",
    "plt.tight_layout()\n",
    "plt.ylabel('True label')\n",
    "plt.xlabel('Predicted label')\n",
    "#plt.axis('off')\n",
    "#plt.grid(b=None, which='major', axis='both')\n",
    "\n",
    "#plt.savefig('conf_matrix_medium_merged.png', dpi=300)"
   ]
  },
  {
   "cell_type": "code",
   "execution_count": 78,
   "metadata": {},
   "outputs": [
    {
     "data": {
      "image/png": "[encoded data removed]",
      "text/plain": [
       "<Figure size 864x1296 with 1 Axes>"
      ]
     },
     "metadata": {
      "needs_background": "light"
     },
     "output_type": "display_data"
    }
   ],
   "source": [
    "fig, ax = plt.subplots(figsize=(12, 18))\n",
    "ax.scatter(filled_counts, range(0,len(id_class_dict)), alpha=0.75)\n",
    "ax.scatter(filled_true_counts, range(0,len(id_class_dict)), alpha=0.75)\n",
    "ax.set_yticks(range(0,len(id_class_dict)))\n",
    "ax.set_yticklabels([id_class_dict[i] for i in range(len(id_class_dict))])\n",
    "#ax.set_xlim(-10,500)\n",
    "#ax.set_xscale('log')\n",
    "\n",
    "# Don't allow the axis to be on top of your data\n",
    "ax.set_axisbelow(True)\n",
    "\n",
    "# Turn on the minor TICKS, which are required for the minor GRID\n",
    "#ax.minorticks_on()\n",
    "\n",
    "# Customize the major grid\n",
    "ax.grid(which='major', linestyle='-', linewidth='0.5', color='grey', axis='y')\n",
    "# Customize the minor grid\n",
    "#ax.grid(which='minor', linestyle=':', linewidth='0.5', color='black')\n",
    "plt.show()"
   ]
  },
  {
   "cell_type": "markdown",
   "metadata": {},
   "source": [
    "## Now moving to super merged categories"
   ]
  },
  {
   "cell_type": "code",
   "execution_count": null,
   "metadata": {},
   "outputs": [],
   "source": [
    "class_id_dict = {'Amphiprora': 0,\n",
    " 'Banquisia belgicae': 1,\n",
    " 'Chaetoceros single': 2,\n",
    " 'Chaetoceros<Mediophyceae': 3,\n",
    " 'Ciliophora': 4,\n",
    " 'Corethron': 5,\n",
    " 'Cryptophyta': 6,\n",
    " 'Cylindrotheca': 7,\n",
    " 'Dactyliosolen': 8,\n",
    " 'Dictyochales': 9,\n",
    " 'Dinophyceae': 10,\n",
    " 'Eucampia': 11,\n",
    " 'Eucampia chain': 12,\n",
    " 'Gymnodinium': 13,\n",
    " 'Gyrodinium': 14,\n",
    " 'Katodinium': 15,\n",
    " 'Licmophora': 16,\n",
    " 'Membraneis': 17,\n",
    " 'Navicula': 18,\n",
    " 'Nitzschia frigida': 19,\n",
    " 'Odontella sp.': 20,\n",
    " 'Phaeocystis': 21,\n",
    " 'Proboscia sp.': 22,\n",
    " 'Pseudo-Nitzschia chain': 23,\n",
    " 'Pyramimonas': 24,\n",
    " 'Rhizosolenia': 25,\n",
    " 'Tintinnida': 26,\n",
    " 'Warnowia': 27,\n",
    " 'badfocus<artefact': 28,\n",
    " 'bead': 29,\n",
    " 'bubble': 30,\n",
    " 'centric': 31,\n",
    " 'centric 1 temp': 32,\n",
    " 'centric 2 temp': 33,\n",
    " 'centric 3 temp': 34,\n",
    " 'centric 4 temp': 35,\n",
    " 'centric 6 temp': 36,\n",
    " 'chain<centric': 37,\n",
    " 'chain<pennate': 38,\n",
    " 'detritus': 39,\n",
    " 'dinoflagellate-i': 40,\n",
    " 'dinoflagellate-ii': 41,\n",
    " 'dinoflagellate-iii': 42,\n",
    " 'multiple<other': 43,\n",
    " 'pennate 1 temp': 44,\n",
    " 'pennate 10 temp': 45,\n",
    " 'pennate 11 temp': 46,\n",
    " 'pennate 2 temp': 47,\n",
    " 'pennate 7 temp': 48,\n",
    " 'pennate<Bacillariophyta': 49,\n",
    " 't002': 50,\n",
    " 't005': 51,\n",
    " 't006': 52,\n",
    " 't007': 53,\n",
    " 't009': 54,\n",
    " 't012': 55,\n",
    " 't013': 56,\n",
    " 't019': 57,\n",
    " 't020': 58,\n",
    " 'temp cylindrotheca': 59}\n",
    "\n",
    "id_class_dict = dict((v,k) for k,v in class_id_dict.items())\n",
    "list(id_class_dict)\n",
    "\n",
    "[id_class_dict[i] for i in range(len(id_class_dict))]"
   ]
  },
  {
   "cell_type": "code",
   "execution_count": null,
   "metadata": {},
   "outputs": [],
   "source": [
    "# Diatoms: \n",
    "\n",
    "## Pennate Diatoms:\n",
    "pennates = [\n",
    "    'Amphiprora',                    \n",
    "    'Banquisia belgicae',\n",
    "    'Cylindrotheca'  ,             \n",
    "    'Licmophora',\n",
    "    'Nitzschia frigida'  ,        \n",
    "    'Pseudo-Nitzschia chain',\n",
    "    'Membraneis',\n",
    "    'Navicula',\n",
    "    'temp cylindrotheca',\n",
    "    'pennate 1 temp',\n",
    "    'pennate 2 temp',\n",
    "    'pennate 7 temp',\n",
    "    'pennate 10 temp',\n",
    "    'pennate 11 temp',\n",
    "    'chain<pennate',\n",
    "    'pennate<Bacillariophyta'\n",
    "]\n",
    "\n",
    "## Centric Diatoms\n",
    "centrics = [\n",
    "    'Chaetoceros<Mediophyceae',\n",
    "    'Chaetoceros single',\n",
    "    'Corethron',\n",
    "    'Eucampia chain',\n",
    "    'Eucampia',\n",
    "    'Dactyliosolen',\n",
    "    'Odontella sp.',\n",
    "    'Proboscia sp.',\n",
    "    'Rhizosolenia',\n",
    "    'centric 1 temp',\n",
    "    'centric 2 temp',\n",
    "    'centric 3 temp',\n",
    "    'centric 4 temp',\n",
    "    'centric 6 temp',\n",
    "    'centric',\n",
    "    'chain<centric'\n",
    "]\n",
    "\n",
    "# Cryptophytes: \n",
    "cryptophyta = ['Cryptophyta']\n",
    "\n",
    "dinoflagellates = [\n",
    "    'Gyrodinium',\n",
    "    'Gymnodinium',\n",
    "    'Katodinium',\n",
    "    'Warnowia',\n",
    "    'dinoflagellate-i',\n",
    "    'dinoflagellate-ii',\n",
    "    'dinoflagellate-iii',\n",
    "    'Dinophyceae'\n",
    "]\n",
    "\n",
    "# Prasinophytes/Chlorophytes:\n",
    "pyramimonas = ['Pyramimonas']\n",
    "\n",
    "# Haptophytes/Prymnesiophyte:\n",
    "phaeocystis = ['Phaeocystis']\n",
    "\n",
    "# Silicoflagellates:\n",
    "dictyochales = ['Dictyochales']\n",
    "\n",
    "# Microzooplankton: \n",
    "ciliophora = ['Ciliophora']\n",
    "tintinnida = ['Tintinnida']\n",
    "\n",
    "unidentified_flagellates = [ \n",
    "    't002',\n",
    "    't005',\n",
    "    't007',\n",
    "    't009',\n",
    "    't012',\n",
    "    't013',\n",
    "    't020'\n",
    "]\n",
    "\n",
    "unidentified_living_cells = [ \n",
    "    't006',\n",
    "    't019'\n",
    "]\n",
    "\n",
    "other = [ \n",
    "    'bead',\n",
    "    'bubble',\n",
    "    'detritus',\n",
    "    'badfocus<artefact',\n",
    "    'multiple<other'\n",
    "]"
   ]
  },
  {
   "cell_type": "code",
   "execution_count": null,
   "metadata": {},
   "outputs": [],
   "source": [
    "all_classes = list(live_preds.groupby('object_annotation_category')['object_id'].nunique().index)"
   ]
  },
  {
   "cell_type": "code",
   "execution_count": null,
   "metadata": {},
   "outputs": [],
   "source": [
    "all_classes_sep = pennates+centrics+cryptophyta+dinoflagellates+pyramimonas+phaeocystis+dictyochales+ciliophora+tintinnida+unidentified_flagellates+unidentified_living_cells+other\n",
    "len(all_classes), len(all_classes_sep)"
   ]
  },
  {
   "cell_type": "code",
   "execution_count": null,
   "metadata": {},
   "outputs": [],
   "source": [
    "list(set(all_classes) - set(all_classes_sep))"
   ]
  },
  {
   "cell_type": "code",
   "execution_count": null,
   "metadata": {},
   "outputs": [],
   "source": [
    "list(set(all_classes_sep) - set(all_classes))"
   ]
  },
  {
   "cell_type": "code",
   "execution_count": null,
   "metadata": {},
   "outputs": [],
   "source": [
    "class_str = 'pennates+centrics+cryptophyta+dinoflagellates+pyramimonas+phaeocystis+dictyochales+ciliophora+tintinnida+unidentified_flagellates+unidentified_living_cells+other'\n",
    "class_str.replace('+', ',')"
   ]
  },
  {
   "cell_type": "code",
   "execution_count": null,
   "metadata": {},
   "outputs": [],
   "source": [
    "class_str.replace('+', \"','\")"
   ]
  },
  {
   "cell_type": "markdown",
   "metadata": {},
   "source": [
    "### adding all the merged classes into the dataframe"
   ]
  },
  {
   "cell_type": "code",
   "execution_count": null,
   "metadata": {},
   "outputs": [],
   "source": [
    "classes = [pennates,centrics,cryptophyta,dinoflagellates,pyramimonas,phaeocystis,dictyochales,ciliophora,tintinnida,unidentified_flagellates,unidentified_living_cells,other]\n",
    "\n",
    "class_names = ['pennates','centrics','cryptophyta','dinoflagellates','pyramimonas','phaeocystis','dictyochales','ciliophora','tintinnida','unidentified_flagellates','unidentified_living_cells','other']\n",
    "\n",
    "live_preds[\"merged_category\"] = \"\"\n",
    "for i in range(len(classes)):\n",
    "    live_preds['merged_category'][live_preds['object_annotation_category'].isin(classes[i])] = class_names[i]"
   ]
  },
  {
   "cell_type": "code",
   "execution_count": null,
   "metadata": {},
   "outputs": [],
   "source": [
    "classes = [pennates,centrics,cryptophyta,dinoflagellates,pyramimonas,phaeocystis,dictyochales,ciliophora,tintinnida,unidentified_flagellates,unidentified_living_cells,other]\n",
    "\n",
    "class_names = ['pennates','centrics','cryptophyta','dinoflagellates','pyramimonas','phaeocystis','dictyochales','ciliophora','tintinnida','unidentified_flagellates','unidentified_living_cells','other']\n",
    "\n",
    "live_preds[\"val_merged_category\"] = \"\"\n",
    "for i in range(len(classes)):\n",
    "    live_preds['val_merged_category'][live_preds['validated_type'].isin(classes[i])] = class_names[i]"
   ]
  },
  {
   "cell_type": "code",
   "execution_count": null,
   "metadata": {},
   "outputs": [],
   "source": [
    "merged_labs_truth = []\n",
    "for lab in all_labs:\n",
    "    for i in range(len(classes)):\n",
    "        if id_class_dict[lab] in classes[i]: \n",
    "            merged_labs_truth.append(class_names[i])"
   ]
  },
  {
   "cell_type": "code",
   "execution_count": null,
   "metadata": {},
   "outputs": [],
   "source": [
    "merged_labs = []\n",
    "for lab in all_preds:\n",
    "    for i in range(len(classes)):\n",
    "        if id_class_dict[lab] in classes[i]: \n",
    "            merged_labs.append(class_names[i])"
   ]
  },
  {
   "cell_type": "code",
   "execution_count": null,
   "metadata": {},
   "outputs": [],
   "source": [
    "class_id_list = [[x, i] for i, x in enumerate(class_names)]\n",
    "class_id_dict = {key: value for (key, value) in class_id_list}\n",
    "\n",
    "id_class_dict = dict((v,k) for k,v in class_id_dict.items())\n",
    "\n",
    "id_class_dict"
   ]
  },
  {
   "cell_type": "code",
   "execution_count": null,
   "metadata": {},
   "outputs": [],
   "source": [
    "merged_labs_id = [class_id_dict[x] for x in merged_labs]\n",
    "len(merged_labs), len(merged_labs_id)"
   ]
  },
  {
   "cell_type": "code",
   "execution_count": null,
   "metadata": {},
   "outputs": [],
   "source": [
    "merged_truth_id = [class_id_dict[x] for x in merged_labs_truth]\n",
    "len(merged_labs_truth), len(merged_truth_id)"
   ]
  },
  {
   "cell_type": "code",
   "execution_count": null,
   "metadata": {},
   "outputs": [],
   "source": [
    "from sklearn.metrics import precision_recall_fscore_support\n",
    "\n",
    "precision_recall_fscore_support(np.array(merged_truth_id), np.array(merged_labs_id), average='weighted', labels=list(id_class_dict.keys()))"
   ]
  },
  {
   "cell_type": "code",
   "execution_count": null,
   "metadata": {},
   "outputs": [],
   "source": [
    "from sklearn.metrics import precision_recall_fscore_support\n",
    "\n",
    "\"\"\"\n",
    "returns:\n",
    "\n",
    "precision float (if average is not None) or array of float, shape = [n_unique_labels]\n",
    "recall float (if average is not None) or array of float, , shape = [n_unique_labels]\n",
    "fbeta_score float (if average is not None) or array of float, shape = [n_unique_labels]\n",
    "support None (if average is not None) or array of int, shape = [n_unique_labels]\n",
    "    The number of occurrences of each label in y_true.\n",
    "\"\"\"\n",
    "\n",
    "precision, recall, fscore, supports = precision_recall_fscore_support(np.array(merged_truth_id), np.array(merged_labs_id), \n",
    "                                average=None, labels=list(id_class_dict.keys()))"
   ]
  },
  {
   "cell_type": "code",
   "execution_count": null,
   "metadata": {},
   "outputs": [],
   "source": [
    "names = [id_class_dict[x] for x in list(id_class_dict.keys())]"
   ]
  },
  {
   "cell_type": "code",
   "execution_count": null,
   "metadata": {},
   "outputs": [],
   "source": [
    "len(class_id_dict), confusion_matrix(np.array(merged_labs_id), np.array(merged_truth_id)).shape"
   ]
  },
  {
   "cell_type": "code",
   "execution_count": null,
   "metadata": {},
   "outputs": [],
   "source": [
    "classes, counts = np.unique(merged_labs_id, return_counts=True)\n",
    "true_classes, true_counts = np.unique(merged_truth_id, return_counts=True)\n",
    "\n",
    "filled_counts = []\n",
    "prev_class = -1\n",
    "i = 0\n",
    "while len(filled_counts) < len(id_class_dict):\n",
    "    if classes[i] != 1+prev_class:\n",
    "        filled_counts.append(0)\n",
    "        prev_class += 1\n",
    "    else:\n",
    "        filled_counts.append(counts[i])\n",
    "        i += 1\n",
    "        prev_class += 1\n",
    "    \n",
    "filled_true_counts = []\n",
    "prev_class = -1\n",
    "i = 0\n",
    "while len(filled_true_counts) < len(id_class_dict):\n",
    "    if true_classes[i] != 1+prev_class:\n",
    "        filled_true_counts.append(0)\n",
    "        prev_class += 1\n",
    "    else:\n",
    "        filled_true_counts.append(true_counts[i])\n",
    "        i += 1\n",
    "        prev_class += 1"
   ]
  },
  {
   "cell_type": "code",
   "execution_count": null,
   "metadata": {},
   "outputs": [],
   "source": [
    "nc = [str(n) + '  ' + m for m,n in zip(names,filled_counts)]\n",
    "n_tc = [str(n) + '  ' + m for m,n in zip(names,filled_true_counts)]\n",
    "\n",
    "fig, ax = plt.subplots(figsize=(9, 18))\n",
    "ax.scatter(precision, names, color='blue')\n",
    "ax.scatter(recall, names, color='red')\n",
    "ax.scatter(fscore, names, color='black')\n",
    "ax.set_yticks(range(0,len(names)))\n",
    "ax.set_yticklabels(nc)\n",
    "ax.set_xlim(0,1.01)\n",
    "#ax.set_xscale('log')\n",
    "\n",
    "# Don't allow the axis to be on top of your data\n",
    "ax.set_axisbelow(True)\n",
    "\n",
    "# Turn on the minor TICKS, which are required for the minor GRID\n",
    "#ax.minorticks_on()\n",
    "\n",
    "# Customize the major grid\n",
    "ax.grid(which='major', linestyle='-', linewidth='0.5', color='grey', axis='y')\n",
    "# Customize the minor grid\n",
    "#ax.grid(which='minor', linestyle=':', linewidth='0.5', color='black')\n",
    "#plt.savefig('merged_class_acc.png', dpi=300)\n",
    "plt.show()"
   ]
  },
  {
   "cell_type": "code",
   "execution_count": null,
   "metadata": {},
   "outputs": [],
   "source": [
    "from sklearn.metrics import confusion_matrix\n",
    "import itertools\n",
    "\n",
    "num_classes = len(class_id_dict)\n",
    "\n",
    "cm = confusion_matrix(np.array(merged_truth_id), np.array(merged_labs_id))\n",
    "cm = cm.astype('float') / cm.sum(axis = 1)[:, np.newaxis]\n",
    "\n",
    "# print(cm)\n",
    "plt.figure(figsize=(15,15)) \n",
    "\n",
    "plt.imshow(cm, cmap = 'Greens',vmax=0.2)\n",
    "plt.title('Normalized confusion matrix')\n",
    "plt.colorbar()\n",
    "tick_marks = np.arange(num_classes)\n",
    "plt.xticks(tick_marks, nc, rotation=90)\n",
    "plt.yticks(tick_marks, n_tc)\n",
    "\n",
    "fmt = '.1f'\n",
    "thresh = cm.max() / 2.\n",
    "for i, j in itertools.product(range(cm.shape[0]), range(cm.shape[1])):\n",
    "    plt.text(j, i, format(cm[i, j], fmt),\n",
    "             horizontalalignment=\"center\",\n",
    "             color=\"white\" if cm[i, j] > thresh else \"black\")\n",
    "\n",
    "plt.tight_layout()\n",
    "plt.ylabel('True label')\n",
    "plt.xlabel('Predicted label')\n",
    "#plt.axis('off')\n",
    "#plt.grid(b=None, which='major', axis='both')\n",
    "\n",
    "#plt.savefig('conf_matrix_medium_merged.png', dpi=300)"
   ]
  },
  {
   "cell_type": "code",
   "execution_count": null,
   "metadata": {},
   "outputs": [],
   "source": [
    "fig, ax = plt.subplots(figsize=(12, 18))\n",
    "ax.scatter(filled_counts, range(0,len(id_class_dict)), alpha=0.75)\n",
    "ax.scatter(filled_true_counts, range(0,len(id_class_dict)), alpha=0.75)\n",
    "ax.set_yticks(range(0,len(id_class_dict)))\n",
    "ax.set_yticklabels([id_class_dict[i] for i in range(len(id_class_dict))])\n",
    "#ax.set_xlim(-10,500)\n",
    "#ax.set_xscale('log')\n",
    "\n",
    "# Don't allow the axis to be on top of your data\n",
    "ax.set_axisbelow(True)\n",
    "\n",
    "# Turn on the minor TICKS, which are required for the minor GRID\n",
    "#ax.minorticks_on()\n",
    "\n",
    "# Customize the major grid\n",
    "ax.grid(which='major', linestyle='-', linewidth='0.5', color='grey', axis='y')\n",
    "# Customize the minor grid\n",
    "#ax.grid(which='minor', linestyle=':', linewidth='0.5', color='black')\n",
    "plt.show()"
   ]
  },
  {
   "cell_type": "code",
   "execution_count": null,
   "metadata": {},
   "outputs": [],
   "source": []
  }
 ],
 "metadata": {
  "kernelspec": {
   "display_name": "Python 3",
   "language": "python",
   "name": "python3"
  },
  "language_info": {
   "codemirror_mode": {
    "name": "ipython",
    "version": 3
   },
   "file_extension": ".py",
   "mimetype": "text/x-python",
   "name": "python",
   "nbconvert_exporter": "python",
   "pygments_lexer": "ipython3",
   "version": "3.5.2"
  }
 },
 "nbformat": 4,
 "nbformat_minor": 2
}
