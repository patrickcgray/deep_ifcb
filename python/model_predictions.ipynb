{
 "cells": [
  {
   "cell_type": "markdown",
   "metadata": {},
   "source": [
    "# Applying the Model"
   ]
  },
  {
   "cell_type": "code",
   "execution_count": 4,
   "metadata": {},
   "outputs": [],
   "source": [
    "import pandas as pd\n",
    "import geopandas as gpd\n",
    "import matplotlib.pyplot as plt"
   ]
  },
  {
   "cell_type": "code",
   "execution_count": 5,
   "metadata": {},
   "outputs": [],
   "source": [
    "img_md_subset = pd.read_csv('../../../Data/ifcb_ecotaxa_subset_merged.csv')\n",
    "img_md_subset = img_md_subset.drop('Unnamed: 0', 1)"
   ]
  },
  {
   "cell_type": "code",
   "execution_count": 6,
   "metadata": {},
   "outputs": [
    {
     "data": {
      "text/plain": [
       "['/job:localhost/replica:0/task:0/device:GPU:0']"
      ]
     },
     "execution_count": 6,
     "metadata": {},
     "output_type": "execute_result"
    }
   ],
   "source": [
    "from keras import backend as K\n",
    "K.tensorflow_backend._get_available_gpus()"
   ]
  },
  {
   "cell_type": "code",
   "execution_count": 7,
   "metadata": {},
   "outputs": [
    {
     "name": "stdout",
     "output_type": "stream",
     "text": [
      "5158003\n"
     ]
    },
    {
     "data": {
      "text/plain": [
       "1328483"
      ]
     },
     "execution_count": 7,
     "metadata": {},
     "output_type": "execute_result"
    }
   ],
   "source": [
    "import glob, os\n",
    "\n",
    "file_dir = '../../../Data/all_imagery/'\n",
    "\n",
    "os.chdir(file_dir)\n",
    "fn_list = []\n",
    "for file in glob.glob(\"*.png\"):\n",
    "    fn_list.append(file)\n",
    "    \n",
    "print(len(fn_list))\n",
    "\n",
    "fn_edit = [x[:-4] for x in fn_list]\n",
    "\n",
    "available_subset = img_md_subset[img_md_subset['object_id'].isin(fn_edit)]\n",
    "len(available_subset)"
   ]
  },
  {
   "cell_type": "code",
   "execution_count": 44,
   "metadata": {},
   "outputs": [
    {
     "data": {
      "text/plain": [
       "66424"
      ]
     },
     "execution_count": 44,
     "metadata": {},
     "output_type": "execute_result"
    }
   ],
   "source": [
    "frac = 0.05\n",
    "int(len(available_subset) * frac)"
   ]
  },
  {
   "cell_type": "code",
   "execution_count": 49,
   "metadata": {},
   "outputs": [],
   "source": [
    "class_id_dict = {'amphiprora': 0,\n",
    " 'chaetoceros': 1,\n",
    " 'chaetoceros_mediophyceae': 2,\n",
    " 'chlorophytes': 3,\n",
    " 'ciliophora': 4,\n",
    " 'corethron': 5,\n",
    " 'cryptophytes': 6,\n",
    " 'cylindrotheca': 7,\n",
    " 'dactyliosolen': 8,\n",
    " 'dinoflagellate_i': 9,\n",
    " 'dinoflagellate_ii': 10,\n",
    " 'dinoflagellate_iii': 11,\n",
    " 'dinophyceae': 12,\n",
    " 'eucampia': 13,\n",
    " 'eucampia_chain': 14,\n",
    " 'general_centric_diatoms': 15,\n",
    " 'general_dinoflagellates': 16,\n",
    " 'general_pennate_diatoms': 17,\n",
    " 'gymnodinium': 18,\n",
    " 'haptophytes': 19,\n",
    " 'katodinium': 20,\n",
    " 'nitzschia_frigida': 21,\n",
    " 'other': 22,\n",
    " 'proboscia': 23,\n",
    " 'pseudo_nitzschia_chain': 24,\n",
    " 'silicoflagellates': 25,\n",
    " 'small_unidentified_cells': 26,\n",
    " 'tintinnida': 27,\n",
    " 'unidenfitied_chain_pennates': 28,\n",
    " 'unidentified_chain_centrics': 29,\n",
    " 'unidentified_diatoms': 30,\n",
    " 'unidentified_flagellates': 31,\n",
    " 'unidentified_living_cells': 32,\n",
    " 'unidentified_single_centrics': 33,\n",
    " 'unidentified_single_pennates': 34,\n",
    " 'torodinium':35,\n",
    " 'guinardia': 36,\n",
    " 'ceratium' : 37}\n",
    "\n",
    "id_class_dict = dict((v,k) for k,v in class_id_dict.items())"
   ]
  },
  {
   "cell_type": "code",
   "execution_count": 50,
   "metadata": {},
   "outputs": [],
   "source": [
    "from tensorflow.keras.preprocessing import image\n",
    "import numpy as np\n",
    "\n",
    "images = []\n",
    "labels = []\n",
    "merged_labels = []\n",
    "original_labels = []\n",
    "\n",
    "for index, row in available_subset.sample(frac=frac).iterrows():\n",
    "    \n",
    "    # TODO need to think about optimal size and that size actually corresponds to class\n",
    "    # maybe add blackspace instead of interpolating because it is changing the morphology\n",
    "\n",
    "    img = image.load_img(row['object_id']+'.png', target_size=(150, 150), color_mode=\"grayscale\")\n",
    "    images.append(image.img_to_array(img))\n",
    "    labels.append(class_id_dict[row['merged_category']])\n",
    "    merged_labels.append(row['merged_category'])\n",
    "    original_labels.append(row['object_annotation_category'])\n",
    "    \n",
    "images = np.array(images)\n",
    "labels = np.array(labels)\n",
    "merged_labels = np.array(merged_labels)\n",
    "original_labels = np.array(original_labels)"
   ]
  },
  {
   "cell_type": "code",
   "execution_count": 51,
   "metadata": {},
   "outputs": [
    {
     "data": {
      "text/plain": [
       "(1.0365102, 0.34437957)"
      ]
     },
     "execution_count": 51,
     "metadata": {},
     "output_type": "execute_result"
    }
   ],
   "source": [
    "X_predict = images / 123\n",
    "np.mean(X_predict), np.std(X_predict)"
   ]
  },
  {
   "cell_type": "code",
   "execution_count": 52,
   "metadata": {},
   "outputs": [],
   "source": [
    "from tensorflow import keras\n",
    "\n",
    "model = keras.models.load_model('../model_weights.hdf5')"
   ]
  },
  {
   "cell_type": "code",
   "execution_count": 53,
   "metadata": {},
   "outputs": [
    {
     "data": {
      "text/plain": [
       "(66424, 150, 150, 1)"
      ]
     },
     "execution_count": 53,
     "metadata": {},
     "output_type": "execute_result"
    }
   ],
   "source": [
    "X_predict.shape"
   ]
  },
  {
   "cell_type": "code",
   "execution_count": null,
   "metadata": {},
   "outputs": [],
   "source": [
    "def generate_data(directory, batch_size):\n",
    "    \"\"\"Replaces Keras' native ImageDataGenerator.\"\"\"\n",
    "    i = 0\n",
    "    while True:\n",
    "        \n",
    "        images = []\n",
    "        labels = []\n",
    "        merged_labels = []\n",
    "        original_labels = []\n",
    "\n",
    "        for index, row in available_subset.sample(frac=frac).iterrows():\n",
    "\n",
    "            # TODO need to think about optimal size and that size actually corresponds to class\n",
    "            # maybe add blackspace instead of interpolating because it is changing the morphology\n",
    "\n",
    "            img = image.load_img(row['object_id']+'.png', target_size=(150, 150), color_mode=\"grayscale\")\n",
    "            images.append(image.img_to_array(img))\n",
    "            labels.append(class_id_dict[row['merged_category']])\n",
    "            merged_labels.append(row['merged_category'])\n",
    "            original_labels.append(row['object_annotation_category'])\n",
    "        \n",
    "        \n",
    "        \n",
    "        image_batch = []\n",
    "        for b in range(batch_size):\n",
    "            if i == len(file_list):\n",
    "                i = 0\n",
    "                random.shuffle(file_list)\n",
    "            sample = file_list[i]\n",
    "            i += 1\n",
    "            image = cv2.resize(cv2.imread(sample[0]), INPUT_SHAPE)\n",
    "            image_batch.append((image.astype(float) - 128) / 128)\n",
    "\n",
    "        yield np.array(image_batch)"
   ]
  },
  {
   "cell_type": "code",
   "execution_count": 54,
   "metadata": {},
   "outputs": [],
   "source": [
    "predictions = np.argmax(model.predict(X_predict), axis=1)"
   ]
  },
  {
   "cell_type": "code",
   "execution_count": null,
   "metadata": {},
   "outputs": [],
   "source": [
    "model.predict_generator(generator = tile_gen.tile_generator(clean_px, batch_size=100, flatten=True, canopy=True), steps=len(clean_px) // 100, verbose=1)"
   ]
  },
  {
   "cell_type": "code",
   "execution_count": 57,
   "metadata": {},
   "outputs": [],
   "source": [
    "classes, counts = np.unique(predictions, return_counts=True)"
   ]
  },
  {
   "cell_type": "code",
   "execution_count": 63,
   "metadata": {},
   "outputs": [
    {
     "data": {
      "image/png": "[encoded data removed]",
      "text/plain": [
       "<Figure size 864x576 with 1 Axes>"
      ]
     },
     "metadata": {
      "needs_background": "light"
     },
     "output_type": "display_data"
    }
   ],
   "source": [
    "fig, ax = plt.subplots(figsize=(12, 8))\n",
    "ax.scatter(counts, classes)\n",
    "ax.set_yticks(range(0,len(class_id_dict)))\n",
    "ax.set_yticklabels(list(class_id_dict.keys()))\n",
    "#ax.set_xlim(-10,500)\n",
    "ax.set_xscale('log')\n",
    "plt.show()"
   ]
  },
  {
   "cell_type": "code",
   "execution_count": 23,
   "metadata": {},
   "outputs": [
    {
     "data": {
      "text/plain": [
       "dict_keys(['cryptophytes', 'dinophyceae', 'unidentified_flagellates', 'katodinium', 'general_centric_diatoms', 'general_pennate_diatoms', 'unidentified_single_pennates', 'cylindrotheca', 'eucampia', 'chaetoceros_mediophyceae', 'ciliophora', 'other', 'proboscia', 'unidenfitied_chain_pennates', 'chaetoceros', 'tintinnida', 'eucampia_chain', 'gymnodinium', 'pseudo_nitzschia_chain', 'unidentified_diatoms', 'nitzschia_frigida', 'small_unidentified_cells', 'dinoflagellate_iii', 'unidentified_chain_centrics', 'unidentified_single_centrics', 'amphiprora', 'general_dinoflagellates', 'chlorophytes', 'dinoflagellate_ii', 'corethron', 'dinoflagellate_i', 'silicoflagellates', 'dactyliosolen', 'unidentified_living_cells', 'haptophytes'])"
      ]
     },
     "execution_count": 23,
     "metadata": {},
     "output_type": "execute_result"
    }
   ],
   "source": [
    "class_id_dict.keys()"
   ]
  },
  {
   "cell_type": "code",
   "execution_count": null,
   "metadata": {},
   "outputs": [],
   "source": []
  }
 ],
 "metadata": {
  "kernelspec": {
   "display_name": "Python 3",
   "language": "python",
   "name": "python3"
  },
  "language_info": {
   "codemirror_mode": {
    "name": "ipython",
    "version": 3
   },
   "file_extension": ".py",
   "mimetype": "text/x-python",
   "name": "python",
   "nbconvert_exporter": "python",
   "pygments_lexer": "ipython3",
   "version": "3.5.2"
  }
 },
 "nbformat": 4,
 "nbformat_minor": 2
}
