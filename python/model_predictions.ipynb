{
 "cells": [
  {
   "cell_type": "markdown",
   "metadata": {},
   "source": [
    "# Applying the Model"
   ]
  },
  {
   "cell_type": "code",
   "execution_count": 1,
   "metadata": {},
   "outputs": [],
   "source": [
    "import pandas as pd\n",
    "import geopandas as gpd\n",
    "import matplotlib.pyplot as plt"
   ]
  },
  {
   "cell_type": "code",
   "execution_count": 2,
   "metadata": {},
   "outputs": [],
   "source": [
    "img_md_subset = pd.read_csv('../../../Data/ifcb_ecotaxa_subset_update.csv')\n",
    "img_md_subset = img_md_subset.drop('Unnamed: 0', 1)"
   ]
  },
  {
   "cell_type": "code",
   "execution_count": 4,
   "metadata": {},
   "outputs": [
    {
     "name": "stderr",
     "output_type": "stream",
     "text": [
      "/usr/local/lib/python3.5/dist-packages/IPython/core/interactiveshell.py:3020: DtypeWarning: Columns (5,9,10,262,263) have mixed types. Specify dtype option on import or set low_memory=False.\n",
      "  interactivity=interactivity, compiler=compiler, result=result)\n"
     ]
    }
   ],
   "source": [
    "img_md_subset = pd.read_csv('../../../Data/ecotaxa_export_3203_20200909_1843.tsv', sep='\\t')"
   ]
  },
  {
   "cell_type": "code",
   "execution_count": 5,
   "metadata": {},
   "outputs": [
    {
     "data": {
      "text/html": [
       "<div>\n",
       "<style scoped>\n",
       "    .dataframe tbody tr th:only-of-type {\n",
       "        vertical-align: middle;\n",
       "    }\n",
       "\n",
       "    .dataframe tbody tr th {\n",
       "        vertical-align: top;\n",
       "    }\n",
       "\n",
       "    .dataframe thead th {\n",
       "        text-align: right;\n",
       "    }\n",
       "</style>\n",
       "<table border=\"1\" class=\"dataframe\">\n",
       "  <thead>\n",
       "    <tr style=\"text-align: right;\">\n",
       "      <th></th>\n",
       "      <th>object_id</th>\n",
       "      <th>object_lat</th>\n",
       "      <th>object_lon</th>\n",
       "      <th>object_date</th>\n",
       "      <th>object_time</th>\n",
       "      <th>object_link</th>\n",
       "      <th>object_depth_min</th>\n",
       "      <th>object_depth_max</th>\n",
       "      <th>object_annotation_status</th>\n",
       "      <th>object_annotation_person_name</th>\n",
       "      <th>...</th>\n",
       "      <th>process_soft_version</th>\n",
       "      <th>process_script</th>\n",
       "      <th>process_script_version</th>\n",
       "      <th>process_library</th>\n",
       "      <th>process_library_version</th>\n",
       "      <th>process_date</th>\n",
       "      <th>process_time</th>\n",
       "      <th>acq_id</th>\n",
       "      <th>acq_instrument</th>\n",
       "      <th>acq_resolution_pixels_per_micron</th>\n",
       "    </tr>\n",
       "  </thead>\n",
       "  <tbody>\n",
       "    <tr>\n",
       "      <th>0</th>\n",
       "      <td>D20180221T193119_IFCB116_01153</td>\n",
       "      <td>-64.7535</td>\n",
       "      <td>-64.1339</td>\n",
       "      <td>20180221</td>\n",
       "      <td>193119</td>\n",
       "      <td>NaN</td>\n",
       "      <td>5.0</td>\n",
       "      <td>5.0</td>\n",
       "      <td>validated</td>\n",
       "      <td>Schuyler Nardelli</td>\n",
       "      <td>...</td>\n",
       "      <td>R2016a</td>\n",
       "      <td>easyIFCB</td>\n",
       "      <td>a4aa03a38c9f40d1b8fd282ef7ede108607d2d82</td>\n",
       "      <td>ifcb-analysis</td>\n",
       "      <td>e9e37998a8bb8caf587b19418202b650ba0b99f2</td>\n",
       "      <td>YYYYMMDD</td>\n",
       "      <td>HHMMSS</td>\n",
       "      <td>IFCB116</td>\n",
       "      <td>IFCB</td>\n",
       "      <td>3.4</td>\n",
       "    </tr>\n",
       "    <tr>\n",
       "      <th>1</th>\n",
       "      <td>D20180221T202431_IFCB116_00153</td>\n",
       "      <td>-64.7741</td>\n",
       "      <td>-64.1655</td>\n",
       "      <td>20180221</td>\n",
       "      <td>202431</td>\n",
       "      <td>NaN</td>\n",
       "      <td>5.0</td>\n",
       "      <td>5.0</td>\n",
       "      <td>validated</td>\n",
       "      <td>Schuyler Nardelli</td>\n",
       "      <td>...</td>\n",
       "      <td>R2016a</td>\n",
       "      <td>easyIFCB</td>\n",
       "      <td>a4aa03a38c9f40d1b8fd282ef7ede108607d2d82</td>\n",
       "      <td>ifcb-analysis</td>\n",
       "      <td>e9e37998a8bb8caf587b19418202b650ba0b99f2</td>\n",
       "      <td>YYYYMMDD</td>\n",
       "      <td>HHMMSS</td>\n",
       "      <td>IFCB116</td>\n",
       "      <td>IFCB</td>\n",
       "      <td>3.4</td>\n",
       "    </tr>\n",
       "    <tr>\n",
       "      <th>2</th>\n",
       "      <td>D20180221T202431_IFCB116_01303</td>\n",
       "      <td>-64.7741</td>\n",
       "      <td>-64.1655</td>\n",
       "      <td>20180221</td>\n",
       "      <td>202431</td>\n",
       "      <td>NaN</td>\n",
       "      <td>5.0</td>\n",
       "      <td>5.0</td>\n",
       "      <td>validated</td>\n",
       "      <td>Schuyler Nardelli</td>\n",
       "      <td>...</td>\n",
       "      <td>R2016a</td>\n",
       "      <td>easyIFCB</td>\n",
       "      <td>a4aa03a38c9f40d1b8fd282ef7ede108607d2d82</td>\n",
       "      <td>ifcb-analysis</td>\n",
       "      <td>e9e37998a8bb8caf587b19418202b650ba0b99f2</td>\n",
       "      <td>YYYYMMDD</td>\n",
       "      <td>HHMMSS</td>\n",
       "      <td>IFCB116</td>\n",
       "      <td>IFCB</td>\n",
       "      <td>3.4</td>\n",
       "    </tr>\n",
       "    <tr>\n",
       "      <th>3</th>\n",
       "      <td>D20180221T202431_IFCB116_03008</td>\n",
       "      <td>-64.7741</td>\n",
       "      <td>-64.1655</td>\n",
       "      <td>20180221</td>\n",
       "      <td>202431</td>\n",
       "      <td>NaN</td>\n",
       "      <td>5.0</td>\n",
       "      <td>5.0</td>\n",
       "      <td>validated</td>\n",
       "      <td>Schuyler Nardelli</td>\n",
       "      <td>...</td>\n",
       "      <td>R2016a</td>\n",
       "      <td>easyIFCB</td>\n",
       "      <td>a4aa03a38c9f40d1b8fd282ef7ede108607d2d82</td>\n",
       "      <td>ifcb-analysis</td>\n",
       "      <td>e9e37998a8bb8caf587b19418202b650ba0b99f2</td>\n",
       "      <td>YYYYMMDD</td>\n",
       "      <td>HHMMSS</td>\n",
       "      <td>IFCB116</td>\n",
       "      <td>IFCB</td>\n",
       "      <td>3.4</td>\n",
       "    </tr>\n",
       "    <tr>\n",
       "      <th>4</th>\n",
       "      <td>D20180221T212254_IFCB116_07034</td>\n",
       "      <td>-64.7802</td>\n",
       "      <td>-63.9785</td>\n",
       "      <td>20180221</td>\n",
       "      <td>212254</td>\n",
       "      <td>NaN</td>\n",
       "      <td>5.0</td>\n",
       "      <td>5.0</td>\n",
       "      <td>validated</td>\n",
       "      <td>Schuyler Nardelli</td>\n",
       "      <td>...</td>\n",
       "      <td>R2016a</td>\n",
       "      <td>easyIFCB</td>\n",
       "      <td>a4aa03a38c9f40d1b8fd282ef7ede108607d2d82</td>\n",
       "      <td>ifcb-analysis</td>\n",
       "      <td>e9e37998a8bb8caf587b19418202b650ba0b99f2</td>\n",
       "      <td>YYYYMMDD</td>\n",
       "      <td>HHMMSS</td>\n",
       "      <td>IFCB116</td>\n",
       "      <td>IFCB</td>\n",
       "      <td>3.4</td>\n",
       "    </tr>\n",
       "  </tbody>\n",
       "</table>\n",
       "<p>5 rows × 280 columns</p>\n",
       "</div>"
      ],
      "text/plain": [
       "                        object_id  object_lat  object_lon  object_date  \\\n",
       "0  D20180221T193119_IFCB116_01153    -64.7535    -64.1339     20180221   \n",
       "1  D20180221T202431_IFCB116_00153    -64.7741    -64.1655     20180221   \n",
       "2  D20180221T202431_IFCB116_01303    -64.7741    -64.1655     20180221   \n",
       "3  D20180221T202431_IFCB116_03008    -64.7741    -64.1655     20180221   \n",
       "4  D20180221T212254_IFCB116_07034    -64.7802    -63.9785     20180221   \n",
       "\n",
       "   object_time object_link  object_depth_min  object_depth_max  \\\n",
       "0       193119         NaN               5.0               5.0   \n",
       "1       202431         NaN               5.0               5.0   \n",
       "2       202431         NaN               5.0               5.0   \n",
       "3       202431         NaN               5.0               5.0   \n",
       "4       212254         NaN               5.0               5.0   \n",
       "\n",
       "  object_annotation_status object_annotation_person_name  \\\n",
       "0                validated             Schuyler Nardelli   \n",
       "1                validated             Schuyler Nardelli   \n",
       "2                validated             Schuyler Nardelli   \n",
       "3                validated             Schuyler Nardelli   \n",
       "4                validated             Schuyler Nardelli   \n",
       "\n",
       "                 ...                process_soft_version  process_script  \\\n",
       "0                ...                              R2016a        easyIFCB   \n",
       "1                ...                              R2016a        easyIFCB   \n",
       "2                ...                              R2016a        easyIFCB   \n",
       "3                ...                              R2016a        easyIFCB   \n",
       "4                ...                              R2016a        easyIFCB   \n",
       "\n",
       "                     process_script_version process_library  \\\n",
       "0  a4aa03a38c9f40d1b8fd282ef7ede108607d2d82   ifcb-analysis   \n",
       "1  a4aa03a38c9f40d1b8fd282ef7ede108607d2d82   ifcb-analysis   \n",
       "2  a4aa03a38c9f40d1b8fd282ef7ede108607d2d82   ifcb-analysis   \n",
       "3  a4aa03a38c9f40d1b8fd282ef7ede108607d2d82   ifcb-analysis   \n",
       "4  a4aa03a38c9f40d1b8fd282ef7ede108607d2d82   ifcb-analysis   \n",
       "\n",
       "                    process_library_version  process_date  process_time  \\\n",
       "0  e9e37998a8bb8caf587b19418202b650ba0b99f2      YYYYMMDD        HHMMSS   \n",
       "1  e9e37998a8bb8caf587b19418202b650ba0b99f2      YYYYMMDD        HHMMSS   \n",
       "2  e9e37998a8bb8caf587b19418202b650ba0b99f2      YYYYMMDD        HHMMSS   \n",
       "3  e9e37998a8bb8caf587b19418202b650ba0b99f2      YYYYMMDD        HHMMSS   \n",
       "4  e9e37998a8bb8caf587b19418202b650ba0b99f2      YYYYMMDD        HHMMSS   \n",
       "\n",
       "    acq_id  acq_instrument  acq_resolution_pixels_per_micron  \n",
       "0  IFCB116            IFCB                               3.4  \n",
       "1  IFCB116            IFCB                               3.4  \n",
       "2  IFCB116            IFCB                               3.4  \n",
       "3  IFCB116            IFCB                               3.4  \n",
       "4  IFCB116            IFCB                               3.4  \n",
       "\n",
       "[5 rows x 280 columns]"
      ]
     },
     "execution_count": 5,
     "metadata": {},
     "output_type": "execute_result"
    }
   ],
   "source": [
    "img_md_subset.head()"
   ]
  },
  {
   "cell_type": "code",
   "execution_count": 6,
   "metadata": {},
   "outputs": [
    {
     "data": {
      "text/plain": [
       "1977145"
      ]
     },
     "execution_count": 6,
     "metadata": {},
     "output_type": "execute_result"
    }
   ],
   "source": [
    "len(img_md_subset)"
   ]
  },
  {
   "cell_type": "code",
   "execution_count": 7,
   "metadata": {},
   "outputs": [
    {
     "data": {
      "text/plain": [
       "object_annotation_category\n",
       "Asteromphalus                  5\n",
       "Banquisia belgicae            43\n",
       "Cocconeis                     13\n",
       "Crustacea                      7\n",
       "Dinophysis                    29\n",
       "Diplopsalis<Dinophyceae X     12\n",
       "Eucampia                     102\n",
       "Eucampia chain                62\n",
       "Gyrodinium                    85\n",
       "Licmophora                    78\n",
       "Membraneis chain               8\n",
       "Odontella sp.                 37\n",
       "Pleurosigma                    1\n",
       "Rhizosolenia                  82\n",
       "Tintinnida                    43\n",
       "Torodinium                   110\n",
       "Warnowia                      31\n",
       "centric 10 temp                5\n",
       "centric 4 temp                46\n",
       "chain<centric                 31\n",
       "t004                          12\n",
       "t006                          48\n",
       "t009                          70\n",
       "t016                          75\n",
       "t017                          26\n",
       "t020                           4\n",
       "Name: object_id, dtype: int64"
      ]
     },
     "execution_count": 7,
     "metadata": {},
     "output_type": "execute_result"
    }
   ],
   "source": [
    "# For now only using validated images\n",
    "#img_md_subset = img_md_subset[img_md_subset.object_annotation_status == 'validated']\n",
    "\n",
    "rare_count = 125\n",
    "\n",
    "unique_validated = img_md_subset[img_md_subset.object_annotation_status == 'validated'].groupby('object_annotation_category')['object_id'].nunique()\n",
    "\n",
    "rare_classes = unique_validated[unique_validated <= rare_count]\n",
    "\n",
    "#val_img_subset = val_img_subset[val_img_subset['object_annotation_category'].isin(list(rare_classes.index))]\n",
    "rare_classes"
   ]
  },
  {
   "cell_type": "code",
   "execution_count": 8,
   "metadata": {},
   "outputs": [
    {
     "data": {
      "text/plain": [
       "Index(['object_id', 'object_lat', 'object_lon', 'object_date', 'object_time',\n",
       "       'object_link', 'object_depth_min', 'object_depth_max',\n",
       "       'object_annotation_status', 'object_annotation_person_name',\n",
       "       ...\n",
       "       'process_soft_version', 'process_script', 'process_script_version',\n",
       "       'process_library', 'process_library_version', 'process_date',\n",
       "       'process_time', 'acq_id', 'acq_instrument',\n",
       "       'acq_resolution_pixels_per_micron'],\n",
       "      dtype='object', length=280)"
      ]
     },
     "execution_count": 8,
     "metadata": {},
     "output_type": "execute_result"
    }
   ],
   "source": [
    "img_md_subset.columns"
   ]
  },
  {
   "cell_type": "code",
   "execution_count": 9,
   "metadata": {},
   "outputs": [
    {
     "name": "stderr",
     "output_type": "stream",
     "text": [
      "Using TensorFlow backend.\n"
     ]
    },
    {
     "data": {
      "text/plain": [
       "['/job:localhost/replica:0/task:0/device:GPU:0']"
      ]
     },
     "execution_count": 9,
     "metadata": {},
     "output_type": "execute_result"
    }
   ],
   "source": [
    "from keras import backend as K\n",
    "K.tensorflow_backend._get_available_gpus()"
   ]
  },
  {
   "cell_type": "code",
   "execution_count": 10,
   "metadata": {},
   "outputs": [
    {
     "name": "stdout",
     "output_type": "stream",
     "text": [
      "1976948\n"
     ]
    },
    {
     "data": {
      "text/plain": [
       "1977145"
      ]
     },
     "execution_count": 10,
     "metadata": {},
     "output_type": "execute_result"
    }
   ],
   "source": [
    "import glob, os\n",
    "\n",
    "file_dir = '../../../Data/140920_export/'\n",
    "\n",
    "os.chdir(file_dir)\n",
    "fn_list = []\n",
    "for file in glob.glob(\"*.png\"):\n",
    "    fn_list.append(file)\n",
    "    \n",
    "print(len(fn_list))\n",
    "\n",
    "fn_edit = [x[:-4] for x in fn_list]\n",
    "\n",
    "available_subset = img_md_subset[img_md_subset['object_id'].isin(fn_edit)]\n",
    "len(available_subset)"
   ]
  },
  {
   "cell_type": "code",
   "execution_count": 11,
   "metadata": {},
   "outputs": [
    {
     "data": {
      "text/plain": [
       "0.017632632"
      ]
     },
     "execution_count": 11,
     "metadata": {},
     "output_type": "execute_result"
    }
   ],
   "source": [
    "import sys\n",
    " \n",
    "sys.getsizeof(fn_edit) / 1e9"
   ]
  },
  {
   "cell_type": "code",
   "execution_count": 12,
   "metadata": {},
   "outputs": [],
   "source": [
    "del fn_edit"
   ]
  },
  {
   "cell_type": "code",
   "execution_count": 13,
   "metadata": {},
   "outputs": [],
   "source": [
    "del img_md_subset"
   ]
  },
  {
   "cell_type": "code",
   "execution_count": 14,
   "metadata": {},
   "outputs": [],
   "source": [
    "class_id_dict = {'Amphiprora': 0,\n",
    " 'Bacillariophyceae': 1,\n",
    " 'Banquisia belgicae': 2,\n",
    " 'Ceratium': 3,\n",
    " 'Chaetoceros single': 4,\n",
    " 'Chaetoceros<Mediophyceae': 5,\n",
    " 'Ciliophora': 6,\n",
    " 'Corethron': 7,\n",
    " 'Cryptophyta': 8,\n",
    " 'Cylindrotheca': 9,\n",
    " 'Dactyliosolen': 10,\n",
    " 'Dictyochales': 11,\n",
    " 'Dinophyceae': 12,\n",
    " 'Dinophysis': 13,\n",
    " 'Eucampia': 14,\n",
    " 'Eucampia chain': 15,\n",
    " 'Guinardia': 16,\n",
    " 'Gymnodinium': 17,\n",
    " 'Gyrodinium': 18,\n",
    " 'Katodinium': 19,\n",
    " 'Licmophora': 20,\n",
    " 'Membraneis': 21,\n",
    " 'Navicula': 22,\n",
    " 'Nitzschia frigida': 23,\n",
    " 'Odontella sp.': 24,\n",
    " 'Phaeocystis': 25,\n",
    " 'Proboscia sp.': 26,\n",
    " 'Pseudo-Nitzschia chain': 27,\n",
    " 'Pyramimonas': 28,\n",
    " 'Rhizosolenia': 29,\n",
    " 'Thalassiosira': 30,\n",
    " 'Tintinnida': 31,\n",
    " 'Torodinium': 32,\n",
    " 'Warnowia': 33,\n",
    " 'badfocus<artefact': 34,\n",
    " 'bead': 35,\n",
    " 'bubble': 36,\n",
    " 'centric': 37,\n",
    " 'centric 1 temp': 38,\n",
    " 'centric 2 temp': 39,\n",
    " 'centric 3 temp': 40,\n",
    " 'centric 4 temp': 41,\n",
    " 'centric 6 temp': 42,\n",
    " 'chain<centric': 43,\n",
    " 'chain<pennate': 44,\n",
    " 'detritus': 45,\n",
    " 'dinoflagellate-i': 46,\n",
    " 'dinoflagellate-ii': 47,\n",
    " 'dinoflagellate-iii': 48,\n",
    " 'multiple<other': 49,\n",
    " 'part<other': 50,\n",
    " 'pennate 10 temp': 51,\n",
    " 'pennate 11 temp': 52,\n",
    " 'pennate 2 temp': 53,\n",
    " 'pennate 7 temp': 54,\n",
    " 'pennate<Bacillariophyta': 55,\n",
    " 't002': 56,\n",
    " 't003': 57,\n",
    " 't005': 58,\n",
    " 't006': 59,\n",
    " 't007': 60,\n",
    " 't008': 61,\n",
    " 't009': 62,\n",
    " 't010': 63,\n",
    " 't011': 64,\n",
    " 't012': 65,\n",
    " 't013': 66,\n",
    " 't016': 67,\n",
    " 't017': 68,\n",
    " 't019': 69,\n",
    " 'temp cylindrotheca': 70}\n",
    "\n",
    "id_class_dict = dict((v,k) for k,v in class_id_dict.items())"
   ]
  },
  {
   "cell_type": "code",
   "execution_count": 15,
   "metadata": {},
   "outputs": [
    {
     "data": {
      "text/plain": [
       "71"
      ]
     },
     "execution_count": 15,
     "metadata": {},
     "output_type": "execute_result"
    }
   ],
   "source": [
    "len(class_id_dict)"
   ]
  },
  {
   "cell_type": "code",
   "execution_count": 16,
   "metadata": {},
   "outputs": [
    {
     "data": {
      "text/plain": [
       "98857"
      ]
     },
     "execution_count": 16,
     "metadata": {},
     "output_type": "execute_result"
    }
   ],
   "source": [
    "frac = 0.05\n",
    "int(len(available_subset) * frac)"
   ]
  },
  {
   "cell_type": "code",
   "execution_count": 17,
   "metadata": {},
   "outputs": [
    {
     "data": {
      "text/plain": [
       "4.44462196"
      ]
     },
     "execution_count": 17,
     "metadata": {},
     "output_type": "execute_result"
    }
   ],
   "source": [
    "available_subset.memory_usage(index=True).sum() / 1e9"
   ]
  },
  {
   "cell_type": "code",
   "execution_count": 18,
   "metadata": {},
   "outputs": [
    {
     "data": {
      "text/plain": [
       "1977145"
      ]
     },
     "execution_count": 18,
     "metadata": {},
     "output_type": "execute_result"
    }
   ],
   "source": [
    "len(available_subset)"
   ]
  },
  {
   "cell_type": "code",
   "execution_count": 19,
   "metadata": {},
   "outputs": [],
   "source": [
    "#prediction_subset = available_subset.sample(frac=frac)\n",
    "prediction_subset = available_subset[:1900000]"
   ]
  },
  {
   "cell_type": "code",
   "execution_count": 20,
   "metadata": {},
   "outputs": [],
   "source": [
    "del available_subset"
   ]
  },
  {
   "cell_type": "code",
   "execution_count": 21,
   "metadata": {},
   "outputs": [
    {
     "data": {
      "text/html": [
       "<div>\n",
       "<style scoped>\n",
       "    .dataframe tbody tr th:only-of-type {\n",
       "        vertical-align: middle;\n",
       "    }\n",
       "\n",
       "    .dataframe tbody tr th {\n",
       "        vertical-align: top;\n",
       "    }\n",
       "\n",
       "    .dataframe thead th {\n",
       "        text-align: right;\n",
       "    }\n",
       "</style>\n",
       "<table border=\"1\" class=\"dataframe\">\n",
       "  <thead>\n",
       "    <tr style=\"text-align: right;\">\n",
       "      <th></th>\n",
       "      <th>object_id</th>\n",
       "      <th>object_lat</th>\n",
       "      <th>object_lon</th>\n",
       "      <th>object_date</th>\n",
       "      <th>object_time</th>\n",
       "      <th>object_link</th>\n",
       "      <th>object_depth_min</th>\n",
       "      <th>object_depth_max</th>\n",
       "      <th>object_annotation_status</th>\n",
       "      <th>object_annotation_person_name</th>\n",
       "      <th>...</th>\n",
       "      <th>process_soft_version</th>\n",
       "      <th>process_script</th>\n",
       "      <th>process_script_version</th>\n",
       "      <th>process_library</th>\n",
       "      <th>process_library_version</th>\n",
       "      <th>process_date</th>\n",
       "      <th>process_time</th>\n",
       "      <th>acq_id</th>\n",
       "      <th>acq_instrument</th>\n",
       "      <th>acq_resolution_pixels_per_micron</th>\n",
       "    </tr>\n",
       "  </thead>\n",
       "  <tbody>\n",
       "    <tr>\n",
       "      <th>0</th>\n",
       "      <td>D20180221T193119_IFCB116_01153</td>\n",
       "      <td>-64.7535</td>\n",
       "      <td>-64.1339</td>\n",
       "      <td>20180221</td>\n",
       "      <td>193119</td>\n",
       "      <td>NaN</td>\n",
       "      <td>5.0</td>\n",
       "      <td>5.0</td>\n",
       "      <td>validated</td>\n",
       "      <td>Schuyler Nardelli</td>\n",
       "      <td>...</td>\n",
       "      <td>R2016a</td>\n",
       "      <td>easyIFCB</td>\n",
       "      <td>a4aa03a38c9f40d1b8fd282ef7ede108607d2d82</td>\n",
       "      <td>ifcb-analysis</td>\n",
       "      <td>e9e37998a8bb8caf587b19418202b650ba0b99f2</td>\n",
       "      <td>YYYYMMDD</td>\n",
       "      <td>HHMMSS</td>\n",
       "      <td>IFCB116</td>\n",
       "      <td>IFCB</td>\n",
       "      <td>3.4</td>\n",
       "    </tr>\n",
       "    <tr>\n",
       "      <th>1</th>\n",
       "      <td>D20180221T202431_IFCB116_00153</td>\n",
       "      <td>-64.7741</td>\n",
       "      <td>-64.1655</td>\n",
       "      <td>20180221</td>\n",
       "      <td>202431</td>\n",
       "      <td>NaN</td>\n",
       "      <td>5.0</td>\n",
       "      <td>5.0</td>\n",
       "      <td>validated</td>\n",
       "      <td>Schuyler Nardelli</td>\n",
       "      <td>...</td>\n",
       "      <td>R2016a</td>\n",
       "      <td>easyIFCB</td>\n",
       "      <td>a4aa03a38c9f40d1b8fd282ef7ede108607d2d82</td>\n",
       "      <td>ifcb-analysis</td>\n",
       "      <td>e9e37998a8bb8caf587b19418202b650ba0b99f2</td>\n",
       "      <td>YYYYMMDD</td>\n",
       "      <td>HHMMSS</td>\n",
       "      <td>IFCB116</td>\n",
       "      <td>IFCB</td>\n",
       "      <td>3.4</td>\n",
       "    </tr>\n",
       "    <tr>\n",
       "      <th>2</th>\n",
       "      <td>D20180221T202431_IFCB116_01303</td>\n",
       "      <td>-64.7741</td>\n",
       "      <td>-64.1655</td>\n",
       "      <td>20180221</td>\n",
       "      <td>202431</td>\n",
       "      <td>NaN</td>\n",
       "      <td>5.0</td>\n",
       "      <td>5.0</td>\n",
       "      <td>validated</td>\n",
       "      <td>Schuyler Nardelli</td>\n",
       "      <td>...</td>\n",
       "      <td>R2016a</td>\n",
       "      <td>easyIFCB</td>\n",
       "      <td>a4aa03a38c9f40d1b8fd282ef7ede108607d2d82</td>\n",
       "      <td>ifcb-analysis</td>\n",
       "      <td>e9e37998a8bb8caf587b19418202b650ba0b99f2</td>\n",
       "      <td>YYYYMMDD</td>\n",
       "      <td>HHMMSS</td>\n",
       "      <td>IFCB116</td>\n",
       "      <td>IFCB</td>\n",
       "      <td>3.4</td>\n",
       "    </tr>\n",
       "    <tr>\n",
       "      <th>3</th>\n",
       "      <td>D20180221T202431_IFCB116_03008</td>\n",
       "      <td>-64.7741</td>\n",
       "      <td>-64.1655</td>\n",
       "      <td>20180221</td>\n",
       "      <td>202431</td>\n",
       "      <td>NaN</td>\n",
       "      <td>5.0</td>\n",
       "      <td>5.0</td>\n",
       "      <td>validated</td>\n",
       "      <td>Schuyler Nardelli</td>\n",
       "      <td>...</td>\n",
       "      <td>R2016a</td>\n",
       "      <td>easyIFCB</td>\n",
       "      <td>a4aa03a38c9f40d1b8fd282ef7ede108607d2d82</td>\n",
       "      <td>ifcb-analysis</td>\n",
       "      <td>e9e37998a8bb8caf587b19418202b650ba0b99f2</td>\n",
       "      <td>YYYYMMDD</td>\n",
       "      <td>HHMMSS</td>\n",
       "      <td>IFCB116</td>\n",
       "      <td>IFCB</td>\n",
       "      <td>3.4</td>\n",
       "    </tr>\n",
       "    <tr>\n",
       "      <th>4</th>\n",
       "      <td>D20180221T212254_IFCB116_07034</td>\n",
       "      <td>-64.7802</td>\n",
       "      <td>-63.9785</td>\n",
       "      <td>20180221</td>\n",
       "      <td>212254</td>\n",
       "      <td>NaN</td>\n",
       "      <td>5.0</td>\n",
       "      <td>5.0</td>\n",
       "      <td>validated</td>\n",
       "      <td>Schuyler Nardelli</td>\n",
       "      <td>...</td>\n",
       "      <td>R2016a</td>\n",
       "      <td>easyIFCB</td>\n",
       "      <td>a4aa03a38c9f40d1b8fd282ef7ede108607d2d82</td>\n",
       "      <td>ifcb-analysis</td>\n",
       "      <td>e9e37998a8bb8caf587b19418202b650ba0b99f2</td>\n",
       "      <td>YYYYMMDD</td>\n",
       "      <td>HHMMSS</td>\n",
       "      <td>IFCB116</td>\n",
       "      <td>IFCB</td>\n",
       "      <td>3.4</td>\n",
       "    </tr>\n",
       "  </tbody>\n",
       "</table>\n",
       "<p>5 rows × 280 columns</p>\n",
       "</div>"
      ],
      "text/plain": [
       "                        object_id  object_lat  object_lon  object_date  \\\n",
       "0  D20180221T193119_IFCB116_01153    -64.7535    -64.1339     20180221   \n",
       "1  D20180221T202431_IFCB116_00153    -64.7741    -64.1655     20180221   \n",
       "2  D20180221T202431_IFCB116_01303    -64.7741    -64.1655     20180221   \n",
       "3  D20180221T202431_IFCB116_03008    -64.7741    -64.1655     20180221   \n",
       "4  D20180221T212254_IFCB116_07034    -64.7802    -63.9785     20180221   \n",
       "\n",
       "   object_time object_link  object_depth_min  object_depth_max  \\\n",
       "0       193119         NaN               5.0               5.0   \n",
       "1       202431         NaN               5.0               5.0   \n",
       "2       202431         NaN               5.0               5.0   \n",
       "3       202431         NaN               5.0               5.0   \n",
       "4       212254         NaN               5.0               5.0   \n",
       "\n",
       "  object_annotation_status object_annotation_person_name  \\\n",
       "0                validated             Schuyler Nardelli   \n",
       "1                validated             Schuyler Nardelli   \n",
       "2                validated             Schuyler Nardelli   \n",
       "3                validated             Schuyler Nardelli   \n",
       "4                validated             Schuyler Nardelli   \n",
       "\n",
       "                 ...                process_soft_version  process_script  \\\n",
       "0                ...                              R2016a        easyIFCB   \n",
       "1                ...                              R2016a        easyIFCB   \n",
       "2                ...                              R2016a        easyIFCB   \n",
       "3                ...                              R2016a        easyIFCB   \n",
       "4                ...                              R2016a        easyIFCB   \n",
       "\n",
       "                     process_script_version process_library  \\\n",
       "0  a4aa03a38c9f40d1b8fd282ef7ede108607d2d82   ifcb-analysis   \n",
       "1  a4aa03a38c9f40d1b8fd282ef7ede108607d2d82   ifcb-analysis   \n",
       "2  a4aa03a38c9f40d1b8fd282ef7ede108607d2d82   ifcb-analysis   \n",
       "3  a4aa03a38c9f40d1b8fd282ef7ede108607d2d82   ifcb-analysis   \n",
       "4  a4aa03a38c9f40d1b8fd282ef7ede108607d2d82   ifcb-analysis   \n",
       "\n",
       "                    process_library_version  process_date  process_time  \\\n",
       "0  e9e37998a8bb8caf587b19418202b650ba0b99f2      YYYYMMDD        HHMMSS   \n",
       "1  e9e37998a8bb8caf587b19418202b650ba0b99f2      YYYYMMDD        HHMMSS   \n",
       "2  e9e37998a8bb8caf587b19418202b650ba0b99f2      YYYYMMDD        HHMMSS   \n",
       "3  e9e37998a8bb8caf587b19418202b650ba0b99f2      YYYYMMDD        HHMMSS   \n",
       "4  e9e37998a8bb8caf587b19418202b650ba0b99f2      YYYYMMDD        HHMMSS   \n",
       "\n",
       "    acq_id  acq_instrument  acq_resolution_pixels_per_micron  \n",
       "0  IFCB116            IFCB                               3.4  \n",
       "1  IFCB116            IFCB                               3.4  \n",
       "2  IFCB116            IFCB                               3.4  \n",
       "3  IFCB116            IFCB                               3.4  \n",
       "4  IFCB116            IFCB                               3.4  \n",
       "\n",
       "[5 rows x 280 columns]"
      ]
     },
     "execution_count": 21,
     "metadata": {},
     "output_type": "execute_result"
    }
   ],
   "source": [
    "prediction_subset.head()"
   ]
  },
  {
   "cell_type": "code",
   "execution_count": 22,
   "metadata": {},
   "outputs": [
    {
     "data": {
      "text/plain": [
       "1900000"
      ]
     },
     "execution_count": 22,
     "metadata": {},
     "output_type": "execute_result"
    }
   ],
   "source": [
    "len(prediction_subset)"
   ]
  },
  {
   "cell_type": "code",
   "execution_count": 23,
   "metadata": {},
   "outputs": [],
   "source": [
    "from tensorflow import keras\n",
    "\n",
    "model = keras.models.load_model('../model_weights_all_classes_flu.hdf5')"
   ]
  },
  {
   "cell_type": "code",
   "execution_count": 24,
   "metadata": {},
   "outputs": [],
   "source": [
    "from tensorflow.keras.preprocessing import image\n",
    "import numpy as np\n",
    "\n",
    "def generate_data(available_subset, batch_size):\n",
    "    \"\"\"Replaces Keras' native ImageDataGenerator.\"\"\"\n",
    "    i = 0\n",
    "    while True:\n",
    "        images = []\n",
    "        labels = []\n",
    "        merged_labels = []\n",
    "        original_labels = []\n",
    "        flu_data = []\n",
    "        \n",
    "        for b in range(batch_size):\n",
    "            if i >= len(available_subset):\n",
    "                i=0\n",
    "            row = available_subset.iloc[i]\n",
    "            i+=1\n",
    "            \n",
    "            img = image.load_img(row['object_id']+'.png', target_size=(150, 150), color_mode=\"grayscale\")\n",
    "            images.append(image.img_to_array(img))\n",
    "            #labels.append(class_id_dict[row['merged_category']])\n",
    "            #merged_labels.append(row['merged_category'])\n",
    "            original_labels.append(row['object_annotation_category'])\n",
    "            flu_data.append([row['object_pmt_fluorescence'], row['object_peak_fluorescence']])\n",
    "        \n",
    "        image_batch = np.array(images) / 130\n",
    "        flu_batch = np.array(flu_data)\n",
    "        \n",
    "        \n",
    "        yield [image_batch, flu_batch]"
   ]
  },
  {
   "cell_type": "code",
   "execution_count": 25,
   "metadata": {},
   "outputs": [
    {
     "data": {
      "text/plain": [
       "1900.0"
      ]
     },
     "execution_count": 25,
     "metadata": {},
     "output_type": "execute_result"
    }
   ],
   "source": [
    "1900000 / 1000"
   ]
  },
  {
   "cell_type": "code",
   "execution_count": 26,
   "metadata": {},
   "outputs": [
    {
     "name": "stdout",
     "output_type": "stream",
     "text": [
      "1900/1900 [==============================] - 1924s 1s/step\n"
     ]
    }
   ],
   "source": [
    "predict_prob = model.predict_generator(generator = generate_data(prediction_subset,batch_size=1000), steps=1900, verbose=1)\n",
    "#predict_prob = model.predict([X_predict, flu_data])"
   ]
  },
  {
   "cell_type": "code",
   "execution_count": 27,
   "metadata": {},
   "outputs": [
    {
     "data": {
      "text/plain": [
       "(1900000, 71)"
      ]
     },
     "execution_count": 27,
     "metadata": {},
     "output_type": "execute_result"
    }
   ],
   "source": [
    "predict_prob.shape"
   ]
  },
  {
   "cell_type": "code",
   "execution_count": 28,
   "metadata": {},
   "outputs": [],
   "source": [
    "predictions = np.argmax(predict_prob, axis=1)"
   ]
  },
  {
   "cell_type": "code",
   "execution_count": 29,
   "metadata": {},
   "outputs": [],
   "source": [
    "predict_prob_values = []\n",
    "for i in range(len(predictions)):\n",
    "    predict_prob_values.append(predict_prob[i][predictions[i]])"
   ]
  },
  {
   "cell_type": "code",
   "execution_count": 30,
   "metadata": {},
   "outputs": [
    {
     "data": {
      "text/plain": [
       "(0.88645464, 0.16983992)"
      ]
     },
     "execution_count": 30,
     "metadata": {},
     "output_type": "execute_result"
    }
   ],
   "source": [
    "np.mean(predict_prob_values), np.std(predict_prob_values)"
   ]
  },
  {
   "cell_type": "code",
   "execution_count": 31,
   "metadata": {},
   "outputs": [],
   "source": [
    "prediction_subset['image_file_name'] = prediction_subset['object_id'] + '.png'"
   ]
  },
  {
   "cell_type": "code",
   "execution_count": 32,
   "metadata": {},
   "outputs": [],
   "source": [
    "prediction_subset['object_annotation_category'] = [id_class_dict[x] for x in predictions]"
   ]
  },
  {
   "cell_type": "code",
   "execution_count": 33,
   "metadata": {
    "scrolled": true
   },
   "outputs": [],
   "source": [
    "prediction_subset['object_score'] = predict_prob_values"
   ]
  },
  {
   "cell_type": "code",
   "execution_count": 34,
   "metadata": {},
   "outputs": [],
   "source": [
    "prediction_subset['object_annotation_status'] = 'Predicted'"
   ]
  },
  {
   "cell_type": "code",
   "execution_count": 35,
   "metadata": {},
   "outputs": [],
   "source": [
    "prediction_subset = prediction_subset[['object_id','object_annotation_status','object_annotation_category','sample_flag','object_lat','object_lon','image_file_name','object_score']]"
   ]
  },
  {
   "cell_type": "code",
   "execution_count": 36,
   "metadata": {},
   "outputs": [
    {
     "data": {
      "text/plain": [
       "1900000"
      ]
     },
     "execution_count": 36,
     "metadata": {},
     "output_type": "execute_result"
    }
   ],
   "source": [
    "len(prediction_subset)"
   ]
  },
  {
   "cell_type": "code",
   "execution_count": 37,
   "metadata": {},
   "outputs": [
    {
     "data": {
      "text/html": [
       "<div>\n",
       "<style scoped>\n",
       "    .dataframe tbody tr th:only-of-type {\n",
       "        vertical-align: middle;\n",
       "    }\n",
       "\n",
       "    .dataframe tbody tr th {\n",
       "        vertical-align: top;\n",
       "    }\n",
       "\n",
       "    .dataframe thead th {\n",
       "        text-align: right;\n",
       "    }\n",
       "</style>\n",
       "<table border=\"1\" class=\"dataframe\">\n",
       "  <thead>\n",
       "    <tr style=\"text-align: right;\">\n",
       "      <th></th>\n",
       "      <th>object_id</th>\n",
       "      <th>object_annotation_status</th>\n",
       "      <th>object_annotation_category</th>\n",
       "      <th>sample_flag</th>\n",
       "      <th>object_lat</th>\n",
       "      <th>object_lon</th>\n",
       "      <th>image_file_name</th>\n",
       "      <th>object_score</th>\n",
       "    </tr>\n",
       "  </thead>\n",
       "  <tbody>\n",
       "    <tr>\n",
       "      <th>0</th>\n",
       "      <td>D20180221T193119_IFCB116_01153</td>\n",
       "      <td>Predicted</td>\n",
       "      <td>Pyramimonas</td>\n",
       "      <td>good</td>\n",
       "      <td>-64.7535</td>\n",
       "      <td>-64.1339</td>\n",
       "      <td>D20180221T193119_IFCB116_01153.png</td>\n",
       "      <td>0.954375</td>\n",
       "    </tr>\n",
       "    <tr>\n",
       "      <th>1</th>\n",
       "      <td>D20180221T202431_IFCB116_00153</td>\n",
       "      <td>Predicted</td>\n",
       "      <td>Gymnodinium</td>\n",
       "      <td>good</td>\n",
       "      <td>-64.7741</td>\n",
       "      <td>-64.1655</td>\n",
       "      <td>D20180221T202431_IFCB116_00153.png</td>\n",
       "      <td>0.999927</td>\n",
       "    </tr>\n",
       "    <tr>\n",
       "      <th>2</th>\n",
       "      <td>D20180221T202431_IFCB116_01303</td>\n",
       "      <td>Predicted</td>\n",
       "      <td>Gymnodinium</td>\n",
       "      <td>good</td>\n",
       "      <td>-64.7741</td>\n",
       "      <td>-64.1655</td>\n",
       "      <td>D20180221T202431_IFCB116_01303.png</td>\n",
       "      <td>0.999307</td>\n",
       "    </tr>\n",
       "    <tr>\n",
       "      <th>3</th>\n",
       "      <td>D20180221T202431_IFCB116_03008</td>\n",
       "      <td>Predicted</td>\n",
       "      <td>Katodinium</td>\n",
       "      <td>good</td>\n",
       "      <td>-64.7741</td>\n",
       "      <td>-64.1655</td>\n",
       "      <td>D20180221T202431_IFCB116_03008.png</td>\n",
       "      <td>0.999095</td>\n",
       "    </tr>\n",
       "    <tr>\n",
       "      <th>4</th>\n",
       "      <td>D20180221T212254_IFCB116_07034</td>\n",
       "      <td>Predicted</td>\n",
       "      <td>t012</td>\n",
       "      <td>good</td>\n",
       "      <td>-64.7802</td>\n",
       "      <td>-63.9785</td>\n",
       "      <td>D20180221T212254_IFCB116_07034.png</td>\n",
       "      <td>0.419310</td>\n",
       "    </tr>\n",
       "  </tbody>\n",
       "</table>\n",
       "</div>"
      ],
      "text/plain": [
       "                        object_id object_annotation_status  \\\n",
       "0  D20180221T193119_IFCB116_01153                Predicted   \n",
       "1  D20180221T202431_IFCB116_00153                Predicted   \n",
       "2  D20180221T202431_IFCB116_01303                Predicted   \n",
       "3  D20180221T202431_IFCB116_03008                Predicted   \n",
       "4  D20180221T212254_IFCB116_07034                Predicted   \n",
       "\n",
       "  object_annotation_category sample_flag  object_lat  object_lon  \\\n",
       "0                Pyramimonas        good    -64.7535    -64.1339   \n",
       "1                Gymnodinium        good    -64.7741    -64.1655   \n",
       "2                Gymnodinium        good    -64.7741    -64.1655   \n",
       "3                 Katodinium        good    -64.7741    -64.1655   \n",
       "4                       t012        good    -64.7802    -63.9785   \n",
       "\n",
       "                      image_file_name  object_score  \n",
       "0  D20180221T193119_IFCB116_01153.png      0.954375  \n",
       "1  D20180221T202431_IFCB116_00153.png      0.999927  \n",
       "2  D20180221T202431_IFCB116_01303.png      0.999307  \n",
       "3  D20180221T202431_IFCB116_03008.png      0.999095  \n",
       "4  D20180221T212254_IFCB116_07034.png      0.419310  "
      ]
     },
     "execution_count": 37,
     "metadata": {},
     "output_type": "execute_result"
    }
   ],
   "source": [
    "prediction_subset.head()"
   ]
  },
  {
   "cell_type": "code",
   "execution_count": 38,
   "metadata": {},
   "outputs": [
    {
     "data": {
      "text/plain": [
       "(array([ 0,  1,  2,  3,  4,  5,  6,  7,  8,  9, 10, 11, 12, 13, 14, 15, 16,\n",
       "        17, 18, 19, 20, 21, 22, 23, 24, 25, 26, 27, 28, 29, 30, 31, 32, 33,\n",
       "        34, 35, 36, 37, 38, 39, 40, 41, 42, 43, 44, 45, 46, 47, 48, 49, 50,\n",
       "        51, 52, 53, 54, 55, 56, 57, 58, 59, 60, 61, 62, 63, 64, 65, 66, 67,\n",
       "        68, 69, 70]),\n",
       " array([  3342,  29316,     65,    236,   3562,   4099,   2883,   2493,\n",
       "         89240,   5776,   2990,   2544,  14319,     36,    166,     81,\n",
       "           675,  12441,    161,   1805,    489,    354,   1938,  26390,\n",
       "            74,   3270,   1177,   6176,  67623,    215,   2603,     86,\n",
       "           410,     64, 170644,  18464,   4253,   8596,   2608,  13393,\n",
       "          3285,    353,   1560,     41,   1986,  36191,   8038,  14194,\n",
       "           276,   6271,   4326,   4408,   3094,  84511,   1300,   2216,\n",
       "        485166, 164551,    392,    404,  14357, 176430,    618, 111044,\n",
       "        128263,  90094,   3868,   3154,   1208,   5362,  37982]))"
      ]
     },
     "execution_count": 38,
     "metadata": {},
     "output_type": "execute_result"
    }
   ],
   "source": [
    "classes, counts = np.unique(predictions, return_counts=True)\n",
    "classes, counts"
   ]
  },
  {
   "cell_type": "code",
   "execution_count": 39,
   "metadata": {},
   "outputs": [],
   "source": [
    "# go through the final predictions and find images where there are less than 150 validated and only include those in the final\n",
    "\n",
    "# then only get ~300 of those maximum"
   ]
  },
  {
   "cell_type": "code",
   "execution_count": 40,
   "metadata": {},
   "outputs": [
    {
     "data": {
      "text/plain": [
       "Index(['Asteromphalus', 'Banquisia belgicae', 'Cocconeis', 'Crustacea',\n",
       "       'Dinophysis', 'Diplopsalis<Dinophyceae X', 'Eucampia', 'Eucampia chain',\n",
       "       'Gyrodinium', 'Licmophora', 'Membraneis chain', 'Odontella sp.',\n",
       "       'Pleurosigma', 'Rhizosolenia', 'Tintinnida', 'Torodinium', 'Warnowia',\n",
       "       'centric 10 temp', 'centric 4 temp', 'chain<centric', 't004', 't006',\n",
       "       't009', 't016', 't017', 't020'],\n",
       "      dtype='object', name='object_annotation_category')"
      ]
     },
     "execution_count": 40,
     "metadata": {},
     "output_type": "execute_result"
    }
   ],
   "source": [
    "rare_classes.index"
   ]
  },
  {
   "cell_type": "code",
   "execution_count": 41,
   "metadata": {},
   "outputs": [],
   "source": [
    "rare_prediction_subset = prediction_subset[prediction_subset['object_annotation_category'].isin(list(rare_classes.index))]"
   ]
  },
  {
   "cell_type": "code",
   "execution_count": 42,
   "metadata": {},
   "outputs": [
    {
     "data": {
      "text/html": [
       "<div>\n",
       "<style scoped>\n",
       "    .dataframe tbody tr th:only-of-type {\n",
       "        vertical-align: middle;\n",
       "    }\n",
       "\n",
       "    .dataframe tbody tr th {\n",
       "        vertical-align: top;\n",
       "    }\n",
       "\n",
       "    .dataframe thead th {\n",
       "        text-align: right;\n",
       "    }\n",
       "</style>\n",
       "<table border=\"1\" class=\"dataframe\">\n",
       "  <thead>\n",
       "    <tr style=\"text-align: right;\">\n",
       "      <th></th>\n",
       "      <th>object_id</th>\n",
       "      <th>object_annotation_status</th>\n",
       "      <th>object_annotation_category</th>\n",
       "      <th>sample_flag</th>\n",
       "      <th>object_lat</th>\n",
       "      <th>object_lon</th>\n",
       "      <th>image_file_name</th>\n",
       "      <th>object_score</th>\n",
       "    </tr>\n",
       "  </thead>\n",
       "  <tbody>\n",
       "    <tr>\n",
       "      <th>14</th>\n",
       "      <td>D20180221T212254_IFCB116_00164</td>\n",
       "      <td>Predicted</td>\n",
       "      <td>centric 4 temp</td>\n",
       "      <td>good</td>\n",
       "      <td>-64.7802</td>\n",
       "      <td>-63.9785</td>\n",
       "      <td>D20180221T212254_IFCB116_00164.png</td>\n",
       "      <td>0.995498</td>\n",
       "    </tr>\n",
       "    <tr>\n",
       "      <th>17</th>\n",
       "      <td>D20180221T224418_IFCB116_01718</td>\n",
       "      <td>Predicted</td>\n",
       "      <td>Licmophora</td>\n",
       "      <td>questionnable</td>\n",
       "      <td>-64.7980</td>\n",
       "      <td>-63.9793</td>\n",
       "      <td>D20180221T224418_IFCB116_01718.png</td>\n",
       "      <td>0.999981</td>\n",
       "    </tr>\n",
       "    <tr>\n",
       "      <th>35</th>\n",
       "      <td>D20180228T184713_IFCB116_00856</td>\n",
       "      <td>Predicted</td>\n",
       "      <td>Gyrodinium</td>\n",
       "      <td>good</td>\n",
       "      <td>-64.7356</td>\n",
       "      <td>-64.1037</td>\n",
       "      <td>D20180228T184713_IFCB116_00856.png</td>\n",
       "      <td>0.775528</td>\n",
       "    </tr>\n",
       "    <tr>\n",
       "      <th>40</th>\n",
       "      <td>D20180228T193956_IFCB116_00105</td>\n",
       "      <td>Predicted</td>\n",
       "      <td>Tintinnida</td>\n",
       "      <td>good</td>\n",
       "      <td>-64.7356</td>\n",
       "      <td>-64.1037</td>\n",
       "      <td>D20180228T193956_IFCB116_00105.png</td>\n",
       "      <td>0.999988</td>\n",
       "    </tr>\n",
       "    <tr>\n",
       "      <th>41</th>\n",
       "      <td>D20180228T193956_IFCB116_02715</td>\n",
       "      <td>Predicted</td>\n",
       "      <td>centric 4 temp</td>\n",
       "      <td>good</td>\n",
       "      <td>-64.7356</td>\n",
       "      <td>-64.1037</td>\n",
       "      <td>D20180228T193956_IFCB116_02715.png</td>\n",
       "      <td>0.959738</td>\n",
       "    </tr>\n",
       "  </tbody>\n",
       "</table>\n",
       "</div>"
      ],
      "text/plain": [
       "                         object_id object_annotation_status  \\\n",
       "14  D20180221T212254_IFCB116_00164                Predicted   \n",
       "17  D20180221T224418_IFCB116_01718                Predicted   \n",
       "35  D20180228T184713_IFCB116_00856                Predicted   \n",
       "40  D20180228T193956_IFCB116_00105                Predicted   \n",
       "41  D20180228T193956_IFCB116_02715                Predicted   \n",
       "\n",
       "   object_annotation_category    sample_flag  object_lat  object_lon  \\\n",
       "14             centric 4 temp           good    -64.7802    -63.9785   \n",
       "17                 Licmophora  questionnable    -64.7980    -63.9793   \n",
       "35                 Gyrodinium           good    -64.7356    -64.1037   \n",
       "40                 Tintinnida           good    -64.7356    -64.1037   \n",
       "41             centric 4 temp           good    -64.7356    -64.1037   \n",
       "\n",
       "                       image_file_name  object_score  \n",
       "14  D20180221T212254_IFCB116_00164.png      0.995498  \n",
       "17  D20180221T224418_IFCB116_01718.png      0.999981  \n",
       "35  D20180228T184713_IFCB116_00856.png      0.775528  \n",
       "40  D20180228T193956_IFCB116_00105.png      0.999988  \n",
       "41  D20180228T193956_IFCB116_02715.png      0.959738  "
      ]
     },
     "execution_count": 42,
     "metadata": {},
     "output_type": "execute_result"
    }
   ],
   "source": [
    "rare_prediction_subset.head()"
   ]
  },
  {
   "cell_type": "code",
   "execution_count": 50,
   "metadata": {},
   "outputs": [
    {
     "data": {
      "text/plain": [
       "object_annotation_category\n",
       "Banquisia belgicae      64\n",
       "Dinophysis              36\n",
       "Eucampia               166\n",
       "Eucampia chain          81\n",
       "Gyrodinium             159\n",
       "Licmophora             484\n",
       "Odontella sp.           74\n",
       "Rhizosolenia           215\n",
       "Tintinnida              86\n",
       "Torodinium             410\n",
       "Warnowia                59\n",
       "centric 4 temp         351\n",
       "chain<centric           41\n",
       "t006                   404\n",
       "t009                   605\n",
       "t016                  3154\n",
       "t017                  1208\n",
       "Name: object_id, dtype: int64"
      ]
     },
     "execution_count": 50,
     "metadata": {},
     "output_type": "execute_result"
    }
   ],
   "source": [
    "prediction_counts = rare_prediction_subset.groupby('object_annotation_category')['object_id'].nunique()\n",
    "prediction_counts"
   ]
  },
  {
   "cell_type": "code",
   "execution_count": null,
   "metadata": {},
   "outputs": [],
   "source": [
    "Asteromphalus                  5\n",
    "Cocconeis                     13\n",
    "Crustacea                      7\n",
    "Diplopsalis<Dinophyceae X     12\n",
    "Membraneis chain               8\n",
    "Pleurosigma                    1\n",
    "centric 10 temp                5\n",
    "t020                           4\n",
    "t004                          12\n",
    "\n",
    "\n",
    "\n",
    "\n",
    "Banquisia belgicae            43\n",
    "\n",
    "Dinophysis                    29\n",
    "\n",
    "Eucampia                     102\n",
    "Eucampia chain                62\n",
    "Gyrodinium                    85\n",
    "Licmophora                    78\n",
    "Odontella sp.                 37\n",
    "Rhizosolenia                  82\n",
    "Tintinnida                    43\n",
    "Torodinium                   110\n",
    "Warnowia                      31\n",
    "centric 4 temp                46\n",
    "chain<centric                 31\n",
    "t006                          48\n",
    "t009                          70\n",
    "t016                          75\n",
    "t017                          26\n"
   ]
  },
  {
   "cell_type": "code",
   "execution_count": 51,
   "metadata": {},
   "outputs": [
    {
     "data": {
      "text/plain": [
       "7625"
      ]
     },
     "execution_count": 51,
     "metadata": {},
     "output_type": "execute_result"
    }
   ],
   "source": [
    "len(rare_prediction_subset)"
   ]
  },
  {
   "cell_type": "code",
   "execution_count": 52,
   "metadata": {},
   "outputs": [],
   "source": [
    "rare_prediction_subset = rare_prediction_subset.sort_values('object_score', ascending=False)"
   ]
  },
  {
   "cell_type": "code",
   "execution_count": 53,
   "metadata": {},
   "outputs": [
    {
     "data": {
      "text/html": [
       "<div>\n",
       "<style scoped>\n",
       "    .dataframe tbody tr th:only-of-type {\n",
       "        vertical-align: middle;\n",
       "    }\n",
       "\n",
       "    .dataframe tbody tr th {\n",
       "        vertical-align: top;\n",
       "    }\n",
       "\n",
       "    .dataframe thead th {\n",
       "        text-align: right;\n",
       "    }\n",
       "</style>\n",
       "<table border=\"1\" class=\"dataframe\">\n",
       "  <thead>\n",
       "    <tr style=\"text-align: right;\">\n",
       "      <th></th>\n",
       "      <th>object_id</th>\n",
       "      <th>object_annotation_status</th>\n",
       "      <th>object_annotation_category</th>\n",
       "      <th>sample_flag</th>\n",
       "      <th>object_lat</th>\n",
       "      <th>object_lon</th>\n",
       "      <th>image_file_name</th>\n",
       "      <th>object_score</th>\n",
       "    </tr>\n",
       "  </thead>\n",
       "  <tbody>\n",
       "    <tr>\n",
       "      <th>1382105</th>\n",
       "      <td>D20180118T064118_IFCB116_01748</td>\n",
       "      <td>Predicted</td>\n",
       "      <td>centric 4 temp</td>\n",
       "      <td>good</td>\n",
       "      <td>-69.2503</td>\n",
       "      <td>-76.1438</td>\n",
       "      <td>D20180118T064118_IFCB116_01748.png</td>\n",
       "      <td>1.0</td>\n",
       "    </tr>\n",
       "    <tr>\n",
       "      <th>1470301</th>\n",
       "      <td>D20180128T012708_IFCB116_00681</td>\n",
       "      <td>Predicted</td>\n",
       "      <td>centric 4 temp</td>\n",
       "      <td>good</td>\n",
       "      <td>-66.5710</td>\n",
       "      <td>-67.1667</td>\n",
       "      <td>D20180128T012708_IFCB116_00681.png</td>\n",
       "      <td>1.0</td>\n",
       "    </tr>\n",
       "    <tr>\n",
       "      <th>468219</th>\n",
       "      <td>D20190121T024844_IFCB116_02944</td>\n",
       "      <td>Predicted</td>\n",
       "      <td>chain&lt;centric</td>\n",
       "      <td>good</td>\n",
       "      <td>-68.3802</td>\n",
       "      <td>-71.7153</td>\n",
       "      <td>D20190121T024844_IFCB116_02944.png</td>\n",
       "      <td>1.0</td>\n",
       "    </tr>\n",
       "    <tr>\n",
       "      <th>1467032</th>\n",
       "      <td>D20180128T004007_IFCB116_03329</td>\n",
       "      <td>Predicted</td>\n",
       "      <td>centric 4 temp</td>\n",
       "      <td>good</td>\n",
       "      <td>-66.5710</td>\n",
       "      <td>-67.1667</td>\n",
       "      <td>D20180128T004007_IFCB116_03329.png</td>\n",
       "      <td>1.0</td>\n",
       "    </tr>\n",
       "    <tr>\n",
       "      <th>467952</th>\n",
       "      <td>D20190121T024844_IFCB116_02674</td>\n",
       "      <td>Predicted</td>\n",
       "      <td>chain&lt;centric</td>\n",
       "      <td>good</td>\n",
       "      <td>-68.3802</td>\n",
       "      <td>-71.7153</td>\n",
       "      <td>D20190121T024844_IFCB116_02674.png</td>\n",
       "      <td>1.0</td>\n",
       "    </tr>\n",
       "  </tbody>\n",
       "</table>\n",
       "</div>"
      ],
      "text/plain": [
       "                              object_id object_annotation_status  \\\n",
       "1382105  D20180118T064118_IFCB116_01748                Predicted   \n",
       "1470301  D20180128T012708_IFCB116_00681                Predicted   \n",
       "468219   D20190121T024844_IFCB116_02944                Predicted   \n",
       "1467032  D20180128T004007_IFCB116_03329                Predicted   \n",
       "467952   D20190121T024844_IFCB116_02674                Predicted   \n",
       "\n",
       "        object_annotation_category sample_flag  object_lat  object_lon  \\\n",
       "1382105             centric 4 temp        good    -69.2503    -76.1438   \n",
       "1470301             centric 4 temp        good    -66.5710    -67.1667   \n",
       "468219               chain<centric        good    -68.3802    -71.7153   \n",
       "1467032             centric 4 temp        good    -66.5710    -67.1667   \n",
       "467952               chain<centric        good    -68.3802    -71.7153   \n",
       "\n",
       "                            image_file_name  object_score  \n",
       "1382105  D20180118T064118_IFCB116_01748.png           1.0  \n",
       "1470301  D20180128T012708_IFCB116_00681.png           1.0  \n",
       "468219   D20190121T024844_IFCB116_02944.png           1.0  \n",
       "1467032  D20180128T004007_IFCB116_03329.png           1.0  \n",
       "467952   D20190121T024844_IFCB116_02674.png           1.0  "
      ]
     },
     "execution_count": 53,
     "metadata": {},
     "output_type": "execute_result"
    }
   ],
   "source": [
    "buckets = {}\n",
    "for key in id_class_dict:\n",
    "    buckets[key] = 0\n",
    "\n",
    "object_ids = []\n",
    "\n",
    "max_count = 300\n",
    "\n",
    "for index, row in rare_prediction_subset.iterrows():\n",
    "    if buckets[class_id_dict[row['object_annotation_category']]] < max_count:\n",
    "        object_ids.append(row['object_id'])\n",
    "        buckets[class_id_dict[row['object_annotation_category']]] += 1\n",
    "len(object_ids)\n",
    "\n",
    "rare_cut_df = rare_prediction_subset[rare_prediction_subset['object_id'].isin(object_ids)]\n",
    "rare_cut_df.head()"
   ]
  },
  {
   "cell_type": "code",
   "execution_count": 54,
   "metadata": {},
   "outputs": [
    {
     "data": {
      "text/plain": [
       "3089"
      ]
     },
     "execution_count": 54,
     "metadata": {},
     "output_type": "execute_result"
    }
   ],
   "source": [
    "len(rare_cut_df)"
   ]
  },
  {
   "cell_type": "code",
   "execution_count": 55,
   "metadata": {},
   "outputs": [
    {
     "name": "stdout",
     "output_type": "stream",
     "text": [
      "[t]\n",
      "[t]\n",
      "[t]\n",
      "[t]\n",
      "[f]\n",
      "[f]\n",
      "[t]\n",
      "[f]\n"
     ]
    }
   ],
   "source": [
    "dtps = []\n",
    "for dt in rare_cut_df.dtypes:\n",
    "    if dt == 'float64':\n",
    "        dtps.append('f')\n",
    "    elif dt == 'object':\n",
    "        dtps.append('t')\n",
    "for f in dtps:\n",
    "    print('['+f+']')"
   ]
  },
  {
   "cell_type": "code",
   "execution_count": 59,
   "metadata": {},
   "outputs": [],
   "source": [
    "prediction_subset.to_csv('../ecotaxa_cnn_predictions_1900000_051020.csv', sep='\\t')\n",
    "#rare_cut_df.to_csv('../ecotaxa_cnn_predictions_1900000_rare_051020.csv', sep='\\t')"
   ]
  },
  {
   "cell_type": "code",
   "execution_count": 58,
   "metadata": {},
   "outputs": [
    {
     "data": {
      "image/png": "[encoded data removed]",
      "text/plain": [
       "<Figure size 864x1296 with 1 Axes>"
      ]
     },
     "metadata": {
      "needs_background": "light"
     },
     "output_type": "display_data"
    }
   ],
   "source": [
    "fig, ax = plt.subplots(figsize=(12, 18))\n",
    "ax.scatter(counts, classes)\n",
    "ax.set_yticks(classes)\n",
    "ax.set_yticklabels([id_class_dict[x] for x in classes])\n",
    "#ax.set_xlim(-10,500)\n",
    "#ax.set_xscale('log')\n",
    "\n",
    "# Don't allow the axis to be on top of your data\n",
    "ax.set_axisbelow(True)\n",
    "\n",
    "# Turn on the minor TICKS, which are required for the minor GRID\n",
    "#ax.minorticks_on()\n",
    "\n",
    "# Customize the major grid\n",
    "ax.grid(which='major', linestyle='-', linewidth='0.5', color='grey', axis='y')\n",
    "# Customize the minor grid\n",
    "#ax.grid(which='minor', linestyle=':', linewidth='0.5', color='black')\n",
    "#plt.savefig('output_predictions.png', dpi=300)\n",
    "plt.show()"
   ]
  },
  {
   "cell_type": "code",
   "execution_count": 146,
   "metadata": {},
   "outputs": [],
   "source": [
    "min_count = 20\n",
    "unique_validated = available_subset.groupby('object_annotation_category')['object_id'].nunique()\n",
    "\n",
    "sufficient_classes = unique_validated[unique_validated >= min_count]"
   ]
  },
  {
   "cell_type": "code",
   "execution_count": 147,
   "metadata": {},
   "outputs": [
    {
     "data": {
      "text/plain": [
       "73"
      ]
     },
     "execution_count": 147,
     "metadata": {},
     "output_type": "execute_result"
    }
   ],
   "source": [
    "len(sufficient_classes)"
   ]
  },
  {
   "cell_type": "code",
   "execution_count": 46,
   "metadata": {},
   "outputs": [
    {
     "data": {
      "text/plain": [
       "(array([ 0,  1,  2,  3,  4,  5,  6,  7,  8,  9, 10, 11, 12, 13, 14, 15, 16,\n",
       "        17, 19, 20, 21, 22, 23, 24, 25, 26, 27, 28, 29, 30, 33, 34, 35, 36,\n",
       "        37, 38, 39, 40, 41, 42, 44, 45, 46, 47, 48, 49, 50, 51, 52, 53, 54,\n",
       "        55, 56, 57, 58, 59, 60, 61, 62, 63, 64, 65, 66, 67, 68, 69, 70]),\n",
       " array([  26,  296,    1,    6,   58,   83,   39,   18,  935,   51,   14,\n",
       "          28,  143,    1,    2,    1,    4,  169,   16,    9,    6,   21,\n",
       "         492,    1,   15,    6,   65,  362,    5,   37,    1, 1671,  563,\n",
       "          62,   85,   48,  142,   34,    3,   10,   19,  469,  140,  141,\n",
       "           2,   44,   94,   52,   33,  877,   12,   16, 5581, 1519,    9,\n",
       "           6,  244, 1566,    2, 1348,  874,  857,   22,   36,   25,   50,\n",
       "         204]))"
      ]
     },
     "execution_count": 46,
     "metadata": {},
     "output_type": "execute_result"
    }
   ],
   "source": [
    "#classes, counts = np.unique(labels, return_counts=True)\n",
    "classes, counts"
   ]
  },
  {
   "cell_type": "code",
   "execution_count": 47,
   "metadata": {},
   "outputs": [
    {
     "data": {
      "text/plain": [
       "object_annotation_category\n",
       "Amphiprora                     5339\n",
       "Bacillariophyceae             28443\n",
       "Banquisia belgicae               46\n",
       "Ceratium                        224\n",
       "Chaetoceros single             4805\n",
       "Chaetoceros<Mediophyceae       1438\n",
       "Ciliophora                     7245\n",
       "Corethron                       919\n",
       "Cryptophyta                   70779\n",
       "Cylindrotheca                  3572\n",
       "Dactyliosolen                   708\n",
       "Dictyochales                  12322\n",
       "Dinophyceae                   12792\n",
       "Dinophysis                       48\n",
       "Diplopsalis<Dinophyceae X        22\n",
       "Eucampia                        279\n",
       "Eucampia chain                   74\n",
       "Guinardia                       518\n",
       "Gymnodinium                   14367\n",
       "Gyrodinium                      174\n",
       "Katodinium                      838\n",
       "Licmophora                      104\n",
       "Membraneis                      322\n",
       "Navicula                       1484\n",
       "Nitzschia frigida             20343\n",
       "Odontella sp.                    37\n",
       "Phaeocystis                    2792\n",
       "Proboscia sp.                  1235\n",
       "Pseudo-Nitzschia chain         6347\n",
       "Pyramimonas                  113296\n",
       "                              ...  \n",
       "centric 6 temp                  434\n",
       "chain<centric                    31\n",
       "chain<pennate                  1701\n",
       "detritus                       8449\n",
       "dinoflagellate-i              13245\n",
       "dinoflagellate-ii             13006\n",
       "dinoflagellate-iii             1004\n",
       "multiple<other                 4447\n",
       "part<other                    50258\n",
       "pennate 10 temp                3134\n",
       "pennate 11 temp                5552\n",
       "pennate 2 temp                97705\n",
       "pennate 7 temp                 1279\n",
       "pennate<Bacillariophyta         501\n",
       "t002                         609834\n",
       "t003                         186676\n",
       "t004                             22\n",
       "t005                            416\n",
       "t006                            433\n",
       "t007                          14526\n",
       "t008                         145861\n",
       "t009                           1441\n",
       "t010                          95612\n",
       "t011                          21971\n",
       "t012                         120076\n",
       "t013                           2352\n",
       "t016                          13861\n",
       "t017                           2593\n",
       "t019                           2130\n",
       "temp cylindrotheca            15498\n",
       "Name: object_id, Length: 74, dtype: int64"
      ]
     },
     "execution_count": 47,
     "metadata": {},
     "output_type": "execute_result"
    }
   ],
   "source": [
    "sufficient_classes"
   ]
  },
  {
   "cell_type": "code",
   "execution_count": 48,
   "metadata": {},
   "outputs": [
    {
     "data": {
      "image/png": "[encoded data removed]",
      "text/plain": [
       "<Figure size 864x1296 with 1 Axes>"
      ]
     },
     "metadata": {
      "needs_background": "light"
     },
     "output_type": "display_data"
    }
   ],
   "source": [
    "fig, ax = plt.subplots(figsize=(12, 18))\n",
    "ax.scatter(sufficient_classes.values, range(0,len(sufficient_classes)))\n",
    "ax.set_yticks(range(0,len(sufficient_classes)))\n",
    "ax.set_yticklabels(list(sufficient_classes.index))\n",
    "#ax.set_xlim(-10,500)\n",
    "#ax.set_xscale('log')\n",
    "\n",
    "# Don't allow the axis to be on top of your data\n",
    "ax.set_axisbelow(True)\n",
    "\n",
    "# Turn on the minor TICKS, which are required for the minor GRID\n",
    "#ax.minorticks_on()\n",
    "\n",
    "# Customize the major grid\n",
    "ax.grid(which='major', linestyle='-', linewidth='0.5', color='grey', axis='y')\n",
    "# Customize the minor grid\n",
    "#ax.grid(which='minor', linestyle=':', linewidth='0.5', color='black')\n",
    "plt.show()"
   ]
  },
  {
   "cell_type": "code",
   "execution_count": 145,
   "metadata": {},
   "outputs": [
    {
     "ename": "NameError",
     "evalue": "name 'sufficient_classes' is not defined",
     "output_type": "error",
     "traceback": [
      "\u001b[0;31m---------------------------------------------------------------------------\u001b[0m",
      "\u001b[0;31mNameError\u001b[0m                                 Traceback (most recent call last)",
      "\u001b[0;32m<ipython-input-145-9cc2e051f223>\u001b[0m in \u001b[0;36m<module>\u001b[0;34m\u001b[0m\n\u001b[1;32m      1\u001b[0m \u001b[0mfig\u001b[0m\u001b[0;34m,\u001b[0m \u001b[0max\u001b[0m \u001b[0;34m=\u001b[0m \u001b[0mplt\u001b[0m\u001b[0;34m.\u001b[0m\u001b[0msubplots\u001b[0m\u001b[0;34m(\u001b[0m\u001b[0;36m1\u001b[0m\u001b[0;34m,\u001b[0m\u001b[0;36m2\u001b[0m\u001b[0;34m,\u001b[0m \u001b[0mfigsize\u001b[0m\u001b[0;34m=\u001b[0m\u001b[0;34m(\u001b[0m\u001b[0;36m18\u001b[0m\u001b[0;34m,\u001b[0m \u001b[0;36m18\u001b[0m\u001b[0;34m)\u001b[0m\u001b[0;34m)\u001b[0m\u001b[0;34m\u001b[0m\u001b[0m\n\u001b[0;32m----> 2\u001b[0;31m \u001b[0max\u001b[0m\u001b[0;34m[\u001b[0m\u001b[0;36m1\u001b[0m\u001b[0;34m]\u001b[0m\u001b[0;34m.\u001b[0m\u001b[0mscatter\u001b[0m\u001b[0;34m(\u001b[0m\u001b[0msufficient_classes\u001b[0m\u001b[0;34m.\u001b[0m\u001b[0mvalues\u001b[0m\u001b[0;34m,\u001b[0m \u001b[0mrange\u001b[0m\u001b[0;34m(\u001b[0m\u001b[0;36m0\u001b[0m\u001b[0;34m,\u001b[0m\u001b[0mlen\u001b[0m\u001b[0;34m(\u001b[0m\u001b[0msufficient_classes\u001b[0m\u001b[0;34m)\u001b[0m\u001b[0;34m)\u001b[0m\u001b[0;34m)\u001b[0m\u001b[0;34m\u001b[0m\u001b[0m\n\u001b[0m\u001b[1;32m      3\u001b[0m \u001b[0max\u001b[0m\u001b[0;34m[\u001b[0m\u001b[0;36m1\u001b[0m\u001b[0;34m]\u001b[0m\u001b[0;34m.\u001b[0m\u001b[0mset_yticks\u001b[0m\u001b[0;34m(\u001b[0m\u001b[0mrange\u001b[0m\u001b[0;34m(\u001b[0m\u001b[0;36m0\u001b[0m\u001b[0;34m,\u001b[0m\u001b[0mlen\u001b[0m\u001b[0;34m(\u001b[0m\u001b[0msufficient_classes\u001b[0m\u001b[0;34m)\u001b[0m\u001b[0;34m)\u001b[0m\u001b[0;34m)\u001b[0m\u001b[0;34m\u001b[0m\u001b[0m\n\u001b[1;32m      4\u001b[0m \u001b[0max\u001b[0m\u001b[0;34m[\u001b[0m\u001b[0;36m1\u001b[0m\u001b[0;34m]\u001b[0m\u001b[0;34m.\u001b[0m\u001b[0mset_yticklabels\u001b[0m\u001b[0;34m(\u001b[0m\u001b[0mlist\u001b[0m\u001b[0;34m(\u001b[0m\u001b[0msufficient_classes\u001b[0m\u001b[0;34m.\u001b[0m\u001b[0mindex\u001b[0m\u001b[0;34m)\u001b[0m\u001b[0;34m)\u001b[0m\u001b[0;34m\u001b[0m\u001b[0m\n\u001b[1;32m      5\u001b[0m \u001b[0;31m#ax.set_xlim(-10,500)\u001b[0m\u001b[0;34m\u001b[0m\u001b[0;34m\u001b[0m\u001b[0m\n",
      "\u001b[0;31mNameError\u001b[0m: name 'sufficient_classes' is not defined"
     ]
    },
    {
     "data": {
      "image/png": "[encoded data removed]",
      "text/plain": [
       "<Figure size 1296x1296 with 2 Axes>"
      ]
     },
     "metadata": {
      "needs_background": "light"
     },
     "output_type": "display_data"
    }
   ],
   "source": [
    "fig, ax = plt.subplots(1,2, figsize=(18, 18))\n",
    "ax[1].scatter(sufficient_classes.values, range(0,len(sufficient_classes)))\n",
    "ax[1].set_yticks(range(0,len(sufficient_classes)))\n",
    "ax[1].set_yticklabels(list(sufficient_classes.index))\n",
    "#ax.set_xlim(-10,500)\n",
    "#ax.set_xscale('log')\n",
    "\n",
    "# Don't allow the axis to be on top of your data\n",
    "ax[1].set_axisbelow(True)\n",
    "ax[1].set_xlim(-10,5000)\n",
    "ax[1].set_title(\"Predictions\")\n",
    "\n",
    "\n",
    "# Turn on the minor TICKS, which are required for the minor GRID\n",
    "#ax.minorticks_on()\n",
    "\n",
    "# Customize the major grid\n",
    "ax[1].grid(which='major', linestyle='-', linewidth='0.5', color='grey', axis='y')\n",
    "# Customize the minor grid\n",
    "#ax.grid(which='minor', linestyle=':', linewidth='0.5', color='black')\n",
    "\n",
    "ax[0].scatter(counts, classes)\n",
    "ax[0].set_yticks(range(0,len(class_id_dict)))\n",
    "ax[0].set_yticklabels([id_class_dict[x] for x in classes])\n",
    "ax[0].set_xlim(-10,2500)\n",
    "#ax.set_xscale('log')\n",
    "\n",
    "# Don't allow the axis to be on top of your data\n",
    "ax[0].set_axisbelow(True)\n",
    "ax[0].set_title(\"Validated Data\")\n",
    "\n",
    "# Turn on the minor TICKS, which are required for the minor GRID\n",
    "#ax.minorticks_on()\n",
    "\n",
    "# Customize the major grid\n",
    "ax[0].grid(which='major', linestyle='-', linewidth='0.5', color='grey', axis='y')\n",
    "# Customize the minor grid\n",
    "#ax.grid(which='minor', linestyle=':', linewidth='0.5', color='black')\n",
    "plt.savefig('output_predictions_comparison_full.png', dpi=300)\n",
    "plt.show()"
   ]
  },
  {
   "cell_type": "code",
   "execution_count": null,
   "metadata": {},
   "outputs": [],
   "source": [
    "# pull out only validated images and run it on them and see how close the total numbers compare"
   ]
  }
 ],
 "metadata": {
  "kernelspec": {
   "display_name": "Python 3",
   "language": "python",
   "name": "python3"
  },
  "language_info": {
   "codemirror_mode": {
    "name": "ipython",
    "version": 3
   },
   "file_extension": ".py",
   "mimetype": "text/x-python",
   "name": "python",
   "nbconvert_exporter": "python",
   "pygments_lexer": "ipython3",
   "version": "3.5.2"
  }
 },
 "nbformat": 4,
 "nbformat_minor": 2
}
